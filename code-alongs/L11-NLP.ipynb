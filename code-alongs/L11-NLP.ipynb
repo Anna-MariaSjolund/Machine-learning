{
 "cells": [
  {
   "cell_type": "markdown",
   "metadata": {},
   "source": [
    "# NLP intro"
   ]
  },
  {
   "cell_type": "code",
   "execution_count": 6,
   "metadata": {},
   "outputs": [
    {
     "name": "stdout",
     "output_type": "stream",
     "text": [
      "[['i', 'love', 'this', 'book', 'about', 'love'], ['no', 'this', 'book', 'was', 'okay']]\n",
      "Flattened all words: ['i', 'love', 'this', 'book', 'about', 'love', 'no', 'this', 'book', 'was', 'okay']\n",
      "Unique words {'about', 'love', 'i', 'okay', 'this', 'no', 'was', 'book'}\n"
     ]
    }
   ],
   "source": [
    "import numpy as np\n",
    "\n",
    "review1 = \"I LOVE this book about love\"\n",
    "review2 = \"No this book was okay\"\n",
    "\n",
    "all_words = [text.lower().split() for text in [review1, review2]]\n",
    "print(all_words)\n",
    "\n",
    "# flatten this list, can also add lists with + operator\n",
    "all_words = [word for text in all_words for word in text]\n",
    "print(f\"Flattened all words: {all_words}\")\n",
    "\n",
    "unique_words = set(all_words)\n",
    "print(f\"Unique words {unique_words}\")"
   ]
  },
  {
   "cell_type": "code",
   "execution_count": 13,
   "metadata": {},
   "outputs": [
    {
     "name": "stdout",
     "output_type": "stream",
     "text": [
      "{'about': 0, 'love': 1, 'i': 2, 'okay': 3, 'this': 4, 'no': 5, 'was': 6, 'book': 7}\n",
      "I LOVE this book about love\n",
      "[1. 2. 1. 0. 1. 0. 0. 1.]\n",
      "No this book was okay\n",
      "[0. 0. 0. 1. 1. 1. 1. 1.]\n"
     ]
    }
   ],
   "source": [
    "#Make dictionary of all words\n",
    "vocabulary = {word: index for index, word in enumerate(unique_words)}\n",
    "print(vocabulary)\n",
    "\n",
    "def term_frequency_vectorizer(document, vocabulary):\n",
    "    term_frequency = np.zeros(len(vocabulary))\n",
    "\n",
    "    for word in document.lower().split():\n",
    "        index = vocabulary[word] #This gives us the index, since the word is the key\n",
    "        term_frequency[index] += 1 #Increase the term frequency for that index\n",
    "    \n",
    "    return term_frequency\n",
    "\n",
    "review1_term_freq = term_frequency_vectorizer(review1, vocabulary)\n",
    "review2_term_freq = term_frequency_vectorizer(review2, vocabulary)\n",
    "\n",
    "print(review1)\n",
    "print(review1_term_freq)\n",
    "print(review2)\n",
    "print(review2_term_freq)"
   ]
  },
  {
   "cell_type": "code",
   "execution_count": 14,
   "metadata": {},
   "outputs": [
    {
     "data": {
      "text/html": [
       "<div>\n",
       "<style scoped>\n",
       "    .dataframe tbody tr th:only-of-type {\n",
       "        vertical-align: middle;\n",
       "    }\n",
       "\n",
       "    .dataframe tbody tr th {\n",
       "        vertical-align: top;\n",
       "    }\n",
       "\n",
       "    .dataframe thead th {\n",
       "        text-align: right;\n",
       "    }\n",
       "</style>\n",
       "<table border=\"1\" class=\"dataframe\">\n",
       "  <thead>\n",
       "    <tr style=\"text-align: right;\">\n",
       "      <th></th>\n",
       "      <th>about</th>\n",
       "      <th>love</th>\n",
       "      <th>i</th>\n",
       "      <th>okay</th>\n",
       "      <th>this</th>\n",
       "      <th>no</th>\n",
       "      <th>was</th>\n",
       "      <th>book</th>\n",
       "    </tr>\n",
       "  </thead>\n",
       "  <tbody>\n",
       "    <tr>\n",
       "      <th>0</th>\n",
       "      <td>1</td>\n",
       "      <td>2</td>\n",
       "      <td>1</td>\n",
       "      <td>0</td>\n",
       "      <td>1</td>\n",
       "      <td>0</td>\n",
       "      <td>0</td>\n",
       "      <td>1</td>\n",
       "    </tr>\n",
       "    <tr>\n",
       "      <th>1</th>\n",
       "      <td>0</td>\n",
       "      <td>0</td>\n",
       "      <td>0</td>\n",
       "      <td>1</td>\n",
       "      <td>1</td>\n",
       "      <td>1</td>\n",
       "      <td>1</td>\n",
       "      <td>1</td>\n",
       "    </tr>\n",
       "  </tbody>\n",
       "</table>\n",
       "</div>"
      ],
      "text/plain": [
       "   about  love  i  okay  this  no  was  book\n",
       "0      1     2  1     0     1   0    0     1\n",
       "1      0     0  0     1     1   1    1     1"
      ]
     },
     "execution_count": 14,
     "metadata": {},
     "output_type": "execute_result"
    }
   ],
   "source": [
    "import pandas as pd\n",
    "\n",
    "bag_of_words = pd.DataFrame([review1_term_freq, review2_term_freq], columns=vocabulary.keys(), dtype=\"int16\")\n",
    "\n",
    "bag_of_words"
   ]
  },
  {
   "cell_type": "markdown",
   "metadata": {},
   "source": [
    "### Feature Extraction with sklearn"
   ]
  },
  {
   "cell_type": "code",
   "execution_count": 19,
   "metadata": {},
   "outputs": [
    {
     "data": {
      "text/plain": [
       "(matrix([[1, 1, 2, 0, 0, 1, 0],\n",
       "         [0, 1, 0, 1, 1, 1, 1]]),\n",
       " array(['about', 'book', 'love', 'no', 'okay', 'this', 'was'], dtype=object))"
      ]
     },
     "execution_count": 19,
     "metadata": {},
     "output_type": "execute_result"
    }
   ],
   "source": [
    "from sklearn.feature_extraction.text import CountVectorizer, TfidfTransformer, TfidfVectorizer\n",
    "\n",
    "count_vectorizer = CountVectorizer()\n",
    "bag_of_words_sparse = count_vectorizer.fit_transform([review1, review2]) # With text data we often work with sparse matrix\n",
    "bag_of_words_sparse.todense(), count_vectorizer.get_feature_names_out() #It has thrown away \"i\""
   ]
  },
  {
   "cell_type": "code",
   "execution_count": 21,
   "metadata": {},
   "outputs": [
    {
     "data": {
      "text/html": [
       "<div>\n",
       "<style scoped>\n",
       "    .dataframe tbody tr th:only-of-type {\n",
       "        vertical-align: middle;\n",
       "    }\n",
       "\n",
       "    .dataframe tbody tr th {\n",
       "        vertical-align: top;\n",
       "    }\n",
       "\n",
       "    .dataframe thead th {\n",
       "        text-align: right;\n",
       "    }\n",
       "</style>\n",
       "<table border=\"1\" class=\"dataframe\">\n",
       "  <thead>\n",
       "    <tr style=\"text-align: right;\">\n",
       "      <th></th>\n",
       "      <th>about</th>\n",
       "      <th>book</th>\n",
       "      <th>love</th>\n",
       "      <th>no</th>\n",
       "      <th>okay</th>\n",
       "      <th>this</th>\n",
       "      <th>was</th>\n",
       "    </tr>\n",
       "  </thead>\n",
       "  <tbody>\n",
       "    <tr>\n",
       "      <th>0</th>\n",
       "      <td>1</td>\n",
       "      <td>1</td>\n",
       "      <td>2</td>\n",
       "      <td>0</td>\n",
       "      <td>0</td>\n",
       "      <td>1</td>\n",
       "      <td>0</td>\n",
       "    </tr>\n",
       "    <tr>\n",
       "      <th>1</th>\n",
       "      <td>0</td>\n",
       "      <td>1</td>\n",
       "      <td>0</td>\n",
       "      <td>1</td>\n",
       "      <td>1</td>\n",
       "      <td>1</td>\n",
       "      <td>1</td>\n",
       "    </tr>\n",
       "  </tbody>\n",
       "</table>\n",
       "</div>"
      ],
      "text/plain": [
       "   about  book  love  no  okay  this  was\n",
       "0      1     1     2   0     0     1    0\n",
       "1      0     1     0   1     1     1    1"
      ]
     },
     "execution_count": 21,
     "metadata": {},
     "output_type": "execute_result"
    }
   ],
   "source": [
    "bag_of_words = pd.DataFrame(bag_of_words_sparse.todense(), columns=count_vectorizer.get_feature_names_out())\n",
    "bag_of_words"
   ]
  },
  {
   "cell_type": "code",
   "execution_count": 22,
   "metadata": {},
   "outputs": [
    {
     "data": {
      "text/plain": [
       "<2x7 sparse matrix of type '<class 'numpy.float64'>'\n",
       "\twith 9 stored elements in Compressed Sparse Row format>"
      ]
     },
     "execution_count": 22,
     "metadata": {},
     "output_type": "execute_result"
    }
   ],
   "source": [
    "tfidf_transformer = TfidfTransformer()\n",
    "tfidf = tfidf_transformer.fit_transform(bag_of_words_sparse) #Do not do this on really large dataset\n",
    "tfidf"
   ]
  },
  {
   "cell_type": "code",
   "execution_count": 24,
   "metadata": {},
   "outputs": [
    {
     "data": {
      "text/plain": [
       "matrix([[0.4078241 , 0.29017021, 0.81564821, 0.        , 0.        ,\n",
       "         0.29017021, 0.        ],\n",
       "        [0.        , 0.35520009, 0.        , 0.49922133, 0.49922133,\n",
       "         0.35520009, 0.49922133]])"
      ]
     },
     "execution_count": 24,
     "metadata": {},
     "output_type": "execute_result"
    }
   ],
   "source": [
    "tfidf.todense() "
   ]
  },
  {
   "cell_type": "code",
   "execution_count": 25,
   "metadata": {},
   "outputs": [
    {
     "data": {
      "text/plain": [
       "matrix([[0.4078241 , 0.29017021, 0.81564821, 0.        , 0.        ,\n",
       "         0.29017021, 0.        ],\n",
       "        [0.        , 0.35520009, 0.        , 0.49922133, 0.49922133,\n",
       "         0.35520009, 0.49922133]])"
      ]
     },
     "execution_count": 25,
     "metadata": {},
     "output_type": "execute_result"
    }
   ],
   "source": [
    "# Creates tfidf vector in one go \n",
    "tfidf_vectorizer = TfidfVectorizer()\n",
    "tfidf_vectorizer.fit_transform([review1, review2]).todense()"
   ]
  }
 ],
 "metadata": {
  "interpreter": {
   "hash": "d1d182cab5de0882657872144a5d9f98098dd37790142aef776ee634127eddf8"
  },
  "kernelspec": {
   "display_name": "Python 3.9.10 ('Machine-learning-Anna-MariaSjolund-8kbAf2Oi')",
   "language": "python",
   "name": "python3"
  },
  "language_info": {
   "codemirror_mode": {
    "name": "ipython",
    "version": 3
   },
   "file_extension": ".py",
   "mimetype": "text/x-python",
   "name": "python",
   "nbconvert_exporter": "python",
   "pygments_lexer": "ipython3",
   "version": "3.9.10"
  },
  "orig_nbformat": 4
 },
 "nbformat": 4,
 "nbformat_minor": 2
}
