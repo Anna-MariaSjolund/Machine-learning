{
 "cells": [
  {
   "cell_type": "markdown",
   "metadata": {},
   "source": [
    "# Gradient Descent\n",
    "\n",
    "$X \\sim \\mathcal{U}(0,1)$ \\\n",
    "$y = 2 + 9X + \\epsilon$ \\\n",
    "$\\epsilon = \\mathcal{N}(0, 1)$\n"
   ]
  },
  {
   "cell_type": "code",
   "execution_count": 1,
   "metadata": {},
   "outputs": [
    {
     "data": {
      "text/plain": [
       "[<matplotlib.lines.Line2D at 0x1280e4df0>]"
      ]
     },
     "execution_count": 1,
     "metadata": {},
     "output_type": "execute_result"
    },
    {
     "data": {
      "image/png": "[encoded data removed]",
      "text/plain": [
       "<Figure size 432x288 with 1 Axes>"
      ]
     },
     "metadata": {
      "needs_background": "light"
     },
     "output_type": "display_data"
    }
   ],
   "source": [
    "import pandas as pd\n",
    "import numpy as np\n",
    "import matplotlib.pyplot as plt\n",
    "from sklearn.model_selection import train_test_split\n",
    "\n",
    "samples = 1000\n",
    "X = np.random.randn(samples, 1)\n",
    "noise = np.random.randn(samples, 1)\n",
    "y = 2 + 9 * X + noise\n",
    "plt.plot(X, y, \".\")"
   ]
  },
  {
   "cell_type": "code",
   "execution_count": 20,
   "metadata": {},
   "outputs": [
    {
     "data": {
      "text/plain": [
       "array([[ 1.        , -0.65288367],\n",
       "       [ 1.        , -0.08031196],\n",
       "       [ 1.        , -0.817945  ],\n",
       "       [ 1.        , -0.50487884],\n",
       "       [ 1.        , -1.30306983]])"
      ]
     },
     "execution_count": 20,
     "metadata": {},
     "output_type": "execute_result"
    }
   ],
   "source": [
    "X = np.c_[np.ones(samples), X] #c_ concatenates \n",
    "X[:5]\n"
   ]
  },
  {
   "cell_type": "markdown",
   "metadata": {},
   "source": [
    "### Train|test split"
   ]
  },
  {
   "cell_type": "code",
   "execution_count": 22,
   "metadata": {},
   "outputs": [
    {
     "data": {
      "text/plain": [
       "((670, 2), (330, 2), (670, 1), (330, 1))"
      ]
     },
     "execution_count": 22,
     "metadata": {},
     "output_type": "execute_result"
    }
   ],
   "source": [
    "X_train, X_test, y_train, y_test = train_test_split(X, y, test_size = 0.33, random_state=42)\n",
    "X_train.shape, X_test.shape, y_train.shape, y_test.shape"
   ]
  },
  {
   "cell_type": "code",
   "execution_count": 38,
   "metadata": {},
   "outputs": [
    {
     "data": {
      "text/plain": [
       "array([2.06612651, 8.94454338])"
      ]
     },
     "execution_count": 38,
     "metadata": {},
     "output_type": "execute_result"
    }
   ],
   "source": [
    "def gradient_descent(X, y, learning_rate = .1, epochs=100):\n",
    "    m = len(X)\n",
    "\n",
    "    theta = np.random.randn(X.shape[1], 1) #Picks out the second part of the shape\n",
    "\n",
    "    for _ in range(epochs): #Batch gradient descent\n",
    "        gradient = 2 / m * X.T @ (X @ theta - y)\n",
    "        theta -= learning_rate * gradient\n",
    "\n",
    "    return theta\n",
    "\n",
    "theta = gradient_descent(X_train, y_train)\n",
    "theta #close to 2 and 9 (as created above)\n",
    "theta.reshape(-1)"
   ]
  },
  {
   "cell_type": "code",
   "execution_count": 39,
   "metadata": {},
   "outputs": [
    {
     "data": {
      "text/plain": [
       "2"
      ]
     },
     "execution_count": 39,
     "metadata": {},
     "output_type": "execute_result"
    }
   ],
   "source": [
    "#Show how to pick up the shape dimensions\n",
    "X_train.shape[1]"
   ]
  },
  {
   "cell_type": "code",
   "execution_count": 41,
   "metadata": {},
   "outputs": [
    {
     "data": {
      "text/plain": [
       "(199, 2)"
      ]
     },
     "execution_count": 41,
     "metadata": {},
     "output_type": "execute_result"
    }
   ],
   "source": [
    "epochs = range(1, 200) #All numbers between 1 and 200 in an array\n",
    "thetas = np.array([gradient_descent(X_train, y_train, epochs = epoch).reshape(-1) for epoch in epochs])\n",
    "thetas.shape"
   ]
  },
  {
   "cell_type": "code",
   "execution_count": 42,
   "metadata": {},
   "outputs": [
    {
     "data": {
      "text/plain": [
       "[<matplotlib.lines.Line2D at 0x11fb36130>,\n",
       " <matplotlib.lines.Line2D at 0x11fb36190>]"
      ]
     },
     "execution_count": 42,
     "metadata": {},
     "output_type": "execute_result"
    },
    {
     "data": {
      "image/png": "[encoded data removed]",
      "text/plain": [
       "<Figure size 600x400 with 1 Axes>"
      ]
     },
     "metadata": {
      "needs_background": "light"
     },
     "output_type": "display_data"
    }
   ],
   "source": [
    "fig, ax = plt.figure(dpi=100), plt.axes()\n",
    "ax.plot(epochs, thetas)"
   ]
  },
  {
   "cell_type": "markdown",
   "metadata": {},
   "source": [
    "### Stochastic Gradient Descent (SGD)"
   ]
  },
  {
   "cell_type": "code",
   "execution_count": 43,
   "metadata": {},
   "outputs": [
    {
     "data": {
      "text/plain": [
       "array([[2.08070097],\n",
       "       [8.90591459]])"
      ]
     },
     "execution_count": 43,
     "metadata": {},
     "output_type": "execute_result"
    }
   ],
   "source": [
    "epochs = 10\n",
    "t0, t1 = 5, 50 #Learning schedule parameters. Scales the learning rate (we do not want it to take the same steps every time, it should take smaller steps at the end)\n",
    "\n",
    "def learning_rate_schedule(t):\n",
    "    \"\"\"Decrease learning rate as training progresses\"\"\"\n",
    "    return t0/(t+t1) #It will be a smaller number as t increases\n",
    "\n",
    "theta = np.random.rand(2, 1)\n",
    "m = len(X_train)\n",
    "\n",
    "for epoch in range(epochs):\n",
    "    for i in range(m): #As many samples as the length\n",
    "        random_index = np.random.randint(m)\n",
    "        x_i = X_train[random_index:random_index+1] #We pick out a random sample\n",
    "        y_i = y_train[random_index:random_index+1]\n",
    "        gradients = 2 * x_i.T.dot(x_i.dot(theta) - y_i) #Same as the equation above gradient = 2 / m * X.T @ (X @ theta - y)\n",
    "        eta = learning_rate_schedule(epoch * m + i)\n",
    "        theta -= eta * gradients\n",
    "\n",
    "theta #Already for 10 epochs we have a good estimate\n"
   ]
  }
 ],
 "metadata": {
  "interpreter": {
   "hash": "24b2b38bc1e9ddd56d5d48605ed740875b7396ec4cf44526dec4922ec1792486"
  },
  "kernelspec": {
   "display_name": "Python 3.9.10 ('Machine-learning-eL-DZ95M')",
   "language": "python",
   "name": "python3"
  },
  "language_info": {
   "codemirror_mode": {
    "name": "ipython",
    "version": 3
   },
   "file_extension": ".py",
   "mimetype": "text/x-python",
   "name": "python",
   "nbconvert_exporter": "python",
   "pygments_lexer": "ipython3",
   "version": "3.9.10"
  },
  "orig_nbformat": 4
 },
 "nbformat": 4,
 "nbformat_minor": 2
}
