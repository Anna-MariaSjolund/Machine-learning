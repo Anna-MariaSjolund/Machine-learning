{
 "cells": [
  {
   "cell_type": "markdown",
   "metadata": {},
   "source": [
    "# Lab - Disease prediction"
   ]
  },
  {
   "cell_type": "code",
   "execution_count": 1,
   "metadata": {},
   "outputs": [],
   "source": [
    "import numpy as np\n",
    "import pandas as pd\n",
    "import matplotlib.pyplot as plt\n",
    "import seaborn as sns\n",
    "import scipy.stats as stats"
   ]
  },
  {
   "cell_type": "markdown",
   "metadata": {},
   "source": [
    "I det här momentet kommer vi jobba med ett dataset med data för hjärt-kärlsjukdom. Börja med att ladda\n",
    "ned datasetet från Kaggle och läs på vad de olika features betyder. Notera att detta dataset innehåller\n",
    "många felaktigheter, exempelvis finns negativa blodtryck och blodtryck som är omöjligt höga."
   ]
  },
  {
   "cell_type": "markdown",
   "metadata": {},
   "source": [
    "Data description\n",
    "There are 3 types of input features:\n",
    "\n",
    "Objective: factual information; \\\n",
    "Examination: results of medical examination; \\\n",
    "Subjective: information given by the patient. \\\n",
    "Features: \n",
    "\n",
    "Age | Objective Feature | age | int (days) \\\n",
    "Height | Objective Feature | height | int (cm) | \\\n",
    "Weight | Objective Feature | weight | float (kg) | \\\n",
    "Gender | Objective Feature | gender | categorical code | 1: women, 2: men\\\n",
    "Systolic blood pressure | Examination Feature | ap_hi | int | \\\n",
    "Diastolic blood pressure | Examination Feature | ap_lo | int | \\\n",
    "Cholesterol | Examination Feature | cholesterol | 1: normal, 2: above normal, 3: well above normal | \\\n",
    "Glucose | Examination Feature | gluc | 1: normal, 2: above normal, 3: well above normal | \\\n",
    "Smoking | Subjective Feature | smoke | binary | \\\n",
    "Alcohol intake | Subjective Feature | alco | binary | \\\n",
    "Physical activity | Subjective Feature | active | binary | \\\n",
    "Presence or absence of cardiovascular disease | Target Variable | cardio | binary | \\\n",
    "All of the dataset values were collected at the moment of medical examination. "
   ]
  },
  {
   "cell_type": "markdown",
   "metadata": {},
   "source": [
    "However, there is no information about what the values of the binary variables represent. I will assume that 0 means not present/no and 1 means present/yes."
   ]
  },
  {
   "cell_type": "code",
   "execution_count": 2,
   "metadata": {},
   "outputs": [
    {
     "data": {
      "text/html": [
       "<div>\n",
       "<style scoped>\n",
       "    .dataframe tbody tr th:only-of-type {\n",
       "        vertical-align: middle;\n",
       "    }\n",
       "\n",
       "    .dataframe tbody tr th {\n",
       "        vertical-align: top;\n",
       "    }\n",
       "\n",
       "    .dataframe thead th {\n",
       "        text-align: right;\n",
       "    }\n",
       "</style>\n",
       "<table border=\"1\" class=\"dataframe\">\n",
       "  <thead>\n",
       "    <tr style=\"text-align: right;\">\n",
       "      <th></th>\n",
       "      <th>id</th>\n",
       "      <th>age</th>\n",
       "      <th>gender</th>\n",
       "      <th>height</th>\n",
       "      <th>weight</th>\n",
       "      <th>ap_hi</th>\n",
       "      <th>ap_lo</th>\n",
       "      <th>cholesterol</th>\n",
       "      <th>gluc</th>\n",
       "      <th>smoke</th>\n",
       "      <th>alco</th>\n",
       "      <th>active</th>\n",
       "      <th>cardio</th>\n",
       "    </tr>\n",
       "  </thead>\n",
       "  <tbody>\n",
       "    <tr>\n",
       "      <th>0</th>\n",
       "      <td>0</td>\n",
       "      <td>18393</td>\n",
       "      <td>2</td>\n",
       "      <td>168</td>\n",
       "      <td>62.0</td>\n",
       "      <td>110</td>\n",
       "      <td>80</td>\n",
       "      <td>1</td>\n",
       "      <td>1</td>\n",
       "      <td>0</td>\n",
       "      <td>0</td>\n",
       "      <td>1</td>\n",
       "      <td>0</td>\n",
       "    </tr>\n",
       "    <tr>\n",
       "      <th>1</th>\n",
       "      <td>1</td>\n",
       "      <td>20228</td>\n",
       "      <td>1</td>\n",
       "      <td>156</td>\n",
       "      <td>85.0</td>\n",
       "      <td>140</td>\n",
       "      <td>90</td>\n",
       "      <td>3</td>\n",
       "      <td>1</td>\n",
       "      <td>0</td>\n",
       "      <td>0</td>\n",
       "      <td>1</td>\n",
       "      <td>1</td>\n",
       "    </tr>\n",
       "    <tr>\n",
       "      <th>2</th>\n",
       "      <td>2</td>\n",
       "      <td>18857</td>\n",
       "      <td>1</td>\n",
       "      <td>165</td>\n",
       "      <td>64.0</td>\n",
       "      <td>130</td>\n",
       "      <td>70</td>\n",
       "      <td>3</td>\n",
       "      <td>1</td>\n",
       "      <td>0</td>\n",
       "      <td>0</td>\n",
       "      <td>0</td>\n",
       "      <td>1</td>\n",
       "    </tr>\n",
       "    <tr>\n",
       "      <th>3</th>\n",
       "      <td>3</td>\n",
       "      <td>17623</td>\n",
       "      <td>2</td>\n",
       "      <td>169</td>\n",
       "      <td>82.0</td>\n",
       "      <td>150</td>\n",
       "      <td>100</td>\n",
       "      <td>1</td>\n",
       "      <td>1</td>\n",
       "      <td>0</td>\n",
       "      <td>0</td>\n",
       "      <td>1</td>\n",
       "      <td>1</td>\n",
       "    </tr>\n",
       "    <tr>\n",
       "      <th>4</th>\n",
       "      <td>4</td>\n",
       "      <td>17474</td>\n",
       "      <td>1</td>\n",
       "      <td>156</td>\n",
       "      <td>56.0</td>\n",
       "      <td>100</td>\n",
       "      <td>60</td>\n",
       "      <td>1</td>\n",
       "      <td>1</td>\n",
       "      <td>0</td>\n",
       "      <td>0</td>\n",
       "      <td>0</td>\n",
       "      <td>0</td>\n",
       "    </tr>\n",
       "    <tr>\n",
       "      <th>...</th>\n",
       "      <td>...</td>\n",
       "      <td>...</td>\n",
       "      <td>...</td>\n",
       "      <td>...</td>\n",
       "      <td>...</td>\n",
       "      <td>...</td>\n",
       "      <td>...</td>\n",
       "      <td>...</td>\n",
       "      <td>...</td>\n",
       "      <td>...</td>\n",
       "      <td>...</td>\n",
       "      <td>...</td>\n",
       "      <td>...</td>\n",
       "    </tr>\n",
       "    <tr>\n",
       "      <th>69995</th>\n",
       "      <td>99993</td>\n",
       "      <td>19240</td>\n",
       "      <td>2</td>\n",
       "      <td>168</td>\n",
       "      <td>76.0</td>\n",
       "      <td>120</td>\n",
       "      <td>80</td>\n",
       "      <td>1</td>\n",
       "      <td>1</td>\n",
       "      <td>1</td>\n",
       "      <td>0</td>\n",
       "      <td>1</td>\n",
       "      <td>0</td>\n",
       "    </tr>\n",
       "    <tr>\n",
       "      <th>69996</th>\n",
       "      <td>99995</td>\n",
       "      <td>22601</td>\n",
       "      <td>1</td>\n",
       "      <td>158</td>\n",
       "      <td>126.0</td>\n",
       "      <td>140</td>\n",
       "      <td>90</td>\n",
       "      <td>2</td>\n",
       "      <td>2</td>\n",
       "      <td>0</td>\n",
       "      <td>0</td>\n",
       "      <td>1</td>\n",
       "      <td>1</td>\n",
       "    </tr>\n",
       "    <tr>\n",
       "      <th>69997</th>\n",
       "      <td>99996</td>\n",
       "      <td>19066</td>\n",
       "      <td>2</td>\n",
       "      <td>183</td>\n",
       "      <td>105.0</td>\n",
       "      <td>180</td>\n",
       "      <td>90</td>\n",
       "      <td>3</td>\n",
       "      <td>1</td>\n",
       "      <td>0</td>\n",
       "      <td>1</td>\n",
       "      <td>0</td>\n",
       "      <td>1</td>\n",
       "    </tr>\n",
       "    <tr>\n",
       "      <th>69998</th>\n",
       "      <td>99998</td>\n",
       "      <td>22431</td>\n",
       "      <td>1</td>\n",
       "      <td>163</td>\n",
       "      <td>72.0</td>\n",
       "      <td>135</td>\n",
       "      <td>80</td>\n",
       "      <td>1</td>\n",
       "      <td>2</td>\n",
       "      <td>0</td>\n",
       "      <td>0</td>\n",
       "      <td>0</td>\n",
       "      <td>1</td>\n",
       "    </tr>\n",
       "    <tr>\n",
       "      <th>69999</th>\n",
       "      <td>99999</td>\n",
       "      <td>20540</td>\n",
       "      <td>1</td>\n",
       "      <td>170</td>\n",
       "      <td>72.0</td>\n",
       "      <td>120</td>\n",
       "      <td>80</td>\n",
       "      <td>2</td>\n",
       "      <td>1</td>\n",
       "      <td>0</td>\n",
       "      <td>0</td>\n",
       "      <td>1</td>\n",
       "      <td>0</td>\n",
       "    </tr>\n",
       "  </tbody>\n",
       "</table>\n",
       "<p>70000 rows × 13 columns</p>\n",
       "</div>"
      ],
      "text/plain": [
       "          id    age  gender  height  weight  ap_hi  ap_lo  cholesterol  gluc  \\\n",
       "0          0  18393       2     168    62.0    110     80            1     1   \n",
       "1          1  20228       1     156    85.0    140     90            3     1   \n",
       "2          2  18857       1     165    64.0    130     70            3     1   \n",
       "3          3  17623       2     169    82.0    150    100            1     1   \n",
       "4          4  17474       1     156    56.0    100     60            1     1   \n",
       "...      ...    ...     ...     ...     ...    ...    ...          ...   ...   \n",
       "69995  99993  19240       2     168    76.0    120     80            1     1   \n",
       "69996  99995  22601       1     158   126.0    140     90            2     2   \n",
       "69997  99996  19066       2     183   105.0    180     90            3     1   \n",
       "69998  99998  22431       1     163    72.0    135     80            1     2   \n",
       "69999  99999  20540       1     170    72.0    120     80            2     1   \n",
       "\n",
       "       smoke  alco  active  cardio  \n",
       "0          0     0       1       0  \n",
       "1          0     0       1       1  \n",
       "2          0     0       0       1  \n",
       "3          0     0       1       1  \n",
       "4          0     0       0       0  \n",
       "...      ...   ...     ...     ...  \n",
       "69995      1     0       1       0  \n",
       "69996      0     0       1       1  \n",
       "69997      0     1       0       1  \n",
       "69998      0     0       0       1  \n",
       "69999      0     0       1       0  \n",
       "\n",
       "[70000 rows x 13 columns]"
      ]
     },
     "execution_count": 2,
     "metadata": {},
     "output_type": "execute_result"
    }
   ],
   "source": [
    "df_cardio = pd.read_csv(\"Data/cardio_train.csv\", sep=\";\")\n",
    "df_cardio"
   ]
  },
  {
   "cell_type": "code",
   "execution_count": 3,
   "metadata": {},
   "outputs": [
    {
     "data": {
      "text/html": [
       "<div>\n",
       "<style scoped>\n",
       "    .dataframe tbody tr th:only-of-type {\n",
       "        vertical-align: middle;\n",
       "    }\n",
       "\n",
       "    .dataframe tbody tr th {\n",
       "        vertical-align: top;\n",
       "    }\n",
       "\n",
       "    .dataframe thead th {\n",
       "        text-align: right;\n",
       "    }\n",
       "</style>\n",
       "<table border=\"1\" class=\"dataframe\">\n",
       "  <thead>\n",
       "    <tr style=\"text-align: right;\">\n",
       "      <th></th>\n",
       "      <th>id</th>\n",
       "      <th>age</th>\n",
       "      <th>gender</th>\n",
       "      <th>height</th>\n",
       "      <th>weight</th>\n",
       "      <th>ap_hi</th>\n",
       "      <th>ap_lo</th>\n",
       "      <th>cholesterol</th>\n",
       "      <th>gluc</th>\n",
       "      <th>smoke</th>\n",
       "      <th>alco</th>\n",
       "      <th>active</th>\n",
       "      <th>cardio</th>\n",
       "    </tr>\n",
       "  </thead>\n",
       "  <tbody>\n",
       "    <tr>\n",
       "      <th>count</th>\n",
       "      <td>70000.000000</td>\n",
       "      <td>70000.000000</td>\n",
       "      <td>70000.000000</td>\n",
       "      <td>70000.000000</td>\n",
       "      <td>70000.000000</td>\n",
       "      <td>70000.000000</td>\n",
       "      <td>70000.000000</td>\n",
       "      <td>70000.000000</td>\n",
       "      <td>70000.000000</td>\n",
       "      <td>70000.000000</td>\n",
       "      <td>70000.000000</td>\n",
       "      <td>70000.000000</td>\n",
       "      <td>70000.000000</td>\n",
       "    </tr>\n",
       "    <tr>\n",
       "      <th>mean</th>\n",
       "      <td>49972.419900</td>\n",
       "      <td>19468.865814</td>\n",
       "      <td>1.349571</td>\n",
       "      <td>164.359229</td>\n",
       "      <td>74.205690</td>\n",
       "      <td>128.817286</td>\n",
       "      <td>96.630414</td>\n",
       "      <td>1.366871</td>\n",
       "      <td>1.226457</td>\n",
       "      <td>0.088129</td>\n",
       "      <td>0.053771</td>\n",
       "      <td>0.803729</td>\n",
       "      <td>0.499700</td>\n",
       "    </tr>\n",
       "    <tr>\n",
       "      <th>std</th>\n",
       "      <td>28851.302323</td>\n",
       "      <td>2467.251667</td>\n",
       "      <td>0.476838</td>\n",
       "      <td>8.210126</td>\n",
       "      <td>14.395757</td>\n",
       "      <td>154.011419</td>\n",
       "      <td>188.472530</td>\n",
       "      <td>0.680250</td>\n",
       "      <td>0.572270</td>\n",
       "      <td>0.283484</td>\n",
       "      <td>0.225568</td>\n",
       "      <td>0.397179</td>\n",
       "      <td>0.500003</td>\n",
       "    </tr>\n",
       "    <tr>\n",
       "      <th>min</th>\n",
       "      <td>0.000000</td>\n",
       "      <td>10798.000000</td>\n",
       "      <td>1.000000</td>\n",
       "      <td>55.000000</td>\n",
       "      <td>10.000000</td>\n",
       "      <td>-150.000000</td>\n",
       "      <td>-70.000000</td>\n",
       "      <td>1.000000</td>\n",
       "      <td>1.000000</td>\n",
       "      <td>0.000000</td>\n",
       "      <td>0.000000</td>\n",
       "      <td>0.000000</td>\n",
       "      <td>0.000000</td>\n",
       "    </tr>\n",
       "    <tr>\n",
       "      <th>25%</th>\n",
       "      <td>25006.750000</td>\n",
       "      <td>17664.000000</td>\n",
       "      <td>1.000000</td>\n",
       "      <td>159.000000</td>\n",
       "      <td>65.000000</td>\n",
       "      <td>120.000000</td>\n",
       "      <td>80.000000</td>\n",
       "      <td>1.000000</td>\n",
       "      <td>1.000000</td>\n",
       "      <td>0.000000</td>\n",
       "      <td>0.000000</td>\n",
       "      <td>1.000000</td>\n",
       "      <td>0.000000</td>\n",
       "    </tr>\n",
       "    <tr>\n",
       "      <th>50%</th>\n",
       "      <td>50001.500000</td>\n",
       "      <td>19703.000000</td>\n",
       "      <td>1.000000</td>\n",
       "      <td>165.000000</td>\n",
       "      <td>72.000000</td>\n",
       "      <td>120.000000</td>\n",
       "      <td>80.000000</td>\n",
       "      <td>1.000000</td>\n",
       "      <td>1.000000</td>\n",
       "      <td>0.000000</td>\n",
       "      <td>0.000000</td>\n",
       "      <td>1.000000</td>\n",
       "      <td>0.000000</td>\n",
       "    </tr>\n",
       "    <tr>\n",
       "      <th>75%</th>\n",
       "      <td>74889.250000</td>\n",
       "      <td>21327.000000</td>\n",
       "      <td>2.000000</td>\n",
       "      <td>170.000000</td>\n",
       "      <td>82.000000</td>\n",
       "      <td>140.000000</td>\n",
       "      <td>90.000000</td>\n",
       "      <td>2.000000</td>\n",
       "      <td>1.000000</td>\n",
       "      <td>0.000000</td>\n",
       "      <td>0.000000</td>\n",
       "      <td>1.000000</td>\n",
       "      <td>1.000000</td>\n",
       "    </tr>\n",
       "    <tr>\n",
       "      <th>max</th>\n",
       "      <td>99999.000000</td>\n",
       "      <td>23713.000000</td>\n",
       "      <td>2.000000</td>\n",
       "      <td>250.000000</td>\n",
       "      <td>200.000000</td>\n",
       "      <td>16020.000000</td>\n",
       "      <td>11000.000000</td>\n",
       "      <td>3.000000</td>\n",
       "      <td>3.000000</td>\n",
       "      <td>1.000000</td>\n",
       "      <td>1.000000</td>\n",
       "      <td>1.000000</td>\n",
       "      <td>1.000000</td>\n",
       "    </tr>\n",
       "  </tbody>\n",
       "</table>\n",
       "</div>"
      ],
      "text/plain": [
       "                 id           age        gender        height        weight  \\\n",
       "count  70000.000000  70000.000000  70000.000000  70000.000000  70000.000000   \n",
       "mean   49972.419900  19468.865814      1.349571    164.359229     74.205690   \n",
       "std    28851.302323   2467.251667      0.476838      8.210126     14.395757   \n",
       "min        0.000000  10798.000000      1.000000     55.000000     10.000000   \n",
       "25%    25006.750000  17664.000000      1.000000    159.000000     65.000000   \n",
       "50%    50001.500000  19703.000000      1.000000    165.000000     72.000000   \n",
       "75%    74889.250000  21327.000000      2.000000    170.000000     82.000000   \n",
       "max    99999.000000  23713.000000      2.000000    250.000000    200.000000   \n",
       "\n",
       "              ap_hi         ap_lo   cholesterol          gluc         smoke  \\\n",
       "count  70000.000000  70000.000000  70000.000000  70000.000000  70000.000000   \n",
       "mean     128.817286     96.630414      1.366871      1.226457      0.088129   \n",
       "std      154.011419    188.472530      0.680250      0.572270      0.283484   \n",
       "min     -150.000000    -70.000000      1.000000      1.000000      0.000000   \n",
       "25%      120.000000     80.000000      1.000000      1.000000      0.000000   \n",
       "50%      120.000000     80.000000      1.000000      1.000000      0.000000   \n",
       "75%      140.000000     90.000000      2.000000      1.000000      0.000000   \n",
       "max    16020.000000  11000.000000      3.000000      3.000000      1.000000   \n",
       "\n",
       "               alco        active        cardio  \n",
       "count  70000.000000  70000.000000  70000.000000  \n",
       "mean       0.053771      0.803729      0.499700  \n",
       "std        0.225568      0.397179      0.500003  \n",
       "min        0.000000      0.000000      0.000000  \n",
       "25%        0.000000      1.000000      0.000000  \n",
       "50%        0.000000      1.000000      0.000000  \n",
       "75%        0.000000      1.000000      1.000000  \n",
       "max        1.000000      1.000000      1.000000  "
      ]
     },
     "execution_count": 3,
     "metadata": {},
     "output_type": "execute_result"
    }
   ],
   "source": [
    "df_cardio.describe()"
   ]
  },
  {
   "cell_type": "code",
   "execution_count": 4,
   "metadata": {},
   "outputs": [
    {
     "name": "stdout",
     "output_type": "stream",
     "text": [
      "<class 'pandas.core.frame.DataFrame'>\n",
      "RangeIndex: 70000 entries, 0 to 69999\n",
      "Data columns (total 13 columns):\n",
      " #   Column       Non-Null Count  Dtype  \n",
      "---  ------       --------------  -----  \n",
      " 0   id           70000 non-null  int64  \n",
      " 1   age          70000 non-null  int64  \n",
      " 2   gender       70000 non-null  int64  \n",
      " 3   height       70000 non-null  int64  \n",
      " 4   weight       70000 non-null  float64\n",
      " 5   ap_hi        70000 non-null  int64  \n",
      " 6   ap_lo        70000 non-null  int64  \n",
      " 7   cholesterol  70000 non-null  int64  \n",
      " 8   gluc         70000 non-null  int64  \n",
      " 9   smoke        70000 non-null  int64  \n",
      " 10  alco         70000 non-null  int64  \n",
      " 11  active       70000 non-null  int64  \n",
      " 12  cardio       70000 non-null  int64  \n",
      "dtypes: float64(1), int64(12)\n",
      "memory usage: 6.9 MB\n"
     ]
    }
   ],
   "source": [
    "df_cardio.info() # No missig values"
   ]
  },
  {
   "cell_type": "markdown",
   "metadata": {},
   "source": [
    "### 2.0 - EDA uppvärmning\n",
    "\n",
    "Använd pandas, matplotlib och seaborn för att besvara på följande frågor för datasetet:\n",
    "a) Hur många är positiva för hjärt-kärlsjukdom och hur många är negativa?"
   ]
  },
  {
   "cell_type": "code",
   "execution_count": 5,
   "metadata": {},
   "outputs": [
    {
     "name": "stdout",
     "output_type": "stream",
     "text": [
      "Number of positive cases for cardiovascular disease: 34979\n",
      "Number of negative cases for cardiovascular disease: 35021\n"
     ]
    }
   ],
   "source": [
    "cardio_count = df_cardio[\"cardio\"].value_counts().to_frame()\n",
    "\n",
    "print(f\"Number of positive cases for cardiovascular disease: {cardio_count['cardio'].iloc[1]}\")\n",
    "print(f\"Number of negative cases for cardiovascular disease: {cardio_count['cardio'].iloc[0]}\")"
   ]
  },
  {
   "cell_type": "markdown",
   "metadata": {},
   "source": [
    "b) Hur stor andel har normala, över normala och långt över normala kolesterolvärden? Rita ett tårtdiagram."
   ]
  },
  {
   "cell_type": "code",
   "execution_count": 6,
   "metadata": {},
   "outputs": [
    {
     "data": {
      "text/html": [
       "<div>\n",
       "<style scoped>\n",
       "    .dataframe tbody tr th:only-of-type {\n",
       "        vertical-align: middle;\n",
       "    }\n",
       "\n",
       "    .dataframe tbody tr th {\n",
       "        vertical-align: top;\n",
       "    }\n",
       "\n",
       "    .dataframe thead th {\n",
       "        text-align: right;\n",
       "    }\n",
       "</style>\n",
       "<table border=\"1\" class=\"dataframe\">\n",
       "  <thead>\n",
       "    <tr style=\"text-align: right;\">\n",
       "      <th></th>\n",
       "      <th>cholesterol</th>\n",
       "    </tr>\n",
       "  </thead>\n",
       "  <tbody>\n",
       "    <tr>\n",
       "      <th>1</th>\n",
       "      <td>52385</td>\n",
       "    </tr>\n",
       "    <tr>\n",
       "      <th>2</th>\n",
       "      <td>9549</td>\n",
       "    </tr>\n",
       "    <tr>\n",
       "      <th>3</th>\n",
       "      <td>8066</td>\n",
       "    </tr>\n",
       "  </tbody>\n",
       "</table>\n",
       "</div>"
      ],
      "text/plain": [
       "   cholesterol\n",
       "1        52385\n",
       "2         9549\n",
       "3         8066"
      ]
     },
     "execution_count": 6,
     "metadata": {},
     "output_type": "execute_result"
    }
   ],
   "source": [
    "cholesterol_count = df_cardio[\"cholesterol\"].value_counts().to_frame()\n",
    "cholesterol_count"
   ]
  },
  {
   "cell_type": "code",
   "execution_count": 7,
   "metadata": {},
   "outputs": [
    {
     "data": {
      "image/png": "[encoded data removed]",
      "text/plain": [
       "<Figure size 720x480 with 1 Axes>"
      ]
     },
     "metadata": {},
     "output_type": "display_data"
    }
   ],
   "source": [
    "fig, ax = plt.subplots(dpi=120, facecolor=\"white\")\n",
    "plt.pie(cholesterol_count[\"cholesterol\"], \n",
    "            labels=[\"Normal\", \"Above Normal\", \"Well Above Normal\"], \n",
    "            colors=[\"darkgreen\", \"gold\", \"red\"],\n",
    "            autopct=\"%1.1f%%\")\n",
    "_ = ax.set_title(\"Cholesterol Values\")"
   ]
  },
  {
   "cell_type": "markdown",
   "metadata": {},
   "source": [
    "c) Hur ser åldersfördelningen ut? Rita ett histogram."
   ]
  },
  {
   "cell_type": "code",
   "execution_count": 8,
   "metadata": {},
   "outputs": [
    {
     "data": {
      "text/html": [
       "<div>\n",
       "<style scoped>\n",
       "    .dataframe tbody tr th:only-of-type {\n",
       "        vertical-align: middle;\n",
       "    }\n",
       "\n",
       "    .dataframe tbody tr th {\n",
       "        vertical-align: top;\n",
       "    }\n",
       "\n",
       "    .dataframe thead th {\n",
       "        text-align: right;\n",
       "    }\n",
       "</style>\n",
       "<table border=\"1\" class=\"dataframe\">\n",
       "  <thead>\n",
       "    <tr style=\"text-align: right;\">\n",
       "      <th></th>\n",
       "      <th>Age</th>\n",
       "    </tr>\n",
       "  </thead>\n",
       "  <tbody>\n",
       "    <tr>\n",
       "      <th>0</th>\n",
       "      <td>50.391781</td>\n",
       "    </tr>\n",
       "    <tr>\n",
       "      <th>1</th>\n",
       "      <td>55.419178</td>\n",
       "    </tr>\n",
       "    <tr>\n",
       "      <th>2</th>\n",
       "      <td>51.663014</td>\n",
       "    </tr>\n",
       "    <tr>\n",
       "      <th>3</th>\n",
       "      <td>48.282192</td>\n",
       "    </tr>\n",
       "    <tr>\n",
       "      <th>4</th>\n",
       "      <td>47.873973</td>\n",
       "    </tr>\n",
       "    <tr>\n",
       "      <th>...</th>\n",
       "      <td>...</td>\n",
       "    </tr>\n",
       "    <tr>\n",
       "      <th>69995</th>\n",
       "      <td>52.712329</td>\n",
       "    </tr>\n",
       "    <tr>\n",
       "      <th>69996</th>\n",
       "      <td>61.920548</td>\n",
       "    </tr>\n",
       "    <tr>\n",
       "      <th>69997</th>\n",
       "      <td>52.235616</td>\n",
       "    </tr>\n",
       "    <tr>\n",
       "      <th>69998</th>\n",
       "      <td>61.454795</td>\n",
       "    </tr>\n",
       "    <tr>\n",
       "      <th>69999</th>\n",
       "      <td>56.273973</td>\n",
       "    </tr>\n",
       "  </tbody>\n",
       "</table>\n",
       "<p>70000 rows × 1 columns</p>\n",
       "</div>"
      ],
      "text/plain": [
       "             Age\n",
       "0      50.391781\n",
       "1      55.419178\n",
       "2      51.663014\n",
       "3      48.282192\n",
       "4      47.873973\n",
       "...          ...\n",
       "69995  52.712329\n",
       "69996  61.920548\n",
       "69997  52.235616\n",
       "69998  61.454795\n",
       "69999  56.273973\n",
       "\n",
       "[70000 rows x 1 columns]"
      ]
     },
     "execution_count": 8,
     "metadata": {},
     "output_type": "execute_result"
    }
   ],
   "source": [
    "ages = pd.DataFrame({\"Age\": df_cardio[\"age\"]/365})\n",
    "ages"
   ]
  },
  {
   "cell_type": "code",
   "execution_count": 9,
   "metadata": {},
   "outputs": [
    {
     "data": {
      "text/plain": [
       "(Age    29.583562\n",
       " dtype: float64,\n",
       " Age    64.967123\n",
       " dtype: float64)"
      ]
     },
     "execution_count": 9,
     "metadata": {},
     "output_type": "execute_result"
    }
   ],
   "source": [
    "ages.min(), ages.max()"
   ]
  },
  {
   "cell_type": "code",
   "execution_count": 10,
   "metadata": {},
   "outputs": [
    {
     "data": {
      "image/png": "[encoded data removed]",
      "text/plain": [
       "<Figure size 720x480 with 1 Axes>"
      ]
     },
     "metadata": {
      "needs_background": "light"
     },
     "output_type": "display_data"
    }
   ],
   "source": [
    "fig = plt.figure(dpi=120)\n",
    "ax = sns.histplot(ages, bins=range(25, 70, 5), legend=False)\n",
    "_ = ax.set(title=\"Age Distribution\", xlabel=\"Age\")"
   ]
  },
  {
   "cell_type": "markdown",
   "metadata": {},
   "source": [
    "d) Hur stor andel röker?"
   ]
  },
  {
   "cell_type": "code",
   "execution_count": 11,
   "metadata": {},
   "outputs": [
    {
     "name": "stdout",
     "output_type": "stream",
     "text": [
      "8.8% of the participants smoke.\n"
     ]
    }
   ],
   "source": [
    "print(f\"{df_cardio['smoke'].sum()/len(df_cardio)*100:.1f}% of the participants smoke.\")"
   ]
  },
  {
   "cell_type": "markdown",
   "metadata": {},
   "source": [
    "e) Hur ser viktfördelningen ut? Rita lämpligt diagram."
   ]
  },
  {
   "cell_type": "code",
   "execution_count": 12,
   "metadata": {},
   "outputs": [
    {
     "data": {
      "text/plain": [
       "(10.0, 200.0)"
      ]
     },
     "execution_count": 12,
     "metadata": {},
     "output_type": "execute_result"
    }
   ],
   "source": [
    "df_cardio[\"weight\"].min(), df_cardio[\"weight\"].max()"
   ]
  },
  {
   "cell_type": "code",
   "execution_count": 13,
   "metadata": {},
   "outputs": [
    {
     "data": {
      "image/png": "[encoded data removed]",
      "text/plain": [
       "<Figure size 720x480 with 1 Axes>"
      ]
     },
     "metadata": {
      "needs_background": "light"
     },
     "output_type": "display_data"
    }
   ],
   "source": [
    "fig = plt.figure(dpi=120)\n",
    "ax = sns.histplot(df_cardio[\"weight\"], bins=range(10, 205, 5), legend=False)\n",
    "_ = ax.set(title=\"Weight Distribution\", xlabel=\"Weight\")"
   ]
  },
  {
   "cell_type": "markdown",
   "metadata": {},
   "source": [
    "f) Hur ser längdfördelningen ut? Rita lämpligt diagram."
   ]
  },
  {
   "cell_type": "code",
   "execution_count": 14,
   "metadata": {},
   "outputs": [
    {
     "data": {
      "text/plain": [
       "(55, 250)"
      ]
     },
     "execution_count": 14,
     "metadata": {},
     "output_type": "execute_result"
    }
   ],
   "source": [
    "df_cardio[\"height\"].min(), df_cardio[\"height\"].max()"
   ]
  },
  {
   "cell_type": "code",
   "execution_count": 15,
   "metadata": {},
   "outputs": [
    {
     "data": {
      "image/png": "[encoded data removed]",
      "text/plain": [
       "<Figure size 720x480 with 1 Axes>"
      ]
     },
     "metadata": {
      "needs_background": "light"
     },
     "output_type": "display_data"
    }
   ],
   "source": [
    "fig = plt.figure(dpi=120)\n",
    "ax = sns.histplot(df_cardio[\"height\"], bins=range(55, 255, 5))\n",
    "_ = ax.set(title=\"Height Distribution\", xlabel=\"Height\")"
   ]
  },
  {
   "cell_type": "code",
   "execution_count": 16,
   "metadata": {},
   "outputs": [
    {
     "data": {
      "image/png": "[encoded data removed]",
      "text/plain": [
       "<Figure size 720x480 with 1 Axes>"
      ]
     },
     "metadata": {
      "needs_background": "light"
     },
     "output_type": "display_data"
    }
   ],
   "source": [
    "fig = plt.figure(dpi=120)\n",
    "ax = sns.histplot(df_cardio[\"height\"], bins=range(140, 205, 5))\n",
    "_ = ax.set(title=\"Height Distribution\", xlabel=\"Height\")"
   ]
  },
  {
   "cell_type": "markdown",
   "metadata": {},
   "source": [
    "g) Hur stor andel av kvinnor respektive män har hjärt-kärlsjukdom? Rita lämpligt diagram"
   ]
  },
  {
   "cell_type": "markdown",
   "metadata": {},
   "source": [
    "There is no information in the data about which gender is coded as 1 and which is coded as 2. Gender is not balanced."
   ]
  },
  {
   "cell_type": "code",
   "execution_count": 17,
   "metadata": {},
   "outputs": [
    {
     "data": {
      "text/html": [
       "<div>\n",
       "<style scoped>\n",
       "    .dataframe tbody tr th:only-of-type {\n",
       "        vertical-align: middle;\n",
       "    }\n",
       "\n",
       "    .dataframe tbody tr th {\n",
       "        vertical-align: top;\n",
       "    }\n",
       "\n",
       "    .dataframe thead th {\n",
       "        text-align: right;\n",
       "    }\n",
       "</style>\n",
       "<table border=\"1\" class=\"dataframe\">\n",
       "  <thead>\n",
       "    <tr style=\"text-align: right;\">\n",
       "      <th></th>\n",
       "      <th>cardio</th>\n",
       "      <th>gender</th>\n",
       "      <th>%</th>\n",
       "    </tr>\n",
       "  </thead>\n",
       "  <tbody>\n",
       "    <tr>\n",
       "      <th>1</th>\n",
       "      <td>22616</td>\n",
       "      <td>45530</td>\n",
       "      <td>49.67</td>\n",
       "    </tr>\n",
       "    <tr>\n",
       "      <th>2</th>\n",
       "      <td>12363</td>\n",
       "      <td>24470</td>\n",
       "      <td>50.52</td>\n",
       "    </tr>\n",
       "  </tbody>\n",
       "</table>\n",
       "</div>"
      ],
      "text/plain": [
       "   cardio  gender      %\n",
       "1   22616   45530  49.67\n",
       "2   12363   24470  50.52"
      ]
     },
     "execution_count": 17,
     "metadata": {},
     "output_type": "execute_result"
    }
   ],
   "source": [
    "cardio_gender = pd.DataFrame({\"cardio\":df_cardio[\"cardio\"].groupby(df_cardio[\"gender\"]).sum(), \n",
    "                            \"gender\":df_cardio[\"gender\"].value_counts()})\n",
    "cardio_gender[\"%\"] = (cardio_gender[\"cardio\"] / cardio_gender[\"gender\"] * 100).round(2)\n",
    "cardio_gender"
   ]
  },
  {
   "cell_type": "code",
   "execution_count": 18,
   "metadata": {},
   "outputs": [
    {
     "data": {
      "image/png": "[encoded data removed]",
      "text/plain": [
       "<Figure size 720x480 with 1 Axes>"
      ]
     },
     "metadata": {
      "needs_background": "light"
     },
     "output_type": "display_data"
    }
   ],
   "source": [
    "fig = plt.figure(dpi=120)\n",
    "ax = sns.barplot(data=cardio_gender, x=[\"Women\", \"Men\"], y=\"%\")\n",
    "ax.set(xlabel=\"Gender\", title=\"Presence of Cardiovascular Disease Split by Gender\")\n",
    "ax.bar_label(ax.containers[0])\n",
    "ax.margins(y=0.1)"
   ]
  },
  {
   "cell_type": "markdown",
   "metadata": {},
   "source": [
    "### 2.1.0 - Feature engineering BMI\n",
    "Skapa en feature för BMI (Body Mass Index), läs på om formeln på wikipedia.\n",
    "\n",
    "a) Släng de samples med orimliga BMIer och outliers. Notera att detta kan vara svårt att avgöra i vilket\n",
    "range av BMIer som vi ska spara. Beskriv hur du gör avvägningen."
   ]
  },
  {
   "cell_type": "code",
   "execution_count": 19,
   "metadata": {},
   "outputs": [
    {
     "data": {
      "text/plain": [
       "0        21.967120\n",
       "1        34.927679\n",
       "2        23.507805\n",
       "3        28.710479\n",
       "4        23.011177\n",
       "           ...    \n",
       "69995    26.927438\n",
       "69996    50.472681\n",
       "69997    31.353579\n",
       "69998    27.099251\n",
       "69999    24.913495\n",
       "Name: BMI, Length: 70000, dtype: float64"
      ]
     },
     "execution_count": 19,
     "metadata": {},
     "output_type": "execute_result"
    }
   ],
   "source": [
    "df_cardio[\"BMI\"] = df_cardio[\"weight\"] / ((df_cardio[\"height\"]/100)**2)\n",
    "df_cardio[\"BMI\"]"
   ]
  },
  {
   "cell_type": "code",
   "execution_count": 20,
   "metadata": {},
   "outputs": [
    {
     "data": {
      "text/plain": [
       "(3.471783865673526, 298.6666666666667)"
      ]
     },
     "execution_count": 20,
     "metadata": {},
     "output_type": "execute_result"
    }
   ],
   "source": [
    "df_cardio[\"BMI\"].min(), df_cardio[\"BMI\"].max()"
   ]
  },
  {
   "cell_type": "code",
   "execution_count": 21,
   "metadata": {},
   "outputs": [
    {
     "data": {
      "image/png": "[encoded data removed]",
      "text/plain": [
       "<Figure size 720x480 with 1 Axes>"
      ]
     },
     "metadata": {
      "needs_background": "light"
     },
     "output_type": "display_data"
    }
   ],
   "source": [
    "fig, ax = plt.subplots(dpi=120)\n",
    "ax.boxplot(df_cardio[\"BMI\"]);\n",
    "ax.set_title(\"Boxplot of BMI\")\n",
    "ax.set_ylabel(\"BMI\");"
   ]
  },
  {
   "cell_type": "markdown",
   "metadata": {},
   "source": [
    "As can be seen above, the BMI data is extremeley skewed. We have some values very close to 0 and some extremely high values. Some of these values are not possible, for example a BMI of 3.47 or a BMI of 298.7, i.e. the minimum and the maxmum values. Since the data is skewed we should not use z-values for outlier detection. Instead we can use interquartile rule to detect outliers. Calculating outliers this way is not affected to any larger extent by the extreme/impossible high values (as the z-values would) and there is no real need to remove them before the computation. "
   ]
  },
  {
   "cell_type": "code",
   "execution_count": 22,
   "metadata": {},
   "outputs": [],
   "source": [
    "def outlier_cut_off(data:pd.Series):\n",
    "    quant25= np.percentile(data, q=25)\n",
    "    quant75= np.percentile(data, q=75)\n",
    "    iqr = stats.iqr(data)\n",
    "\n",
    "    outlier_low = quant25 - 1.5*iqr\n",
    "    outlier_high = quant75 + 1.5*iqr\n",
    "\n",
    "    return outlier_low, outlier_high"
   ]
  },
  {
   "cell_type": "code",
   "execution_count": 23,
   "metadata": {},
   "outputs": [
    {
     "name": "stdout",
     "output_type": "stream",
     "text": [
      "14.354453627180908 39.74288337924701\n"
     ]
    }
   ],
   "source": [
    "outlier_low_bmi, outlier_high_bmi = outlier_cut_off(df_cardio[\"BMI\"])\n",
    "print(outlier_low_bmi, outlier_high_bmi)"
   ]
  },
  {
   "cell_type": "markdown",
   "metadata": {},
   "source": [
    "A bit interesting is that there are more observations exactly equal to the first quartile than the third quartile, as can be seen below. This leads to that the quartiles do not have the same size. "
   ]
  },
  {
   "cell_type": "code",
   "execution_count": 24,
   "metadata": {},
   "outputs": [
    {
     "name": "stdout",
     "output_type": "stream",
     "text": [
      "Observations in first quartile: 17194\n",
      "Observations in forth quartile: 17483\n",
      "Number of observations exactly equal to the first quantile value: 943\n",
      "Number of observations exactly equal to the third quantile value: 29\n",
      "There is 1 unique value for height and 1 unique value for weight.\n",
      "There is 943 people with a height of 165 and a weight of 65.0.\n"
     ]
    }
   ],
   "source": [
    "bmi_quant25= np.percentile(df_cardio[\"BMI\"], q=25)\n",
    "bmi_quant75= np.percentile(df_cardio[\"BMI\"], q=75)\n",
    "\n",
    "print(f\"Observations in first quartile: {len(df_cardio[df_cardio['BMI'] < bmi_quant25])}\")\n",
    "print(f\"Observations in forth quartile: {len(df_cardio[df_cardio['BMI'] > bmi_quant75])}\")\n",
    "\n",
    "print(f\"Number of observations exactly equal to the first quantile value: {len(df_cardio[df_cardio['BMI'] == bmi_quant25])}\")\n",
    "print(f\"Number of observations exactly equal to the third quantile value: {len(df_cardio[df_cardio['BMI'] == bmi_quant75])}\")\n",
    "\n",
    "values_first_quantile = df_cardio[df_cardio[\"BMI\"] == bmi_quant25]\n",
    "print(f\"There is {values_first_quantile['height'].nunique()} unique value for height and {values_first_quantile['weight'].nunique()} unique value for weight.\")\n",
    "print(f\"There is {len(df_cardio[df_cardio['BMI'] == bmi_quant25])} people with a height of {values_first_quantile['height'].iloc[0]} and a weight of {values_first_quantile['weight'].iloc[0]}.\")"
   ]
  },
  {
   "cell_type": "markdown",
   "metadata": {},
   "source": [
    "If we were to classify an outlier as being a person with a BMI above 39.7 (as calculated by the IQR), we will not be able to classify any observations to obesity class 3. Some previous studies have suggested an even higher obesity category, that is obesity class 4, which is defined as having a BMI above 50. Based on this theory, I therefore decide to classify outliers as people with a BMI above 50. The lower value for outliers, 14.4, seems reasonable."
   ]
  },
  {
   "cell_type": "code",
   "execution_count": 25,
   "metadata": {},
   "outputs": [
    {
     "name": "stdout",
     "output_type": "stream",
     "text": [
      "There are 1628 observations with a BMI between 40 and 50.\n"
     ]
    }
   ],
   "source": [
    "print(f\"There are {len(df_cardio[(df_cardio['BMI'] > 40) & (df_cardio['BMI'] < 50)])} observations with a BMI between 40 and 50.\")"
   ]
  },
  {
   "cell_type": "code",
   "execution_count": 26,
   "metadata": {},
   "outputs": [
    {
     "data": {
      "text/html": [
       "<div>\n",
       "<style scoped>\n",
       "    .dataframe tbody tr th:only-of-type {\n",
       "        vertical-align: middle;\n",
       "    }\n",
       "\n",
       "    .dataframe tbody tr th {\n",
       "        vertical-align: top;\n",
       "    }\n",
       "\n",
       "    .dataframe thead th {\n",
       "        text-align: right;\n",
       "    }\n",
       "</style>\n",
       "<table border=\"1\" class=\"dataframe\">\n",
       "  <thead>\n",
       "    <tr style=\"text-align: right;\">\n",
       "      <th></th>\n",
       "      <th>id</th>\n",
       "      <th>age</th>\n",
       "      <th>gender</th>\n",
       "      <th>height</th>\n",
       "      <th>weight</th>\n",
       "      <th>ap_hi</th>\n",
       "      <th>ap_lo</th>\n",
       "      <th>cholesterol</th>\n",
       "      <th>gluc</th>\n",
       "      <th>smoke</th>\n",
       "      <th>alco</th>\n",
       "      <th>active</th>\n",
       "      <th>cardio</th>\n",
       "      <th>BMI</th>\n",
       "    </tr>\n",
       "  </thead>\n",
       "  <tbody>\n",
       "    <tr>\n",
       "      <th>0</th>\n",
       "      <td>0</td>\n",
       "      <td>18393</td>\n",
       "      <td>2</td>\n",
       "      <td>168</td>\n",
       "      <td>62.0</td>\n",
       "      <td>110</td>\n",
       "      <td>80</td>\n",
       "      <td>1</td>\n",
       "      <td>1</td>\n",
       "      <td>0</td>\n",
       "      <td>0</td>\n",
       "      <td>1</td>\n",
       "      <td>0</td>\n",
       "      <td>21.967120</td>\n",
       "    </tr>\n",
       "    <tr>\n",
       "      <th>1</th>\n",
       "      <td>1</td>\n",
       "      <td>20228</td>\n",
       "      <td>1</td>\n",
       "      <td>156</td>\n",
       "      <td>85.0</td>\n",
       "      <td>140</td>\n",
       "      <td>90</td>\n",
       "      <td>3</td>\n",
       "      <td>1</td>\n",
       "      <td>0</td>\n",
       "      <td>0</td>\n",
       "      <td>1</td>\n",
       "      <td>1</td>\n",
       "      <td>34.927679</td>\n",
       "    </tr>\n",
       "    <tr>\n",
       "      <th>2</th>\n",
       "      <td>2</td>\n",
       "      <td>18857</td>\n",
       "      <td>1</td>\n",
       "      <td>165</td>\n",
       "      <td>64.0</td>\n",
       "      <td>130</td>\n",
       "      <td>70</td>\n",
       "      <td>3</td>\n",
       "      <td>1</td>\n",
       "      <td>0</td>\n",
       "      <td>0</td>\n",
       "      <td>0</td>\n",
       "      <td>1</td>\n",
       "      <td>23.507805</td>\n",
       "    </tr>\n",
       "    <tr>\n",
       "      <th>3</th>\n",
       "      <td>3</td>\n",
       "      <td>17623</td>\n",
       "      <td>2</td>\n",
       "      <td>169</td>\n",
       "      <td>82.0</td>\n",
       "      <td>150</td>\n",
       "      <td>100</td>\n",
       "      <td>1</td>\n",
       "      <td>1</td>\n",
       "      <td>0</td>\n",
       "      <td>0</td>\n",
       "      <td>1</td>\n",
       "      <td>1</td>\n",
       "      <td>28.710479</td>\n",
       "    </tr>\n",
       "    <tr>\n",
       "      <th>4</th>\n",
       "      <td>4</td>\n",
       "      <td>17474</td>\n",
       "      <td>1</td>\n",
       "      <td>156</td>\n",
       "      <td>56.0</td>\n",
       "      <td>100</td>\n",
       "      <td>60</td>\n",
       "      <td>1</td>\n",
       "      <td>1</td>\n",
       "      <td>0</td>\n",
       "      <td>0</td>\n",
       "      <td>0</td>\n",
       "      <td>0</td>\n",
       "      <td>23.011177</td>\n",
       "    </tr>\n",
       "    <tr>\n",
       "      <th>...</th>\n",
       "      <td>...</td>\n",
       "      <td>...</td>\n",
       "      <td>...</td>\n",
       "      <td>...</td>\n",
       "      <td>...</td>\n",
       "      <td>...</td>\n",
       "      <td>...</td>\n",
       "      <td>...</td>\n",
       "      <td>...</td>\n",
       "      <td>...</td>\n",
       "      <td>...</td>\n",
       "      <td>...</td>\n",
       "      <td>...</td>\n",
       "      <td>...</td>\n",
       "    </tr>\n",
       "    <tr>\n",
       "      <th>69994</th>\n",
       "      <td>99992</td>\n",
       "      <td>21074</td>\n",
       "      <td>1</td>\n",
       "      <td>165</td>\n",
       "      <td>80.0</td>\n",
       "      <td>150</td>\n",
       "      <td>80</td>\n",
       "      <td>1</td>\n",
       "      <td>1</td>\n",
       "      <td>0</td>\n",
       "      <td>0</td>\n",
       "      <td>1</td>\n",
       "      <td>1</td>\n",
       "      <td>29.384757</td>\n",
       "    </tr>\n",
       "    <tr>\n",
       "      <th>69995</th>\n",
       "      <td>99993</td>\n",
       "      <td>19240</td>\n",
       "      <td>2</td>\n",
       "      <td>168</td>\n",
       "      <td>76.0</td>\n",
       "      <td>120</td>\n",
       "      <td>80</td>\n",
       "      <td>1</td>\n",
       "      <td>1</td>\n",
       "      <td>1</td>\n",
       "      <td>0</td>\n",
       "      <td>1</td>\n",
       "      <td>0</td>\n",
       "      <td>26.927438</td>\n",
       "    </tr>\n",
       "    <tr>\n",
       "      <th>69997</th>\n",
       "      <td>99996</td>\n",
       "      <td>19066</td>\n",
       "      <td>2</td>\n",
       "      <td>183</td>\n",
       "      <td>105.0</td>\n",
       "      <td>180</td>\n",
       "      <td>90</td>\n",
       "      <td>3</td>\n",
       "      <td>1</td>\n",
       "      <td>0</td>\n",
       "      <td>1</td>\n",
       "      <td>0</td>\n",
       "      <td>1</td>\n",
       "      <td>31.353579</td>\n",
       "    </tr>\n",
       "    <tr>\n",
       "      <th>69998</th>\n",
       "      <td>99998</td>\n",
       "      <td>22431</td>\n",
       "      <td>1</td>\n",
       "      <td>163</td>\n",
       "      <td>72.0</td>\n",
       "      <td>135</td>\n",
       "      <td>80</td>\n",
       "      <td>1</td>\n",
       "      <td>2</td>\n",
       "      <td>0</td>\n",
       "      <td>0</td>\n",
       "      <td>0</td>\n",
       "      <td>1</td>\n",
       "      <td>27.099251</td>\n",
       "    </tr>\n",
       "    <tr>\n",
       "      <th>69999</th>\n",
       "      <td>99999</td>\n",
       "      <td>20540</td>\n",
       "      <td>1</td>\n",
       "      <td>170</td>\n",
       "      <td>72.0</td>\n",
       "      <td>120</td>\n",
       "      <td>80</td>\n",
       "      <td>2</td>\n",
       "      <td>1</td>\n",
       "      <td>0</td>\n",
       "      <td>0</td>\n",
       "      <td>1</td>\n",
       "      <td>0</td>\n",
       "      <td>24.913495</td>\n",
       "    </tr>\n",
       "  </tbody>\n",
       "</table>\n",
       "<p>69743 rows × 14 columns</p>\n",
       "</div>"
      ],
      "text/plain": [
       "          id    age  gender  height  weight  ap_hi  ap_lo  cholesterol  gluc  \\\n",
       "0          0  18393       2     168    62.0    110     80            1     1   \n",
       "1          1  20228       1     156    85.0    140     90            3     1   \n",
       "2          2  18857       1     165    64.0    130     70            3     1   \n",
       "3          3  17623       2     169    82.0    150    100            1     1   \n",
       "4          4  17474       1     156    56.0    100     60            1     1   \n",
       "...      ...    ...     ...     ...     ...    ...    ...          ...   ...   \n",
       "69994  99992  21074       1     165    80.0    150     80            1     1   \n",
       "69995  99993  19240       2     168    76.0    120     80            1     1   \n",
       "69997  99996  19066       2     183   105.0    180     90            3     1   \n",
       "69998  99998  22431       1     163    72.0    135     80            1     2   \n",
       "69999  99999  20540       1     170    72.0    120     80            2     1   \n",
       "\n",
       "       smoke  alco  active  cardio        BMI  \n",
       "0          0     0       1       0  21.967120  \n",
       "1          0     0       1       1  34.927679  \n",
       "2          0     0       0       1  23.507805  \n",
       "3          0     0       1       1  28.710479  \n",
       "4          0     0       0       0  23.011177  \n",
       "...      ...   ...     ...     ...        ...  \n",
       "69994      0     0       1       1  29.384757  \n",
       "69995      1     0       1       0  26.927438  \n",
       "69997      0     1       0       1  31.353579  \n",
       "69998      0     0       0       1  27.099251  \n",
       "69999      0     0       1       0  24.913495  \n",
       "\n",
       "[69743 rows x 14 columns]"
      ]
     },
     "execution_count": 26,
     "metadata": {},
     "output_type": "execute_result"
    }
   ],
   "source": [
    "df_cardio = df_cardio[(df_cardio[\"BMI\"] >= outlier_low_bmi ) & (df_cardio[\"BMI\"] < 50)] \n",
    "df_cardio"
   ]
  },
  {
   "cell_type": "code",
   "execution_count": 27,
   "metadata": {},
   "outputs": [
    {
     "name": "stdout",
     "output_type": "stream",
     "text": [
      "Minimum BMI: 14.5, Maximum BMI: 50.0\n",
      "Minimum height: 98 cm, Maximum height: 207 cm\n",
      "Minimum weight: 28 kg, Maximum weight: 180 kg\n"
     ]
    }
   ],
   "source": [
    "print(f\"Minimum BMI: {df_cardio['BMI'].min():.1f}, Maximum BMI: {df_cardio['BMI'].max():.1f}\")\n",
    "print(f\"Minimum height: {df_cardio['height'].min()} cm, Maximum height: {df_cardio['height'].max():.0f} cm\")\n",
    "print(f\"Minimum weight: {df_cardio['weight'].min():.0f} kg, Maximum weight: {df_cardio['weight'].max():.0f} kg\")"
   ]
  },
  {
   "cell_type": "code",
   "execution_count": 28,
   "metadata": {},
   "outputs": [
    {
     "data": {
      "image/png": "[encoded data removed]",
      "text/plain": [
       "<Figure size 720x480 with 1 Axes>"
      ]
     },
     "metadata": {
      "needs_background": "light"
     },
     "output_type": "display_data"
    }
   ],
   "source": [
    "fig, ax = plt.subplots(dpi=120)\n",
    "ax.boxplot(df_cardio[\"BMI\"]);\n",
    "ax.set_title(\"Boxplot of BMI\")\n",
    "ax.set_ylabel(\"BMI\");"
   ]
  },
  {
   "cell_type": "markdown",
   "metadata": {},
   "source": [
    "The shortest person is 98 cm. However, since dwarfism is a risk factor for cardiovascular disease, I choose to keep this value. If I were to remove it, I would not be able to get good predictions for cardiovascular disease for similar heights."
   ]
  },
  {
   "cell_type": "markdown",
   "metadata": {},
   "source": [
    "b) Skapa en kategorisk BMI-feature med kategorierna: normal range, overweight, obese (class I), obese\n",
    "(class II), obese (class III)."
   ]
  },
  {
   "cell_type": "markdown",
   "metadata": {},
   "source": [
    "Since a low BMI is also a risk factor for cardiovascular diseace, I also choose to create categories for lower body weights. "
   ]
  },
  {
   "cell_type": "code",
   "execution_count": 29,
   "metadata": {},
   "outputs": [],
   "source": [
    "# Reference: https://stackoverflow.com/questions/32633977/how-to-create-categorical-variable-based-on-a-numerical-variable\n",
    "df_cardio=df_cardio.assign(BMI_category=np.nan)\n",
    "df_cardio.loc[(df_cardio[\"BMI\"] < 18.5), \"BMI_category\"] = \"under_weight\"\n",
    "df_cardio.loc[(df_cardio[\"BMI\"] >= 18.5) & (df_cardio[\"BMI\"] <= 25), \"BMI_category\"] = \"normal_weight\"\n",
    "df_cardio.loc[(df_cardio[\"BMI\"] > 25) & (df_cardio[\"BMI\"] <= 30), \"BMI_category\"] = \"over_weight\"\n",
    "df_cardio.loc[(df_cardio[\"BMI\"] > 30) & (df_cardio[\"BMI\"] <= 35), \"BMI_category\"] = \"obesity_class1\"\n",
    "df_cardio.loc[(df_cardio[\"BMI\"] > 35) & (df_cardio[\"BMI\"] <= 40), \"BMI_category\"] = \"obesity_class2\"\n",
    "df_cardio.loc[(df_cardio[\"BMI\"] > 40), \"BMI_category\"] = \"obesity_class3\""
   ]
  },
  {
   "cell_type": "markdown",
   "metadata": {},
   "source": [
    "### 2.1.1 - Feature engineering blodtryck\n",
    "Släng bort samples med orimliga blodtryck och outliers. Likt uppgift 2.1.0 är det inte trivialt att sätta\n",
    "gränserna. Skapa en feature för blodtryckskategorier enligt tabellen i denna artikel."
   ]
  },
  {
   "cell_type": "markdown",
   "metadata": {},
   "source": [
    "As we can see by the boxplots below we have some extremely high and unrealistic blood pressures, which we need to remove. "
   ]
  },
  {
   "cell_type": "code",
   "execution_count": 30,
   "metadata": {},
   "outputs": [
    {
     "data": {
      "image/png": "[encoded data removed]",
      "text/plain": [
       "<Figure size 720x480 with 1 Axes>"
      ]
     },
     "metadata": {
      "needs_background": "light"
     },
     "output_type": "display_data"
    }
   ],
   "source": [
    "fig, ax = plt.subplots(dpi=120)\n",
    "ax.boxplot(df_cardio[\"ap_hi\"]);\n",
    "ax.set_title(\"Boxplot of Systolic Blood Pressure\")\n",
    "ax.set_ylabel(\"Systolic Blood Pressure\");"
   ]
  },
  {
   "cell_type": "code",
   "execution_count": 31,
   "metadata": {},
   "outputs": [
    {
     "data": {
      "image/png": "[encoded data removed]",
      "text/plain": [
       "<Figure size 720x480 with 1 Axes>"
      ]
     },
     "metadata": {
      "needs_background": "light"
     },
     "output_type": "display_data"
    }
   ],
   "source": [
    "fig, ax = plt.subplots(dpi=120)\n",
    "ax.boxplot(df_cardio[\"ap_lo\"]);\n",
    "ax.set_title(\"Boxplot of Diastolic Blood Pressure\")\n",
    "ax.set_ylabel(\"Diastolic Blood Pressure\");"
   ]
  },
  {
   "cell_type": "markdown",
   "metadata": {},
   "source": [
    "We also have negative values. "
   ]
  },
  {
   "cell_type": "code",
   "execution_count": 32,
   "metadata": {},
   "outputs": [
    {
     "name": "stdout",
     "output_type": "stream",
     "text": [
      "Minimum Systolic Blood Pressure: -150, Maximum Systolic Blood Pressure: 16020\n",
      "Minimum Diastolic Blood Pressure: -70, Maximum Diastolic Blood Pressure: 16020\n"
     ]
    }
   ],
   "source": [
    "print(f\"Minimum Systolic Blood Pressure: {df_cardio['ap_hi'].min()}, Maximum Systolic Blood Pressure: {df_cardio['ap_hi'].max()}\")\n",
    "print(f\"Minimum Diastolic Blood Pressure: {df_cardio['ap_lo'].min()}, Maximum Diastolic Blood Pressure: {df_cardio['ap_hi'].max()}\") "
   ]
  },
  {
   "cell_type": "code",
   "execution_count": 33,
   "metadata": {},
   "outputs": [
    {
     "name": "stdout",
     "output_type": "stream",
     "text": [
      "90.0 170.0\n"
     ]
    }
   ],
   "source": [
    "outlier_low_ap_hi, outlier_high_ap_hi = outlier_cut_off(df_cardio[\"ap_hi\"])\n",
    "print(outlier_low_ap_hi, outlier_high_ap_hi)"
   ]
  },
  {
   "cell_type": "code",
   "execution_count": 34,
   "metadata": {},
   "outputs": [
    {
     "name": "stdout",
     "output_type": "stream",
     "text": [
      "Number of observations exactly equal to the first quantile value: 27621\n",
      "Number of observations exactly equal to the third quantile value: 9460\n",
      "There are 320 people with a systolic blood pressure below 90.\n",
      "There are 1097 people with a systolic blood pressure above 170.\n"
     ]
    }
   ],
   "source": [
    "ap_hi_quant25= np.percentile(df_cardio[\"ap_hi\"], q=25)\n",
    "ap_hi_quant75= np.percentile(df_cardio[\"ap_hi\"], q=75)\n",
    "\n",
    "print(f\"Number of observations exactly equal to the first quantile value: {len(df_cardio[df_cardio['ap_hi'] == ap_hi_quant25])}\")\n",
    "print(f\"Number of observations exactly equal to the third quantile value: {len(df_cardio[df_cardio['ap_hi'] == ap_hi_quant75])}\")\n",
    "print(f\"There are {len(df_cardio[df_cardio['ap_hi'] < 90])} people with a systolic blood pressure below 90.\")\n",
    "print(f\"There are {len(df_cardio[df_cardio['ap_hi'] > 170])} people with a systolic blood pressure above 170.\")"
   ]
  },
  {
   "cell_type": "markdown",
   "metadata": {},
   "source": [
    "For systolic blood pressure we have many extreme and unrealistic values (for example 38 observations with values above 700, see below).\n",
    "\n",
    "According to the results above for outlier detection (again based on IQR since data is skewed), we should not include systolic blood pressures below 90 or above 170. \n",
    "\n",
    "A hypertensive crisis is classified as having a systolic blood pressure of above 180 (and/or a diastolic bloodpressure over 120). It is not realistic to take part in a study if your blood pressure is so high that you need immediate hosipital care. However, since I do not know how the data was collected (parts of it could be collected at the hospital) and since I would also like to categorise people to the hypertensive group, I would like to have a somewhat higher cut off. Based on the results below, it seems reasonable to construct a group for people with systolic blood pressures between 180 and 220 (outliers would therefore be blood pressures > 220). This also seems reasonable, based on earlier research (https://pubmed.ncbi.nlm.nih.gov/14689106/). "
   ]
  },
  {
   "cell_type": "code",
   "execution_count": 35,
   "metadata": {},
   "outputs": [
    {
     "name": "stdout",
     "output_type": "stream",
     "text": [
      "There are 362 people with a systolic blood pressure above 180.\n",
      "There are 214 people with a systolic blood pressure above 190.\n",
      "There are 99 people with a systolic blood pressure above 200.\n",
      "There are 73 people with a systolic blood pressure above 210.\n",
      "There are 48 people with a systolic blood pressure above 220.\n",
      "There are 47 people with a systolic blood pressure above 230.\n",
      "There are 40 people with a systolic blood pressure above 240.\n",
      "There are 40 people with a systolic blood pressure above 250.\n",
      "\n",
      "There are 38 people with a systolic blood pressure above 700\n"
     ]
    }
   ],
   "source": [
    "for i in range(180, 260, 10):\n",
    "    print(f\"There are {len(df_cardio[df_cardio['ap_hi'] > i])} people with a systolic blood pressure above {i}.\")\n",
    "\n",
    "print(f\"\\nThere are {len(df_cardio[df_cardio['ap_hi'] > 700])} people with a systolic blood pressure above 700\")"
   ]
  },
  {
   "cell_type": "markdown",
   "metadata": {},
   "source": [
    "I continue checking the diastolic blood pressure. According to the IQR (see below), values below 65 and above 105 should be considered outliers. Again, since I would like to be able to classify people to the hypertensive group, I would like to have a higher cut-off."
   ]
  },
  {
   "cell_type": "code",
   "execution_count": 36,
   "metadata": {},
   "outputs": [
    {
     "name": "stdout",
     "output_type": "stream",
     "text": [
      "65.0 105.0\n"
     ]
    }
   ],
   "source": [
    "outlier_low_ap_lo, outlier_high_ap_lo = outlier_cut_off(df_cardio[\"ap_lo\"])\n",
    "print(outlier_low_ap_lo, outlier_high_ap_lo)"
   ]
  },
  {
   "cell_type": "code",
   "execution_count": 37,
   "metadata": {},
   "outputs": [
    {
     "name": "stdout",
     "output_type": "stream",
     "text": [
      "Number of observations exactly equal to the first quantile value: 34744\n",
      "Number of observations exactly equal to the third quantile value: 14243\n",
      "There are 2925 people with a diastolic blood pressure below 65.\n",
      "There are 1681 people with a diastolic blood pressure above 105.\n"
     ]
    }
   ],
   "source": [
    "ap_lo_quant25= np.percentile(df_cardio[\"ap_lo\"], q=25)\n",
    "ap_lo_quant75= np.percentile(df_cardio[\"ap_lo\"], q=75)\n",
    "\n",
    "print(f\"Number of observations exactly equal to the first quantile value: {len(df_cardio[df_cardio['ap_lo'] == ap_lo_quant25])}\")\n",
    "print(f\"Number of observations exactly equal to the third quantile value: {len(df_cardio[df_cardio['ap_lo'] == ap_lo_quant75])}\")\n",
    "print(f\"There are {len(df_cardio[df_cardio['ap_lo'] < 65])} people with a diastolic blood pressure below 65.\")\n",
    "print(f\"There are {len(df_cardio[df_cardio['ap_lo'] > 105])} people with a diastolic blood pressure above 105.\")"
   ]
  },
  {
   "cell_type": "markdown",
   "metadata": {},
   "source": [
    "There is quite many observations with values below 65 for the diastolic blood pressure (see above). Looking at the results below 60 would probably be a better cut off. We do not want to remove too many observations. "
   ]
  },
  {
   "cell_type": "code",
   "execution_count": 38,
   "metadata": {},
   "outputs": [
    {
     "name": "stdout",
     "output_type": "stream",
     "text": [
      " There are 1 people with a diastolic blood pressure below 0.\n",
      " There are 29 people with a diastolic blood pressure below 10.\n",
      " There are 37 people with a diastolic blood pressure below 20.\n",
      " There are 52 people with a diastolic blood pressure below 30.\n",
      " There are 58 people with a diastolic blood pressure below 40.\n",
      " There are 79 people with a diastolic blood pressure below 50.\n",
      " There are 174 people with a diastolic blood pressure below 60.\n",
      " There are 3146 people with a diastolic blood pressure below 70.\n"
     ]
    }
   ],
   "source": [
    "for i in range(0, 80, 10):\n",
    "    print(f\" There are {len(df_cardio[df_cardio['ap_lo'] < i])} people with a diastolic blood pressure below {i}.\")"
   ]
  },
  {
   "cell_type": "markdown",
   "metadata": {},
   "source": [
    "I continue with examining the number of people with diastolic blood pressures above a certain value. From this it seems reasonable to choose a cut off of 140, since the values after that drops very slowly. This includes some people in the hypertensic group. "
   ]
  },
  {
   "cell_type": "code",
   "execution_count": 39,
   "metadata": {},
   "outputs": [
    {
     "name": "stdout",
     "output_type": "stream",
     "text": [
      "There are 1681 people with a diastolic blood pressure above 105.\n",
      "There are 1267 people with a diastolic blood pressure above 110.\n",
      "There are 1251 people with a diastolic blood pressure above 115.\n",
      "There are 1046 people with a diastolic blood pressure above 120.\n",
      "There are 1042 people with a diastolic blood pressure above 125.\n",
      "There are 1006 people with a diastolic blood pressure above 130.\n",
      "There are 1005 people with a diastolic blood pressure above 135.\n",
      "There are 975 people with a diastolic blood pressure above 140.\n",
      "There are 975 people with a diastolic blood pressure above 145.\n",
      "There are 967 people with a diastolic blood pressure above 150.\n",
      "There are 967 people with a diastolic blood pressure above 155.\n",
      "There are 958 people with a diastolic blood pressure above 160.\n",
      "\n",
      "There are 917 people with a diastolic blood pressure above 900.\n"
     ]
    }
   ],
   "source": [
    "for i in range(105, 165, 5):\n",
    "    print(f\"There are {len(df_cardio[df_cardio['ap_lo'] > i])} people with a diastolic blood pressure above {i}.\")\n",
    "print(f\"\\nThere are {len(df_cardio[df_cardio['ap_lo'] > 900])} people with a diastolic blood pressure above 900.\")"
   ]
  },
  {
   "cell_type": "markdown",
   "metadata": {},
   "source": [
    "Somewhere in the process of identifying outliers I started to suspect that this data is not real. Below I have printed the value counts for all of the diastolic blood pressures between 100 and 140, and it is very clear that every tenth value is highly overrepresented. This makes it difficult to work with the data. "
   ]
  },
  {
   "cell_type": "code",
   "execution_count": 40,
   "metadata": {},
   "outputs": [
    {
     "data": {
      "text/html": [
       "<div>\n",
       "<style scoped>\n",
       "    .dataframe tbody tr th:only-of-type {\n",
       "        vertical-align: middle;\n",
       "    }\n",
       "\n",
       "    .dataframe tbody tr th {\n",
       "        vertical-align: top;\n",
       "    }\n",
       "\n",
       "    .dataframe thead th {\n",
       "        text-align: right;\n",
       "    }\n",
       "</style>\n",
       "<table border=\"1\" class=\"dataframe\">\n",
       "  <thead>\n",
       "    <tr style=\"text-align: right;\">\n",
       "      <th></th>\n",
       "      <th>ap_lo</th>\n",
       "    </tr>\n",
       "  </thead>\n",
       "  <tbody>\n",
       "    <tr>\n",
       "      <th>100</th>\n",
       "      <td>4052</td>\n",
       "    </tr>\n",
       "    <tr>\n",
       "      <th>110</th>\n",
       "      <td>397</td>\n",
       "    </tr>\n",
       "    <tr>\n",
       "      <th>120</th>\n",
       "      <td>202</td>\n",
       "    </tr>\n",
       "    <tr>\n",
       "      <th>130</th>\n",
       "      <td>34</td>\n",
       "    </tr>\n",
       "    <tr>\n",
       "      <th>105</th>\n",
       "      <td>19</td>\n",
       "    </tr>\n",
       "    <tr>\n",
       "      <th>115</th>\n",
       "      <td>8</td>\n",
       "    </tr>\n",
       "    <tr>\n",
       "      <th>109</th>\n",
       "      <td>7</td>\n",
       "    </tr>\n",
       "    <tr>\n",
       "      <th>103</th>\n",
       "      <td>6</td>\n",
       "    </tr>\n",
       "    <tr>\n",
       "      <th>106</th>\n",
       "      <td>6</td>\n",
       "    </tr>\n",
       "    <tr>\n",
       "      <th>101</th>\n",
       "      <td>5</td>\n",
       "    </tr>\n",
       "    <tr>\n",
       "      <th>104</th>\n",
       "      <td>5</td>\n",
       "    </tr>\n",
       "    <tr>\n",
       "      <th>113</th>\n",
       "      <td>4</td>\n",
       "    </tr>\n",
       "    <tr>\n",
       "      <th>102</th>\n",
       "      <td>4</td>\n",
       "    </tr>\n",
       "    <tr>\n",
       "      <th>108</th>\n",
       "      <td>3</td>\n",
       "    </tr>\n",
       "    <tr>\n",
       "      <th>112</th>\n",
       "      <td>2</td>\n",
       "    </tr>\n",
       "    <tr>\n",
       "      <th>125</th>\n",
       "      <td>2</td>\n",
       "    </tr>\n",
       "    <tr>\n",
       "      <th>126</th>\n",
       "      <td>2</td>\n",
       "    </tr>\n",
       "    <tr>\n",
       "      <th>119</th>\n",
       "      <td>2</td>\n",
       "    </tr>\n",
       "    <tr>\n",
       "      <th>121</th>\n",
       "      <td>1</td>\n",
       "    </tr>\n",
       "    <tr>\n",
       "      <th>114</th>\n",
       "      <td>1</td>\n",
       "    </tr>\n",
       "    <tr>\n",
       "      <th>111</th>\n",
       "      <td>1</td>\n",
       "    </tr>\n",
       "    <tr>\n",
       "      <th>118</th>\n",
       "      <td>1</td>\n",
       "    </tr>\n",
       "    <tr>\n",
       "      <th>107</th>\n",
       "      <td>1</td>\n",
       "    </tr>\n",
       "    <tr>\n",
       "      <th>122</th>\n",
       "      <td>1</td>\n",
       "    </tr>\n",
       "    <tr>\n",
       "      <th>135</th>\n",
       "      <td>1</td>\n",
       "    </tr>\n",
       "  </tbody>\n",
       "</table>\n",
       "</div>"
      ],
      "text/plain": [
       "     ap_lo\n",
       "100   4052\n",
       "110    397\n",
       "120    202\n",
       "130     34\n",
       "105     19\n",
       "115      8\n",
       "109      7\n",
       "103      6\n",
       "106      6\n",
       "101      5\n",
       "104      5\n",
       "113      4\n",
       "102      4\n",
       "108      3\n",
       "112      2\n",
       "125      2\n",
       "126      2\n",
       "119      2\n",
       "121      1\n",
       "114      1\n",
       "111      1\n",
       "118      1\n",
       "107      1\n",
       "122      1\n",
       "135      1"
      ]
     },
     "execution_count": 40,
     "metadata": {},
     "output_type": "execute_result"
    }
   ],
   "source": [
    "values_100_140 = df_cardio[(df_cardio[\"ap_lo\"] >= 100) & (df_cardio[\"ap_lo\"] < 140)]\n",
    "pd.DataFrame(values_100_140[\"ap_lo\"].value_counts())"
   ]
  },
  {
   "cell_type": "markdown",
   "metadata": {},
   "source": [
    "I have thus chosen the following range of values: \n",
    "\n",
    "Systolic: 90-220 (both values included)\\\n",
    "Diastolic: 60-140 (both values included)"
   ]
  },
  {
   "cell_type": "code",
   "execution_count": 41,
   "metadata": {},
   "outputs": [
    {
     "data": {
      "text/html": [
       "<div>\n",
       "<style scoped>\n",
       "    .dataframe tbody tr th:only-of-type {\n",
       "        vertical-align: middle;\n",
       "    }\n",
       "\n",
       "    .dataframe tbody tr th {\n",
       "        vertical-align: top;\n",
       "    }\n",
       "\n",
       "    .dataframe thead th {\n",
       "        text-align: right;\n",
       "    }\n",
       "</style>\n",
       "<table border=\"1\" class=\"dataframe\">\n",
       "  <thead>\n",
       "    <tr style=\"text-align: right;\">\n",
       "      <th></th>\n",
       "      <th>id</th>\n",
       "      <th>age</th>\n",
       "      <th>gender</th>\n",
       "      <th>height</th>\n",
       "      <th>weight</th>\n",
       "      <th>ap_hi</th>\n",
       "      <th>ap_lo</th>\n",
       "      <th>cholesterol</th>\n",
       "      <th>gluc</th>\n",
       "      <th>smoke</th>\n",
       "      <th>alco</th>\n",
       "      <th>active</th>\n",
       "      <th>cardio</th>\n",
       "      <th>BMI</th>\n",
       "      <th>BMI_category</th>\n",
       "    </tr>\n",
       "  </thead>\n",
       "  <tbody>\n",
       "    <tr>\n",
       "      <th>0</th>\n",
       "      <td>0</td>\n",
       "      <td>18393</td>\n",
       "      <td>2</td>\n",
       "      <td>168</td>\n",
       "      <td>62.0</td>\n",
       "      <td>110</td>\n",
       "      <td>80</td>\n",
       "      <td>1</td>\n",
       "      <td>1</td>\n",
       "      <td>0</td>\n",
       "      <td>0</td>\n",
       "      <td>1</td>\n",
       "      <td>0</td>\n",
       "      <td>21.967120</td>\n",
       "      <td>normal_weight</td>\n",
       "    </tr>\n",
       "    <tr>\n",
       "      <th>1</th>\n",
       "      <td>1</td>\n",
       "      <td>20228</td>\n",
       "      <td>1</td>\n",
       "      <td>156</td>\n",
       "      <td>85.0</td>\n",
       "      <td>140</td>\n",
       "      <td>90</td>\n",
       "      <td>3</td>\n",
       "      <td>1</td>\n",
       "      <td>0</td>\n",
       "      <td>0</td>\n",
       "      <td>1</td>\n",
       "      <td>1</td>\n",
       "      <td>34.927679</td>\n",
       "      <td>obesity_class1</td>\n",
       "    </tr>\n",
       "    <tr>\n",
       "      <th>2</th>\n",
       "      <td>2</td>\n",
       "      <td>18857</td>\n",
       "      <td>1</td>\n",
       "      <td>165</td>\n",
       "      <td>64.0</td>\n",
       "      <td>130</td>\n",
       "      <td>70</td>\n",
       "      <td>3</td>\n",
       "      <td>1</td>\n",
       "      <td>0</td>\n",
       "      <td>0</td>\n",
       "      <td>0</td>\n",
       "      <td>1</td>\n",
       "      <td>23.507805</td>\n",
       "      <td>normal_weight</td>\n",
       "    </tr>\n",
       "    <tr>\n",
       "      <th>3</th>\n",
       "      <td>3</td>\n",
       "      <td>17623</td>\n",
       "      <td>2</td>\n",
       "      <td>169</td>\n",
       "      <td>82.0</td>\n",
       "      <td>150</td>\n",
       "      <td>100</td>\n",
       "      <td>1</td>\n",
       "      <td>1</td>\n",
       "      <td>0</td>\n",
       "      <td>0</td>\n",
       "      <td>1</td>\n",
       "      <td>1</td>\n",
       "      <td>28.710479</td>\n",
       "      <td>over_weight</td>\n",
       "    </tr>\n",
       "    <tr>\n",
       "      <th>4</th>\n",
       "      <td>4</td>\n",
       "      <td>17474</td>\n",
       "      <td>1</td>\n",
       "      <td>156</td>\n",
       "      <td>56.0</td>\n",
       "      <td>100</td>\n",
       "      <td>60</td>\n",
       "      <td>1</td>\n",
       "      <td>1</td>\n",
       "      <td>0</td>\n",
       "      <td>0</td>\n",
       "      <td>0</td>\n",
       "      <td>0</td>\n",
       "      <td>23.011177</td>\n",
       "      <td>normal_weight</td>\n",
       "    </tr>\n",
       "    <tr>\n",
       "      <th>...</th>\n",
       "      <td>...</td>\n",
       "      <td>...</td>\n",
       "      <td>...</td>\n",
       "      <td>...</td>\n",
       "      <td>...</td>\n",
       "      <td>...</td>\n",
       "      <td>...</td>\n",
       "      <td>...</td>\n",
       "      <td>...</td>\n",
       "      <td>...</td>\n",
       "      <td>...</td>\n",
       "      <td>...</td>\n",
       "      <td>...</td>\n",
       "      <td>...</td>\n",
       "      <td>...</td>\n",
       "    </tr>\n",
       "    <tr>\n",
       "      <th>69994</th>\n",
       "      <td>99992</td>\n",
       "      <td>21074</td>\n",
       "      <td>1</td>\n",
       "      <td>165</td>\n",
       "      <td>80.0</td>\n",
       "      <td>150</td>\n",
       "      <td>80</td>\n",
       "      <td>1</td>\n",
       "      <td>1</td>\n",
       "      <td>0</td>\n",
       "      <td>0</td>\n",
       "      <td>1</td>\n",
       "      <td>1</td>\n",
       "      <td>29.384757</td>\n",
       "      <td>over_weight</td>\n",
       "    </tr>\n",
       "    <tr>\n",
       "      <th>69995</th>\n",
       "      <td>99993</td>\n",
       "      <td>19240</td>\n",
       "      <td>2</td>\n",
       "      <td>168</td>\n",
       "      <td>76.0</td>\n",
       "      <td>120</td>\n",
       "      <td>80</td>\n",
       "      <td>1</td>\n",
       "      <td>1</td>\n",
       "      <td>1</td>\n",
       "      <td>0</td>\n",
       "      <td>1</td>\n",
       "      <td>0</td>\n",
       "      <td>26.927438</td>\n",
       "      <td>over_weight</td>\n",
       "    </tr>\n",
       "    <tr>\n",
       "      <th>69997</th>\n",
       "      <td>99996</td>\n",
       "      <td>19066</td>\n",
       "      <td>2</td>\n",
       "      <td>183</td>\n",
       "      <td>105.0</td>\n",
       "      <td>180</td>\n",
       "      <td>90</td>\n",
       "      <td>3</td>\n",
       "      <td>1</td>\n",
       "      <td>0</td>\n",
       "      <td>1</td>\n",
       "      <td>0</td>\n",
       "      <td>1</td>\n",
       "      <td>31.353579</td>\n",
       "      <td>obesity_class1</td>\n",
       "    </tr>\n",
       "    <tr>\n",
       "      <th>69998</th>\n",
       "      <td>99998</td>\n",
       "      <td>22431</td>\n",
       "      <td>1</td>\n",
       "      <td>163</td>\n",
       "      <td>72.0</td>\n",
       "      <td>135</td>\n",
       "      <td>80</td>\n",
       "      <td>1</td>\n",
       "      <td>2</td>\n",
       "      <td>0</td>\n",
       "      <td>0</td>\n",
       "      <td>0</td>\n",
       "      <td>1</td>\n",
       "      <td>27.099251</td>\n",
       "      <td>over_weight</td>\n",
       "    </tr>\n",
       "    <tr>\n",
       "      <th>69999</th>\n",
       "      <td>99999</td>\n",
       "      <td>20540</td>\n",
       "      <td>1</td>\n",
       "      <td>170</td>\n",
       "      <td>72.0</td>\n",
       "      <td>120</td>\n",
       "      <td>80</td>\n",
       "      <td>2</td>\n",
       "      <td>1</td>\n",
       "      <td>0</td>\n",
       "      <td>0</td>\n",
       "      <td>1</td>\n",
       "      <td>0</td>\n",
       "      <td>24.913495</td>\n",
       "      <td>normal_weight</td>\n",
       "    </tr>\n",
       "  </tbody>\n",
       "</table>\n",
       "<p>68261 rows × 15 columns</p>\n",
       "</div>"
      ],
      "text/plain": [
       "          id    age  gender  height  weight  ap_hi  ap_lo  cholesterol  gluc  \\\n",
       "0          0  18393       2     168    62.0    110     80            1     1   \n",
       "1          1  20228       1     156    85.0    140     90            3     1   \n",
       "2          2  18857       1     165    64.0    130     70            3     1   \n",
       "3          3  17623       2     169    82.0    150    100            1     1   \n",
       "4          4  17474       1     156    56.0    100     60            1     1   \n",
       "...      ...    ...     ...     ...     ...    ...    ...          ...   ...   \n",
       "69994  99992  21074       1     165    80.0    150     80            1     1   \n",
       "69995  99993  19240       2     168    76.0    120     80            1     1   \n",
       "69997  99996  19066       2     183   105.0    180     90            3     1   \n",
       "69998  99998  22431       1     163    72.0    135     80            1     2   \n",
       "69999  99999  20540       1     170    72.0    120     80            2     1   \n",
       "\n",
       "       smoke  alco  active  cardio        BMI    BMI_category  \n",
       "0          0     0       1       0  21.967120   normal_weight  \n",
       "1          0     0       1       1  34.927679  obesity_class1  \n",
       "2          0     0       0       1  23.507805   normal_weight  \n",
       "3          0     0       1       1  28.710479     over_weight  \n",
       "4          0     0       0       0  23.011177   normal_weight  \n",
       "...      ...   ...     ...     ...        ...             ...  \n",
       "69994      0     0       1       1  29.384757     over_weight  \n",
       "69995      1     0       1       0  26.927438     over_weight  \n",
       "69997      0     1       0       1  31.353579  obesity_class1  \n",
       "69998      0     0       0       1  27.099251     over_weight  \n",
       "69999      0     0       1       0  24.913495   normal_weight  \n",
       "\n",
       "[68261 rows x 15 columns]"
      ]
     },
     "execution_count": 41,
     "metadata": {},
     "output_type": "execute_result"
    }
   ],
   "source": [
    "df_cardio = df_cardio[(df_cardio[\"ap_hi\"] >= 90 ) & (df_cardio[\"ap_hi\"] <= 220) \n",
    "                    & (df_cardio[\"ap_lo\"] >= 60 ) & (df_cardio[\"ap_lo\"] <= 140)]\n",
    "df_cardio"
   ]
  },
  {
   "cell_type": "markdown",
   "metadata": {},
   "source": [
    "It is not possible for the diastolic blood pressure to be higher than the systolic blood pressure, and I therefore continue removing theses cases. "
   ]
  },
  {
   "cell_type": "code",
   "execution_count": 42,
   "metadata": {},
   "outputs": [
    {
     "name": "stdout",
     "output_type": "stream",
     "text": [
      "In 26 cases the diastolic blood pressure is equal to or higher than the systolic blood pressure.\n"
     ]
    }
   ],
   "source": [
    "print(f\"In {len(df_cardio[df_cardio['ap_lo'] >= df_cardio['ap_hi']])} cases the diastolic blood pressure is equal to or higher than the systolic blood pressure.\")"
   ]
  },
  {
   "cell_type": "code",
   "execution_count": 43,
   "metadata": {},
   "outputs": [
    {
     "data": {
      "text/html": [
       "<div>\n",
       "<style scoped>\n",
       "    .dataframe tbody tr th:only-of-type {\n",
       "        vertical-align: middle;\n",
       "    }\n",
       "\n",
       "    .dataframe tbody tr th {\n",
       "        vertical-align: top;\n",
       "    }\n",
       "\n",
       "    .dataframe thead th {\n",
       "        text-align: right;\n",
       "    }\n",
       "</style>\n",
       "<table border=\"1\" class=\"dataframe\">\n",
       "  <thead>\n",
       "    <tr style=\"text-align: right;\">\n",
       "      <th></th>\n",
       "      <th>id</th>\n",
       "      <th>age</th>\n",
       "      <th>gender</th>\n",
       "      <th>height</th>\n",
       "      <th>weight</th>\n",
       "      <th>ap_hi</th>\n",
       "      <th>ap_lo</th>\n",
       "      <th>cholesterol</th>\n",
       "      <th>gluc</th>\n",
       "      <th>smoke</th>\n",
       "      <th>alco</th>\n",
       "      <th>active</th>\n",
       "      <th>cardio</th>\n",
       "      <th>BMI</th>\n",
       "      <th>BMI_category</th>\n",
       "    </tr>\n",
       "  </thead>\n",
       "  <tbody>\n",
       "    <tr>\n",
       "      <th>4825</th>\n",
       "      <td>6836</td>\n",
       "      <td>19618</td>\n",
       "      <td>2</td>\n",
       "      <td>164</td>\n",
       "      <td>89.0</td>\n",
       "      <td>90</td>\n",
       "      <td>140</td>\n",
       "      <td>2</td>\n",
       "      <td>2</td>\n",
       "      <td>0</td>\n",
       "      <td>0</td>\n",
       "      <td>1</td>\n",
       "      <td>1</td>\n",
       "      <td>33.090422</td>\n",
       "      <td>obesity_class1</td>\n",
       "    </tr>\n",
       "    <tr>\n",
       "      <th>5121</th>\n",
       "      <td>7277</td>\n",
       "      <td>17600</td>\n",
       "      <td>2</td>\n",
       "      <td>173</td>\n",
       "      <td>78.0</td>\n",
       "      <td>90</td>\n",
       "      <td>140</td>\n",
       "      <td>1</td>\n",
       "      <td>1</td>\n",
       "      <td>0</td>\n",
       "      <td>1</td>\n",
       "      <td>1</td>\n",
       "      <td>1</td>\n",
       "      <td>26.061679</td>\n",
       "      <td>over_weight</td>\n",
       "    </tr>\n",
       "    <tr>\n",
       "      <th>5446</th>\n",
       "      <td>7737</td>\n",
       "      <td>18968</td>\n",
       "      <td>1</td>\n",
       "      <td>165</td>\n",
       "      <td>110.0</td>\n",
       "      <td>95</td>\n",
       "      <td>130</td>\n",
       "      <td>1</td>\n",
       "      <td>1</td>\n",
       "      <td>0</td>\n",
       "      <td>1</td>\n",
       "      <td>1</td>\n",
       "      <td>1</td>\n",
       "      <td>40.404040</td>\n",
       "      <td>obesity_class3</td>\n",
       "    </tr>\n",
       "    <tr>\n",
       "      <th>9010</th>\n",
       "      <td>12847</td>\n",
       "      <td>20400</td>\n",
       "      <td>2</td>\n",
       "      <td>176</td>\n",
       "      <td>82.0</td>\n",
       "      <td>90</td>\n",
       "      <td>130</td>\n",
       "      <td>3</td>\n",
       "      <td>3</td>\n",
       "      <td>0</td>\n",
       "      <td>0</td>\n",
       "      <td>1</td>\n",
       "      <td>1</td>\n",
       "      <td>26.472107</td>\n",
       "      <td>over_weight</td>\n",
       "    </tr>\n",
       "    <tr>\n",
       "      <th>10748</th>\n",
       "      <td>15369</td>\n",
       "      <td>20743</td>\n",
       "      <td>2</td>\n",
       "      <td>170</td>\n",
       "      <td>77.0</td>\n",
       "      <td>90</td>\n",
       "      <td>130</td>\n",
       "      <td>1</td>\n",
       "      <td>1</td>\n",
       "      <td>0</td>\n",
       "      <td>0</td>\n",
       "      <td>0</td>\n",
       "      <td>0</td>\n",
       "      <td>26.643599</td>\n",
       "      <td>over_weight</td>\n",
       "    </tr>\n",
       "  </tbody>\n",
       "</table>\n",
       "</div>"
      ],
      "text/plain": [
       "          id    age  gender  height  weight  ap_hi  ap_lo  cholesterol  gluc  \\\n",
       "4825    6836  19618       2     164    89.0     90    140            2     2   \n",
       "5121    7277  17600       2     173    78.0     90    140            1     1   \n",
       "5446    7737  18968       1     165   110.0     95    130            1     1   \n",
       "9010   12847  20400       2     176    82.0     90    130            3     3   \n",
       "10748  15369  20743       2     170    77.0     90    130            1     1   \n",
       "\n",
       "       smoke  alco  active  cardio        BMI    BMI_category  \n",
       "4825       0     0       1       1  33.090422  obesity_class1  \n",
       "5121       0     1       1       1  26.061679     over_weight  \n",
       "5446       0     1       1       1  40.404040  obesity_class3  \n",
       "9010       0     0       1       1  26.472107     over_weight  \n",
       "10748      0     0       0       0  26.643599     over_weight  "
      ]
     },
     "execution_count": 43,
     "metadata": {},
     "output_type": "execute_result"
    }
   ],
   "source": [
    "df_cardio[df_cardio['ap_lo'] >= df_cardio['ap_hi']].head(5)"
   ]
  },
  {
   "cell_type": "code",
   "execution_count": 44,
   "metadata": {},
   "outputs": [
    {
     "data": {
      "text/html": [
       "<div>\n",
       "<style scoped>\n",
       "    .dataframe tbody tr th:only-of-type {\n",
       "        vertical-align: middle;\n",
       "    }\n",
       "\n",
       "    .dataframe tbody tr th {\n",
       "        vertical-align: top;\n",
       "    }\n",
       "\n",
       "    .dataframe thead th {\n",
       "        text-align: right;\n",
       "    }\n",
       "</style>\n",
       "<table border=\"1\" class=\"dataframe\">\n",
       "  <thead>\n",
       "    <tr style=\"text-align: right;\">\n",
       "      <th></th>\n",
       "      <th>id</th>\n",
       "      <th>age</th>\n",
       "      <th>gender</th>\n",
       "      <th>height</th>\n",
       "      <th>weight</th>\n",
       "      <th>ap_hi</th>\n",
       "      <th>ap_lo</th>\n",
       "      <th>cholesterol</th>\n",
       "      <th>gluc</th>\n",
       "      <th>smoke</th>\n",
       "      <th>alco</th>\n",
       "      <th>active</th>\n",
       "      <th>cardio</th>\n",
       "      <th>BMI</th>\n",
       "      <th>BMI_category</th>\n",
       "    </tr>\n",
       "  </thead>\n",
       "  <tbody>\n",
       "    <tr>\n",
       "      <th>0</th>\n",
       "      <td>0</td>\n",
       "      <td>18393</td>\n",
       "      <td>2</td>\n",
       "      <td>168</td>\n",
       "      <td>62.0</td>\n",
       "      <td>110</td>\n",
       "      <td>80</td>\n",
       "      <td>1</td>\n",
       "      <td>1</td>\n",
       "      <td>0</td>\n",
       "      <td>0</td>\n",
       "      <td>1</td>\n",
       "      <td>0</td>\n",
       "      <td>21.967120</td>\n",
       "      <td>normal_weight</td>\n",
       "    </tr>\n",
       "    <tr>\n",
       "      <th>1</th>\n",
       "      <td>1</td>\n",
       "      <td>20228</td>\n",
       "      <td>1</td>\n",
       "      <td>156</td>\n",
       "      <td>85.0</td>\n",
       "      <td>140</td>\n",
       "      <td>90</td>\n",
       "      <td>3</td>\n",
       "      <td>1</td>\n",
       "      <td>0</td>\n",
       "      <td>0</td>\n",
       "      <td>1</td>\n",
       "      <td>1</td>\n",
       "      <td>34.927679</td>\n",
       "      <td>obesity_class1</td>\n",
       "    </tr>\n",
       "    <tr>\n",
       "      <th>2</th>\n",
       "      <td>2</td>\n",
       "      <td>18857</td>\n",
       "      <td>1</td>\n",
       "      <td>165</td>\n",
       "      <td>64.0</td>\n",
       "      <td>130</td>\n",
       "      <td>70</td>\n",
       "      <td>3</td>\n",
       "      <td>1</td>\n",
       "      <td>0</td>\n",
       "      <td>0</td>\n",
       "      <td>0</td>\n",
       "      <td>1</td>\n",
       "      <td>23.507805</td>\n",
       "      <td>normal_weight</td>\n",
       "    </tr>\n",
       "    <tr>\n",
       "      <th>3</th>\n",
       "      <td>3</td>\n",
       "      <td>17623</td>\n",
       "      <td>2</td>\n",
       "      <td>169</td>\n",
       "      <td>82.0</td>\n",
       "      <td>150</td>\n",
       "      <td>100</td>\n",
       "      <td>1</td>\n",
       "      <td>1</td>\n",
       "      <td>0</td>\n",
       "      <td>0</td>\n",
       "      <td>1</td>\n",
       "      <td>1</td>\n",
       "      <td>28.710479</td>\n",
       "      <td>over_weight</td>\n",
       "    </tr>\n",
       "    <tr>\n",
       "      <th>4</th>\n",
       "      <td>4</td>\n",
       "      <td>17474</td>\n",
       "      <td>1</td>\n",
       "      <td>156</td>\n",
       "      <td>56.0</td>\n",
       "      <td>100</td>\n",
       "      <td>60</td>\n",
       "      <td>1</td>\n",
       "      <td>1</td>\n",
       "      <td>0</td>\n",
       "      <td>0</td>\n",
       "      <td>0</td>\n",
       "      <td>0</td>\n",
       "      <td>23.011177</td>\n",
       "      <td>normal_weight</td>\n",
       "    </tr>\n",
       "    <tr>\n",
       "      <th>...</th>\n",
       "      <td>...</td>\n",
       "      <td>...</td>\n",
       "      <td>...</td>\n",
       "      <td>...</td>\n",
       "      <td>...</td>\n",
       "      <td>...</td>\n",
       "      <td>...</td>\n",
       "      <td>...</td>\n",
       "      <td>...</td>\n",
       "      <td>...</td>\n",
       "      <td>...</td>\n",
       "      <td>...</td>\n",
       "      <td>...</td>\n",
       "      <td>...</td>\n",
       "      <td>...</td>\n",
       "    </tr>\n",
       "    <tr>\n",
       "      <th>69994</th>\n",
       "      <td>99992</td>\n",
       "      <td>21074</td>\n",
       "      <td>1</td>\n",
       "      <td>165</td>\n",
       "      <td>80.0</td>\n",
       "      <td>150</td>\n",
       "      <td>80</td>\n",
       "      <td>1</td>\n",
       "      <td>1</td>\n",
       "      <td>0</td>\n",
       "      <td>0</td>\n",
       "      <td>1</td>\n",
       "      <td>1</td>\n",
       "      <td>29.384757</td>\n",
       "      <td>over_weight</td>\n",
       "    </tr>\n",
       "    <tr>\n",
       "      <th>69995</th>\n",
       "      <td>99993</td>\n",
       "      <td>19240</td>\n",
       "      <td>2</td>\n",
       "      <td>168</td>\n",
       "      <td>76.0</td>\n",
       "      <td>120</td>\n",
       "      <td>80</td>\n",
       "      <td>1</td>\n",
       "      <td>1</td>\n",
       "      <td>1</td>\n",
       "      <td>0</td>\n",
       "      <td>1</td>\n",
       "      <td>0</td>\n",
       "      <td>26.927438</td>\n",
       "      <td>over_weight</td>\n",
       "    </tr>\n",
       "    <tr>\n",
       "      <th>69997</th>\n",
       "      <td>99996</td>\n",
       "      <td>19066</td>\n",
       "      <td>2</td>\n",
       "      <td>183</td>\n",
       "      <td>105.0</td>\n",
       "      <td>180</td>\n",
       "      <td>90</td>\n",
       "      <td>3</td>\n",
       "      <td>1</td>\n",
       "      <td>0</td>\n",
       "      <td>1</td>\n",
       "      <td>0</td>\n",
       "      <td>1</td>\n",
       "      <td>31.353579</td>\n",
       "      <td>obesity_class1</td>\n",
       "    </tr>\n",
       "    <tr>\n",
       "      <th>69998</th>\n",
       "      <td>99998</td>\n",
       "      <td>22431</td>\n",
       "      <td>1</td>\n",
       "      <td>163</td>\n",
       "      <td>72.0</td>\n",
       "      <td>135</td>\n",
       "      <td>80</td>\n",
       "      <td>1</td>\n",
       "      <td>2</td>\n",
       "      <td>0</td>\n",
       "      <td>0</td>\n",
       "      <td>0</td>\n",
       "      <td>1</td>\n",
       "      <td>27.099251</td>\n",
       "      <td>over_weight</td>\n",
       "    </tr>\n",
       "    <tr>\n",
       "      <th>69999</th>\n",
       "      <td>99999</td>\n",
       "      <td>20540</td>\n",
       "      <td>1</td>\n",
       "      <td>170</td>\n",
       "      <td>72.0</td>\n",
       "      <td>120</td>\n",
       "      <td>80</td>\n",
       "      <td>2</td>\n",
       "      <td>1</td>\n",
       "      <td>0</td>\n",
       "      <td>0</td>\n",
       "      <td>1</td>\n",
       "      <td>0</td>\n",
       "      <td>24.913495</td>\n",
       "      <td>normal_weight</td>\n",
       "    </tr>\n",
       "  </tbody>\n",
       "</table>\n",
       "<p>68235 rows × 15 columns</p>\n",
       "</div>"
      ],
      "text/plain": [
       "          id    age  gender  height  weight  ap_hi  ap_lo  cholesterol  gluc  \\\n",
       "0          0  18393       2     168    62.0    110     80            1     1   \n",
       "1          1  20228       1     156    85.0    140     90            3     1   \n",
       "2          2  18857       1     165    64.0    130     70            3     1   \n",
       "3          3  17623       2     169    82.0    150    100            1     1   \n",
       "4          4  17474       1     156    56.0    100     60            1     1   \n",
       "...      ...    ...     ...     ...     ...    ...    ...          ...   ...   \n",
       "69994  99992  21074       1     165    80.0    150     80            1     1   \n",
       "69995  99993  19240       2     168    76.0    120     80            1     1   \n",
       "69997  99996  19066       2     183   105.0    180     90            3     1   \n",
       "69998  99998  22431       1     163    72.0    135     80            1     2   \n",
       "69999  99999  20540       1     170    72.0    120     80            2     1   \n",
       "\n",
       "       smoke  alco  active  cardio        BMI    BMI_category  \n",
       "0          0     0       1       0  21.967120   normal_weight  \n",
       "1          0     0       1       1  34.927679  obesity_class1  \n",
       "2          0     0       0       1  23.507805   normal_weight  \n",
       "3          0     0       1       1  28.710479     over_weight  \n",
       "4          0     0       0       0  23.011177   normal_weight  \n",
       "...      ...   ...     ...     ...        ...             ...  \n",
       "69994      0     0       1       1  29.384757     over_weight  \n",
       "69995      1     0       1       0  26.927438     over_weight  \n",
       "69997      0     1       0       1  31.353579  obesity_class1  \n",
       "69998      0     0       0       1  27.099251     over_weight  \n",
       "69999      0     0       1       0  24.913495   normal_weight  \n",
       "\n",
       "[68235 rows x 15 columns]"
      ]
     },
     "execution_count": 44,
     "metadata": {},
     "output_type": "execute_result"
    }
   ],
   "source": [
    "df_cardio = df_cardio[df_cardio['ap_lo'] < df_cardio['ap_hi']]\n",
    "df_cardio"
   ]
  },
  {
   "cell_type": "code",
   "execution_count": 45,
   "metadata": {},
   "outputs": [
    {
     "name": "stdout",
     "output_type": "stream",
     "text": [
      "Minimum Systolic Blood Pressure: 90, Maximum Systolic Blood Pressure: 220\n",
      "Minimum Diastolic Blood Pressure: 60, Maximum Diastolic Blood Pressure: 140\n",
      "In 0 cases the diastolic blood pressure is equal to or higher than the systolic blood pressure.\n"
     ]
    }
   ],
   "source": [
    "print(f\"Minimum Systolic Blood Pressure: {df_cardio['ap_hi'].min()}, Maximum Systolic Blood Pressure: {df_cardio['ap_hi'].max()}\")\n",
    "print(f\"Minimum Diastolic Blood Pressure: {df_cardio['ap_lo'].min()}, Maximum Diastolic Blood Pressure: {df_cardio['ap_lo'].max()}\") \n",
    "print(f\"In {len(df_cardio[df_cardio['ap_lo'] >= df_cardio['ap_hi']])} cases the diastolic blood pressure is equal to or higher than the systolic blood pressure.\")"
   ]
  },
  {
   "cell_type": "code",
   "execution_count": 46,
   "metadata": {},
   "outputs": [
    {
     "data": {
      "image/png": "[encoded data removed]",
      "text/plain": [
       "<Figure size 720x480 with 1 Axes>"
      ]
     },
     "metadata": {
      "needs_background": "light"
     },
     "output_type": "display_data"
    }
   ],
   "source": [
    "fig, ax = plt.subplots(dpi=120)\n",
    "ax.boxplot(df_cardio[\"ap_hi\"]);\n",
    "ax.set_title(\"Boxplot of Systolic Blood Pressure\")\n",
    "ax.set_ylabel(\"Systolic Blood Pressure\");"
   ]
  },
  {
   "cell_type": "code",
   "execution_count": 47,
   "metadata": {},
   "outputs": [
    {
     "data": {
      "image/png": "[encoded data removed]",
      "text/plain": [
       "<Figure size 720x480 with 1 Axes>"
      ]
     },
     "metadata": {
      "needs_background": "light"
     },
     "output_type": "display_data"
    }
   ],
   "source": [
    "fig, ax = plt.subplots(dpi=120)\n",
    "ax.boxplot(df_cardio[\"ap_lo\"]);\n",
    "ax.set_title(\"Boxplot of Diastolic Blood Pressure\")\n",
    "ax.set_ylabel(\"Diastolic Blood Pressure\");"
   ]
  },
  {
   "cell_type": "code",
   "execution_count": 56,
   "metadata": {},
   "outputs": [],
   "source": [
    "# Reference: https://stackoverflow.com/questions/32633977/how-to-create-categorical-variable-based-on-a-numerical-variable\n",
    "df_cardio=df_cardio.assign(BP_category=np.nan)\n",
    "df_cardio.loc[(df_cardio[\"ap_hi\"] < 120) & (df_cardio[\"ap_lo\"] < 80), \n",
    "            \"BP_category\"] = \"healthy\"\n",
    "df_cardio.loc[(df_cardio[\"ap_hi\"] >= 120) & (df_cardio[\"ap_hi\"] < 130) \n",
    "            & (df_cardio[\"ap_lo\"] < 80), \n",
    "            \"BP_category\"] = \"elevated\"\n",
    "df_cardio.loc[((df_cardio[\"ap_hi\"] >= 130) & (df_cardio[\"ap_hi\"] < 140)) \n",
    "            | ((df_cardio[\"ap_lo\"] >= 80) & (df_cardio[\"ap_lo\"] < 90)), \n",
    "            \"BP_category\"] = \"hypertension_stage1\"\n",
    "df_cardio.loc[((df_cardio[\"ap_hi\"] >= 140) & (df_cardio[\"ap_hi\"] <= 180)) \n",
    "            | ((df_cardio[\"ap_lo\"] >= 90) & (df_cardio[\"ap_lo\"] <= 120)), \n",
    "            \"BP_category\"] = \"hypertension_stage2\"\n",
    "df_cardio.loc[(df_cardio[\"ap_hi\"] > 180) | (df_cardio[\"ap_lo\"] > 120), \n",
    "            \"BP_category\"] = \"hypertension_crisis\"\n"
   ]
  },
  {
   "cell_type": "code",
   "execution_count": 57,
   "metadata": {},
   "outputs": [
    {
     "data": {
      "text/html": [
       "<div>\n",
       "<style scoped>\n",
       "    .dataframe tbody tr th:only-of-type {\n",
       "        vertical-align: middle;\n",
       "    }\n",
       "\n",
       "    .dataframe tbody tr th {\n",
       "        vertical-align: top;\n",
       "    }\n",
       "\n",
       "    .dataframe thead th {\n",
       "        text-align: right;\n",
       "    }\n",
       "</style>\n",
       "<table border=\"1\" class=\"dataframe\">\n",
       "  <thead>\n",
       "    <tr style=\"text-align: right;\">\n",
       "      <th></th>\n",
       "      <th>id</th>\n",
       "      <th>age</th>\n",
       "      <th>gender</th>\n",
       "      <th>height</th>\n",
       "      <th>weight</th>\n",
       "      <th>ap_hi</th>\n",
       "      <th>ap_lo</th>\n",
       "      <th>cholesterol</th>\n",
       "      <th>gluc</th>\n",
       "      <th>smoke</th>\n",
       "      <th>alco</th>\n",
       "      <th>active</th>\n",
       "      <th>cardio</th>\n",
       "      <th>BMI</th>\n",
       "      <th>BMI_category</th>\n",
       "      <th>BP_category</th>\n",
       "    </tr>\n",
       "  </thead>\n",
       "  <tbody>\n",
       "    <tr>\n",
       "      <th>0</th>\n",
       "      <td>0</td>\n",
       "      <td>18393</td>\n",
       "      <td>2</td>\n",
       "      <td>168</td>\n",
       "      <td>62.0</td>\n",
       "      <td>110</td>\n",
       "      <td>80</td>\n",
       "      <td>1</td>\n",
       "      <td>1</td>\n",
       "      <td>0</td>\n",
       "      <td>0</td>\n",
       "      <td>1</td>\n",
       "      <td>0</td>\n",
       "      <td>21.967120</td>\n",
       "      <td>normal_weight</td>\n",
       "      <td>hypertension_stage1</td>\n",
       "    </tr>\n",
       "    <tr>\n",
       "      <th>1</th>\n",
       "      <td>1</td>\n",
       "      <td>20228</td>\n",
       "      <td>1</td>\n",
       "      <td>156</td>\n",
       "      <td>85.0</td>\n",
       "      <td>140</td>\n",
       "      <td>90</td>\n",
       "      <td>3</td>\n",
       "      <td>1</td>\n",
       "      <td>0</td>\n",
       "      <td>0</td>\n",
       "      <td>1</td>\n",
       "      <td>1</td>\n",
       "      <td>34.927679</td>\n",
       "      <td>obesity_class1</td>\n",
       "      <td>hypertension_stage2</td>\n",
       "    </tr>\n",
       "    <tr>\n",
       "      <th>2</th>\n",
       "      <td>2</td>\n",
       "      <td>18857</td>\n",
       "      <td>1</td>\n",
       "      <td>165</td>\n",
       "      <td>64.0</td>\n",
       "      <td>130</td>\n",
       "      <td>70</td>\n",
       "      <td>3</td>\n",
       "      <td>1</td>\n",
       "      <td>0</td>\n",
       "      <td>0</td>\n",
       "      <td>0</td>\n",
       "      <td>1</td>\n",
       "      <td>23.507805</td>\n",
       "      <td>normal_weight</td>\n",
       "      <td>hypertension_stage1</td>\n",
       "    </tr>\n",
       "    <tr>\n",
       "      <th>3</th>\n",
       "      <td>3</td>\n",
       "      <td>17623</td>\n",
       "      <td>2</td>\n",
       "      <td>169</td>\n",
       "      <td>82.0</td>\n",
       "      <td>150</td>\n",
       "      <td>100</td>\n",
       "      <td>1</td>\n",
       "      <td>1</td>\n",
       "      <td>0</td>\n",
       "      <td>0</td>\n",
       "      <td>1</td>\n",
       "      <td>1</td>\n",
       "      <td>28.710479</td>\n",
       "      <td>over_weight</td>\n",
       "      <td>hypertension_stage2</td>\n",
       "    </tr>\n",
       "    <tr>\n",
       "      <th>4</th>\n",
       "      <td>4</td>\n",
       "      <td>17474</td>\n",
       "      <td>1</td>\n",
       "      <td>156</td>\n",
       "      <td>56.0</td>\n",
       "      <td>100</td>\n",
       "      <td>60</td>\n",
       "      <td>1</td>\n",
       "      <td>1</td>\n",
       "      <td>0</td>\n",
       "      <td>0</td>\n",
       "      <td>0</td>\n",
       "      <td>0</td>\n",
       "      <td>23.011177</td>\n",
       "      <td>normal_weight</td>\n",
       "      <td>healthy</td>\n",
       "    </tr>\n",
       "    <tr>\n",
       "      <th>...</th>\n",
       "      <td>...</td>\n",
       "      <td>...</td>\n",
       "      <td>...</td>\n",
       "      <td>...</td>\n",
       "      <td>...</td>\n",
       "      <td>...</td>\n",
       "      <td>...</td>\n",
       "      <td>...</td>\n",
       "      <td>...</td>\n",
       "      <td>...</td>\n",
       "      <td>...</td>\n",
       "      <td>...</td>\n",
       "      <td>...</td>\n",
       "      <td>...</td>\n",
       "      <td>...</td>\n",
       "      <td>...</td>\n",
       "    </tr>\n",
       "    <tr>\n",
       "      <th>69994</th>\n",
       "      <td>99992</td>\n",
       "      <td>21074</td>\n",
       "      <td>1</td>\n",
       "      <td>165</td>\n",
       "      <td>80.0</td>\n",
       "      <td>150</td>\n",
       "      <td>80</td>\n",
       "      <td>1</td>\n",
       "      <td>1</td>\n",
       "      <td>0</td>\n",
       "      <td>0</td>\n",
       "      <td>1</td>\n",
       "      <td>1</td>\n",
       "      <td>29.384757</td>\n",
       "      <td>over_weight</td>\n",
       "      <td>hypertension_stage2</td>\n",
       "    </tr>\n",
       "    <tr>\n",
       "      <th>69995</th>\n",
       "      <td>99993</td>\n",
       "      <td>19240</td>\n",
       "      <td>2</td>\n",
       "      <td>168</td>\n",
       "      <td>76.0</td>\n",
       "      <td>120</td>\n",
       "      <td>80</td>\n",
       "      <td>1</td>\n",
       "      <td>1</td>\n",
       "      <td>1</td>\n",
       "      <td>0</td>\n",
       "      <td>1</td>\n",
       "      <td>0</td>\n",
       "      <td>26.927438</td>\n",
       "      <td>over_weight</td>\n",
       "      <td>hypertension_stage1</td>\n",
       "    </tr>\n",
       "    <tr>\n",
       "      <th>69997</th>\n",
       "      <td>99996</td>\n",
       "      <td>19066</td>\n",
       "      <td>2</td>\n",
       "      <td>183</td>\n",
       "      <td>105.0</td>\n",
       "      <td>180</td>\n",
       "      <td>90</td>\n",
       "      <td>3</td>\n",
       "      <td>1</td>\n",
       "      <td>0</td>\n",
       "      <td>1</td>\n",
       "      <td>0</td>\n",
       "      <td>1</td>\n",
       "      <td>31.353579</td>\n",
       "      <td>obesity_class1</td>\n",
       "      <td>hypertension_stage2</td>\n",
       "    </tr>\n",
       "    <tr>\n",
       "      <th>69998</th>\n",
       "      <td>99998</td>\n",
       "      <td>22431</td>\n",
       "      <td>1</td>\n",
       "      <td>163</td>\n",
       "      <td>72.0</td>\n",
       "      <td>135</td>\n",
       "      <td>80</td>\n",
       "      <td>1</td>\n",
       "      <td>2</td>\n",
       "      <td>0</td>\n",
       "      <td>0</td>\n",
       "      <td>0</td>\n",
       "      <td>1</td>\n",
       "      <td>27.099251</td>\n",
       "      <td>over_weight</td>\n",
       "      <td>hypertension_stage1</td>\n",
       "    </tr>\n",
       "    <tr>\n",
       "      <th>69999</th>\n",
       "      <td>99999</td>\n",
       "      <td>20540</td>\n",
       "      <td>1</td>\n",
       "      <td>170</td>\n",
       "      <td>72.0</td>\n",
       "      <td>120</td>\n",
       "      <td>80</td>\n",
       "      <td>2</td>\n",
       "      <td>1</td>\n",
       "      <td>0</td>\n",
       "      <td>0</td>\n",
       "      <td>1</td>\n",
       "      <td>0</td>\n",
       "      <td>24.913495</td>\n",
       "      <td>normal_weight</td>\n",
       "      <td>hypertension_stage1</td>\n",
       "    </tr>\n",
       "  </tbody>\n",
       "</table>\n",
       "<p>68235 rows × 16 columns</p>\n",
       "</div>"
      ],
      "text/plain": [
       "          id    age  gender  height  weight  ap_hi  ap_lo  cholesterol  gluc  \\\n",
       "0          0  18393       2     168    62.0    110     80            1     1   \n",
       "1          1  20228       1     156    85.0    140     90            3     1   \n",
       "2          2  18857       1     165    64.0    130     70            3     1   \n",
       "3          3  17623       2     169    82.0    150    100            1     1   \n",
       "4          4  17474       1     156    56.0    100     60            1     1   \n",
       "...      ...    ...     ...     ...     ...    ...    ...          ...   ...   \n",
       "69994  99992  21074       1     165    80.0    150     80            1     1   \n",
       "69995  99993  19240       2     168    76.0    120     80            1     1   \n",
       "69997  99996  19066       2     183   105.0    180     90            3     1   \n",
       "69998  99998  22431       1     163    72.0    135     80            1     2   \n",
       "69999  99999  20540       1     170    72.0    120     80            2     1   \n",
       "\n",
       "       smoke  alco  active  cardio        BMI    BMI_category  \\\n",
       "0          0     0       1       0  21.967120   normal_weight   \n",
       "1          0     0       1       1  34.927679  obesity_class1   \n",
       "2          0     0       0       1  23.507805   normal_weight   \n",
       "3          0     0       1       1  28.710479     over_weight   \n",
       "4          0     0       0       0  23.011177   normal_weight   \n",
       "...      ...   ...     ...     ...        ...             ...   \n",
       "69994      0     0       1       1  29.384757     over_weight   \n",
       "69995      1     0       1       0  26.927438     over_weight   \n",
       "69997      0     1       0       1  31.353579  obesity_class1   \n",
       "69998      0     0       0       1  27.099251     over_weight   \n",
       "69999      0     0       1       0  24.913495   normal_weight   \n",
       "\n",
       "               BP_category  \n",
       "0      hypertension_stage1  \n",
       "1      hypertension_stage2  \n",
       "2      hypertension_stage1  \n",
       "3      hypertension_stage2  \n",
       "4                  healthy  \n",
       "...                    ...  \n",
       "69994  hypertension_stage2  \n",
       "69995  hypertension_stage1  \n",
       "69997  hypertension_stage2  \n",
       "69998  hypertension_stage1  \n",
       "69999  hypertension_stage1  \n",
       "\n",
       "[68235 rows x 16 columns]"
      ]
     },
     "execution_count": 57,
     "metadata": {},
     "output_type": "execute_result"
    }
   ],
   "source": [
    "df_cardio"
   ]
  },
  {
   "cell_type": "code",
   "execution_count": 59,
   "metadata": {},
   "outputs": [
    {
     "data": {
      "text/plain": [
       "hypertension_stage1    32359\n",
       "hypertension_stage2    23107\n",
       "healthy                 9398\n",
       "elevated                3096\n",
       "hypertension_crisis      275\n",
       "Name: BP_category, dtype: int64"
      ]
     },
     "execution_count": 59,
     "metadata": {},
     "output_type": "execute_result"
    }
   ],
   "source": [
    "df_cardio[\"BP_category\"].value_counts()"
   ]
  },
  {
   "cell_type": "markdown",
   "metadata": {},
   "source": [
    "### 2.2.0 - Visualiseringar andel sjukdomar\n",
    "Skapa barplots med en feature mot andelen positiva för hjärt-kärlsjukdom. Exempelvis blodtryckskategorier\n",
    "mot andel positiva, BMI kategori mot andel positiva mm. Gör dessa plots i en figur med flera subplots."
   ]
  },
  {
   "cell_type": "code",
   "execution_count": null,
   "metadata": {},
   "outputs": [],
   "source": []
  },
  {
   "cell_type": "markdown",
   "metadata": {},
   "source": [
    "https://www.ncbi.nlm.nih.gov/pmc/articles/PMC5728753/ "
   ]
  }
 ],
 "metadata": {
  "interpreter": {
   "hash": "d1d182cab5de0882657872144a5d9f98098dd37790142aef776ee634127eddf8"
  },
  "kernelspec": {
   "display_name": "Python 3.9.10 ('Machine-learning-Anna-MariaSjolund-8kbAf2Oi')",
   "language": "python",
   "name": "python3"
  },
  "language_info": {
   "codemirror_mode": {
    "name": "ipython",
    "version": 3
   },
   "file_extension": ".py",
   "mimetype": "text/x-python",
   "name": "python",
   "nbconvert_exporter": "python",
   "pygments_lexer": "ipython3",
   "version": "3.9.10"
  },
  "orig_nbformat": 4
 },
 "nbformat": 4,
 "nbformat_minor": 2
}
