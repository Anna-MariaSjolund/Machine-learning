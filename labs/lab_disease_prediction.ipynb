{
 "cells": [
  {
   "cell_type": "markdown",
   "metadata": {},
   "source": [
    "# Lab - Disease prediction"
   ]
  },
  {
   "cell_type": "code",
   "execution_count": 1,
   "metadata": {},
   "outputs": [],
   "source": [
    "import numpy as np\n",
    "import pandas as pd\n",
    "import matplotlib.pyplot as plt\n",
    "import seaborn as sns\n",
    "from sklearn.model_selection import train_test_split, GridSearchCV\n",
    "from sklearn.pipeline import Pipeline\n",
    "from sklearn.preprocessing import StandardScaler, MinMaxScaler, PolynomialFeatures\n",
    "from sklearn.linear_model import LogisticRegression\n",
    "from sklearn.neighbors import KNeighborsClassifier\n",
    "from sklearn.ensemble import RandomForestClassifier, VotingClassifier\n",
    "from sklearn.svm import SVC\n",
    "from sklearn.metrics import confusion_matrix, ConfusionMatrixDisplay, classification_report\n",
    "from sklearn.exceptions import ConvergenceWarning, DataConversionWarning\n",
    "import warnings\n",
    "import joblib"
   ]
  },
  {
   "cell_type": "markdown",
   "metadata": {},
   "source": [
    "I det här momentet kommer vi jobba med ett dataset med data för hjärt-kärlsjukdom. Börja med att ladda\n",
    "ned datasetet från Kaggle och läs på vad de olika features betyder. Notera att detta dataset innehåller\n",
    "många felaktigheter, exempelvis finns negativa blodtryck och blodtryck som är omöjligt höga."
   ]
  },
  {
   "cell_type": "markdown",
   "metadata": {},
   "source": [
    "### Data description\n",
    "\n",
    "There are 3 types of input features:\n",
    "\n",
    "Objective: factual information;  <br>\n",
    "Examination: results of medical examination;  <br>\n",
    "Subjective: information given by the patient.  <br>\n",
    "<br>\n",
    "Features: \n",
    "\n",
    "Age | Objective Feature | age | int (days)  <br>\n",
    "Height | Objective Feature | height | int (cm) |  <br>\n",
    "Weight | Objective Feature | weight | float (kg) |  <br>\n",
    "Gender | Objective Feature | gender | categorical code | 1: women, 2: men  <br>\n",
    "Systolic blood pressure | Examination Feature | ap_hi | int |  <br>\n",
    "Diastolic blood pressure | Examination Feature | ap_lo | int |  <br>\n",
    "Cholesterol | Examination Feature | cholesterol | 1: normal, 2: above normal, 3: well above normal |  <br>\n",
    "Glucose | Examination Feature | gluc | 1: normal, 2: above normal, 3: well above normal |  <br>\n",
    "Smoking | Subjective Feature | smoke | binary |  <br>\n",
    "Alcohol intake | Subjective Feature | alco | binary |  <br>\n",
    "Physical activity | Subjective Feature | active | binary |  <br>\n",
    "Presence or absence of cardiovascular disease | Target Variable | cardio | binary |  <br>\n",
    "All of the dataset values were collected at the moment of medical examination. "
   ]
  },
  {
   "cell_type": "markdown",
   "metadata": {},
   "source": [
    "However, there is no information about what the values of the binary variables represent. I will assume that 0 means not present/no and 1 means present/yes."
   ]
  },
  {
   "cell_type": "code",
   "execution_count": 2,
   "metadata": {},
   "outputs": [
    {
     "data": {
      "text/html": [
       "<div>\n",
       "<style scoped>\n",
       "    .dataframe tbody tr th:only-of-type {\n",
       "        vertical-align: middle;\n",
       "    }\n",
       "\n",
       "    .dataframe tbody tr th {\n",
       "        vertical-align: top;\n",
       "    }\n",
       "\n",
       "    .dataframe thead th {\n",
       "        text-align: right;\n",
       "    }\n",
       "</style>\n",
       "<table border=\"1\" class=\"dataframe\">\n",
       "  <thead>\n",
       "    <tr style=\"text-align: right;\">\n",
       "      <th></th>\n",
       "      <th>id</th>\n",
       "      <th>age</th>\n",
       "      <th>gender</th>\n",
       "      <th>height</th>\n",
       "      <th>weight</th>\n",
       "      <th>ap_hi</th>\n",
       "      <th>ap_lo</th>\n",
       "      <th>cholesterol</th>\n",
       "      <th>gluc</th>\n",
       "      <th>smoke</th>\n",
       "      <th>alco</th>\n",
       "      <th>active</th>\n",
       "      <th>cardio</th>\n",
       "    </tr>\n",
       "  </thead>\n",
       "  <tbody>\n",
       "    <tr>\n",
       "      <th>0</th>\n",
       "      <td>0</td>\n",
       "      <td>18393</td>\n",
       "      <td>2</td>\n",
       "      <td>168</td>\n",
       "      <td>62.0</td>\n",
       "      <td>110</td>\n",
       "      <td>80</td>\n",
       "      <td>1</td>\n",
       "      <td>1</td>\n",
       "      <td>0</td>\n",
       "      <td>0</td>\n",
       "      <td>1</td>\n",
       "      <td>0</td>\n",
       "    </tr>\n",
       "    <tr>\n",
       "      <th>1</th>\n",
       "      <td>1</td>\n",
       "      <td>20228</td>\n",
       "      <td>1</td>\n",
       "      <td>156</td>\n",
       "      <td>85.0</td>\n",
       "      <td>140</td>\n",
       "      <td>90</td>\n",
       "      <td>3</td>\n",
       "      <td>1</td>\n",
       "      <td>0</td>\n",
       "      <td>0</td>\n",
       "      <td>1</td>\n",
       "      <td>1</td>\n",
       "    </tr>\n",
       "    <tr>\n",
       "      <th>2</th>\n",
       "      <td>2</td>\n",
       "      <td>18857</td>\n",
       "      <td>1</td>\n",
       "      <td>165</td>\n",
       "      <td>64.0</td>\n",
       "      <td>130</td>\n",
       "      <td>70</td>\n",
       "      <td>3</td>\n",
       "      <td>1</td>\n",
       "      <td>0</td>\n",
       "      <td>0</td>\n",
       "      <td>0</td>\n",
       "      <td>1</td>\n",
       "    </tr>\n",
       "    <tr>\n",
       "      <th>3</th>\n",
       "      <td>3</td>\n",
       "      <td>17623</td>\n",
       "      <td>2</td>\n",
       "      <td>169</td>\n",
       "      <td>82.0</td>\n",
       "      <td>150</td>\n",
       "      <td>100</td>\n",
       "      <td>1</td>\n",
       "      <td>1</td>\n",
       "      <td>0</td>\n",
       "      <td>0</td>\n",
       "      <td>1</td>\n",
       "      <td>1</td>\n",
       "    </tr>\n",
       "    <tr>\n",
       "      <th>4</th>\n",
       "      <td>4</td>\n",
       "      <td>17474</td>\n",
       "      <td>1</td>\n",
       "      <td>156</td>\n",
       "      <td>56.0</td>\n",
       "      <td>100</td>\n",
       "      <td>60</td>\n",
       "      <td>1</td>\n",
       "      <td>1</td>\n",
       "      <td>0</td>\n",
       "      <td>0</td>\n",
       "      <td>0</td>\n",
       "      <td>0</td>\n",
       "    </tr>\n",
       "    <tr>\n",
       "      <th>...</th>\n",
       "      <td>...</td>\n",
       "      <td>...</td>\n",
       "      <td>...</td>\n",
       "      <td>...</td>\n",
       "      <td>...</td>\n",
       "      <td>...</td>\n",
       "      <td>...</td>\n",
       "      <td>...</td>\n",
       "      <td>...</td>\n",
       "      <td>...</td>\n",
       "      <td>...</td>\n",
       "      <td>...</td>\n",
       "      <td>...</td>\n",
       "    </tr>\n",
       "    <tr>\n",
       "      <th>69995</th>\n",
       "      <td>99993</td>\n",
       "      <td>19240</td>\n",
       "      <td>2</td>\n",
       "      <td>168</td>\n",
       "      <td>76.0</td>\n",
       "      <td>120</td>\n",
       "      <td>80</td>\n",
       "      <td>1</td>\n",
       "      <td>1</td>\n",
       "      <td>1</td>\n",
       "      <td>0</td>\n",
       "      <td>1</td>\n",
       "      <td>0</td>\n",
       "    </tr>\n",
       "    <tr>\n",
       "      <th>69996</th>\n",
       "      <td>99995</td>\n",
       "      <td>22601</td>\n",
       "      <td>1</td>\n",
       "      <td>158</td>\n",
       "      <td>126.0</td>\n",
       "      <td>140</td>\n",
       "      <td>90</td>\n",
       "      <td>2</td>\n",
       "      <td>2</td>\n",
       "      <td>0</td>\n",
       "      <td>0</td>\n",
       "      <td>1</td>\n",
       "      <td>1</td>\n",
       "    </tr>\n",
       "    <tr>\n",
       "      <th>69997</th>\n",
       "      <td>99996</td>\n",
       "      <td>19066</td>\n",
       "      <td>2</td>\n",
       "      <td>183</td>\n",
       "      <td>105.0</td>\n",
       "      <td>180</td>\n",
       "      <td>90</td>\n",
       "      <td>3</td>\n",
       "      <td>1</td>\n",
       "      <td>0</td>\n",
       "      <td>1</td>\n",
       "      <td>0</td>\n",
       "      <td>1</td>\n",
       "    </tr>\n",
       "    <tr>\n",
       "      <th>69998</th>\n",
       "      <td>99998</td>\n",
       "      <td>22431</td>\n",
       "      <td>1</td>\n",
       "      <td>163</td>\n",
       "      <td>72.0</td>\n",
       "      <td>135</td>\n",
       "      <td>80</td>\n",
       "      <td>1</td>\n",
       "      <td>2</td>\n",
       "      <td>0</td>\n",
       "      <td>0</td>\n",
       "      <td>0</td>\n",
       "      <td>1</td>\n",
       "    </tr>\n",
       "    <tr>\n",
       "      <th>69999</th>\n",
       "      <td>99999</td>\n",
       "      <td>20540</td>\n",
       "      <td>1</td>\n",
       "      <td>170</td>\n",
       "      <td>72.0</td>\n",
       "      <td>120</td>\n",
       "      <td>80</td>\n",
       "      <td>2</td>\n",
       "      <td>1</td>\n",
       "      <td>0</td>\n",
       "      <td>0</td>\n",
       "      <td>1</td>\n",
       "      <td>0</td>\n",
       "    </tr>\n",
       "  </tbody>\n",
       "</table>\n",
       "<p>70000 rows × 13 columns</p>\n",
       "</div>"
      ],
      "text/plain": [
       "          id    age  gender  height  weight  ap_hi  ap_lo  cholesterol  gluc  \\\n",
       "0          0  18393       2     168    62.0    110     80            1     1   \n",
       "1          1  20228       1     156    85.0    140     90            3     1   \n",
       "2          2  18857       1     165    64.0    130     70            3     1   \n",
       "3          3  17623       2     169    82.0    150    100            1     1   \n",
       "4          4  17474       1     156    56.0    100     60            1     1   \n",
       "...      ...    ...     ...     ...     ...    ...    ...          ...   ...   \n",
       "69995  99993  19240       2     168    76.0    120     80            1     1   \n",
       "69996  99995  22601       1     158   126.0    140     90            2     2   \n",
       "69997  99996  19066       2     183   105.0    180     90            3     1   \n",
       "69998  99998  22431       1     163    72.0    135     80            1     2   \n",
       "69999  99999  20540       1     170    72.0    120     80            2     1   \n",
       "\n",
       "       smoke  alco  active  cardio  \n",
       "0          0     0       1       0  \n",
       "1          0     0       1       1  \n",
       "2          0     0       0       1  \n",
       "3          0     0       1       1  \n",
       "4          0     0       0       0  \n",
       "...      ...   ...     ...     ...  \n",
       "69995      1     0       1       0  \n",
       "69996      0     0       1       1  \n",
       "69997      0     1       0       1  \n",
       "69998      0     0       0       1  \n",
       "69999      0     0       1       0  \n",
       "\n",
       "[70000 rows x 13 columns]"
      ]
     },
     "execution_count": 2,
     "metadata": {},
     "output_type": "execute_result"
    }
   ],
   "source": [
    "df_cardio = pd.read_csv(\"Data/cardio_train.csv\", sep=\";\")\n",
    "df_cardio"
   ]
  },
  {
   "cell_type": "code",
   "execution_count": 3,
   "metadata": {},
   "outputs": [
    {
     "data": {
      "text/html": [
       "<div>\n",
       "<style scoped>\n",
       "    .dataframe tbody tr th:only-of-type {\n",
       "        vertical-align: middle;\n",
       "    }\n",
       "\n",
       "    .dataframe tbody tr th {\n",
       "        vertical-align: top;\n",
       "    }\n",
       "\n",
       "    .dataframe thead th {\n",
       "        text-align: right;\n",
       "    }\n",
       "</style>\n",
       "<table border=\"1\" class=\"dataframe\">\n",
       "  <thead>\n",
       "    <tr style=\"text-align: right;\">\n",
       "      <th></th>\n",
       "      <th>id</th>\n",
       "      <th>age</th>\n",
       "      <th>gender</th>\n",
       "      <th>height</th>\n",
       "      <th>weight</th>\n",
       "      <th>ap_hi</th>\n",
       "      <th>ap_lo</th>\n",
       "      <th>cholesterol</th>\n",
       "      <th>gluc</th>\n",
       "      <th>smoke</th>\n",
       "      <th>alco</th>\n",
       "      <th>active</th>\n",
       "      <th>cardio</th>\n",
       "    </tr>\n",
       "  </thead>\n",
       "  <tbody>\n",
       "    <tr>\n",
       "      <th>count</th>\n",
       "      <td>70000.000000</td>\n",
       "      <td>70000.000000</td>\n",
       "      <td>70000.000000</td>\n",
       "      <td>70000.000000</td>\n",
       "      <td>70000.000000</td>\n",
       "      <td>70000.000000</td>\n",
       "      <td>70000.000000</td>\n",
       "      <td>70000.000000</td>\n",
       "      <td>70000.000000</td>\n",
       "      <td>70000.000000</td>\n",
       "      <td>70000.000000</td>\n",
       "      <td>70000.000000</td>\n",
       "      <td>70000.000000</td>\n",
       "    </tr>\n",
       "    <tr>\n",
       "      <th>mean</th>\n",
       "      <td>49972.419900</td>\n",
       "      <td>19468.865814</td>\n",
       "      <td>1.349571</td>\n",
       "      <td>164.359229</td>\n",
       "      <td>74.205690</td>\n",
       "      <td>128.817286</td>\n",
       "      <td>96.630414</td>\n",
       "      <td>1.366871</td>\n",
       "      <td>1.226457</td>\n",
       "      <td>0.088129</td>\n",
       "      <td>0.053771</td>\n",
       "      <td>0.803729</td>\n",
       "      <td>0.499700</td>\n",
       "    </tr>\n",
       "    <tr>\n",
       "      <th>std</th>\n",
       "      <td>28851.302323</td>\n",
       "      <td>2467.251667</td>\n",
       "      <td>0.476838</td>\n",
       "      <td>8.210126</td>\n",
       "      <td>14.395757</td>\n",
       "      <td>154.011419</td>\n",
       "      <td>188.472530</td>\n",
       "      <td>0.680250</td>\n",
       "      <td>0.572270</td>\n",
       "      <td>0.283484</td>\n",
       "      <td>0.225568</td>\n",
       "      <td>0.397179</td>\n",
       "      <td>0.500003</td>\n",
       "    </tr>\n",
       "    <tr>\n",
       "      <th>min</th>\n",
       "      <td>0.000000</td>\n",
       "      <td>10798.000000</td>\n",
       "      <td>1.000000</td>\n",
       "      <td>55.000000</td>\n",
       "      <td>10.000000</td>\n",
       "      <td>-150.000000</td>\n",
       "      <td>-70.000000</td>\n",
       "      <td>1.000000</td>\n",
       "      <td>1.000000</td>\n",
       "      <td>0.000000</td>\n",
       "      <td>0.000000</td>\n",
       "      <td>0.000000</td>\n",
       "      <td>0.000000</td>\n",
       "    </tr>\n",
       "    <tr>\n",
       "      <th>25%</th>\n",
       "      <td>25006.750000</td>\n",
       "      <td>17664.000000</td>\n",
       "      <td>1.000000</td>\n",
       "      <td>159.000000</td>\n",
       "      <td>65.000000</td>\n",
       "      <td>120.000000</td>\n",
       "      <td>80.000000</td>\n",
       "      <td>1.000000</td>\n",
       "      <td>1.000000</td>\n",
       "      <td>0.000000</td>\n",
       "      <td>0.000000</td>\n",
       "      <td>1.000000</td>\n",
       "      <td>0.000000</td>\n",
       "    </tr>\n",
       "    <tr>\n",
       "      <th>50%</th>\n",
       "      <td>50001.500000</td>\n",
       "      <td>19703.000000</td>\n",
       "      <td>1.000000</td>\n",
       "      <td>165.000000</td>\n",
       "      <td>72.000000</td>\n",
       "      <td>120.000000</td>\n",
       "      <td>80.000000</td>\n",
       "      <td>1.000000</td>\n",
       "      <td>1.000000</td>\n",
       "      <td>0.000000</td>\n",
       "      <td>0.000000</td>\n",
       "      <td>1.000000</td>\n",
       "      <td>0.000000</td>\n",
       "    </tr>\n",
       "    <tr>\n",
       "      <th>75%</th>\n",
       "      <td>74889.250000</td>\n",
       "      <td>21327.000000</td>\n",
       "      <td>2.000000</td>\n",
       "      <td>170.000000</td>\n",
       "      <td>82.000000</td>\n",
       "      <td>140.000000</td>\n",
       "      <td>90.000000</td>\n",
       "      <td>2.000000</td>\n",
       "      <td>1.000000</td>\n",
       "      <td>0.000000</td>\n",
       "      <td>0.000000</td>\n",
       "      <td>1.000000</td>\n",
       "      <td>1.000000</td>\n",
       "    </tr>\n",
       "    <tr>\n",
       "      <th>max</th>\n",
       "      <td>99999.000000</td>\n",
       "      <td>23713.000000</td>\n",
       "      <td>2.000000</td>\n",
       "      <td>250.000000</td>\n",
       "      <td>200.000000</td>\n",
       "      <td>16020.000000</td>\n",
       "      <td>11000.000000</td>\n",
       "      <td>3.000000</td>\n",
       "      <td>3.000000</td>\n",
       "      <td>1.000000</td>\n",
       "      <td>1.000000</td>\n",
       "      <td>1.000000</td>\n",
       "      <td>1.000000</td>\n",
       "    </tr>\n",
       "  </tbody>\n",
       "</table>\n",
       "</div>"
      ],
      "text/plain": [
       "                 id           age        gender        height        weight  \\\n",
       "count  70000.000000  70000.000000  70000.000000  70000.000000  70000.000000   \n",
       "mean   49972.419900  19468.865814      1.349571    164.359229     74.205690   \n",
       "std    28851.302323   2467.251667      0.476838      8.210126     14.395757   \n",
       "min        0.000000  10798.000000      1.000000     55.000000     10.000000   \n",
       "25%    25006.750000  17664.000000      1.000000    159.000000     65.000000   \n",
       "50%    50001.500000  19703.000000      1.000000    165.000000     72.000000   \n",
       "75%    74889.250000  21327.000000      2.000000    170.000000     82.000000   \n",
       "max    99999.000000  23713.000000      2.000000    250.000000    200.000000   \n",
       "\n",
       "              ap_hi         ap_lo   cholesterol          gluc         smoke  \\\n",
       "count  70000.000000  70000.000000  70000.000000  70000.000000  70000.000000   \n",
       "mean     128.817286     96.630414      1.366871      1.226457      0.088129   \n",
       "std      154.011419    188.472530      0.680250      0.572270      0.283484   \n",
       "min     -150.000000    -70.000000      1.000000      1.000000      0.000000   \n",
       "25%      120.000000     80.000000      1.000000      1.000000      0.000000   \n",
       "50%      120.000000     80.000000      1.000000      1.000000      0.000000   \n",
       "75%      140.000000     90.000000      2.000000      1.000000      0.000000   \n",
       "max    16020.000000  11000.000000      3.000000      3.000000      1.000000   \n",
       "\n",
       "               alco        active        cardio  \n",
       "count  70000.000000  70000.000000  70000.000000  \n",
       "mean       0.053771      0.803729      0.499700  \n",
       "std        0.225568      0.397179      0.500003  \n",
       "min        0.000000      0.000000      0.000000  \n",
       "25%        0.000000      1.000000      0.000000  \n",
       "50%        0.000000      1.000000      0.000000  \n",
       "75%        0.000000      1.000000      1.000000  \n",
       "max        1.000000      1.000000      1.000000  "
      ]
     },
     "execution_count": 3,
     "metadata": {},
     "output_type": "execute_result"
    }
   ],
   "source": [
    "df_cardio.describe() #There seems to be some strange values (for example 16020 for ap_hi)"
   ]
  },
  {
   "cell_type": "code",
   "execution_count": 4,
   "metadata": {},
   "outputs": [
    {
     "name": "stdout",
     "output_type": "stream",
     "text": [
      "<class 'pandas.core.frame.DataFrame'>\n",
      "RangeIndex: 70000 entries, 0 to 69999\n",
      "Data columns (total 13 columns):\n",
      " #   Column       Non-Null Count  Dtype  \n",
      "---  ------       --------------  -----  \n",
      " 0   id           70000 non-null  int64  \n",
      " 1   age          70000 non-null  int64  \n",
      " 2   gender       70000 non-null  int64  \n",
      " 3   height       70000 non-null  int64  \n",
      " 4   weight       70000 non-null  float64\n",
      " 5   ap_hi        70000 non-null  int64  \n",
      " 6   ap_lo        70000 non-null  int64  \n",
      " 7   cholesterol  70000 non-null  int64  \n",
      " 8   gluc         70000 non-null  int64  \n",
      " 9   smoke        70000 non-null  int64  \n",
      " 10  alco         70000 non-null  int64  \n",
      " 11  active       70000 non-null  int64  \n",
      " 12  cardio       70000 non-null  int64  \n",
      "dtypes: float64(1), int64(12)\n",
      "memory usage: 6.9 MB\n"
     ]
    }
   ],
   "source": [
    "df_cardio.info() # No missig values"
   ]
  },
  {
   "cell_type": "markdown",
   "metadata": {},
   "source": [
    "## 2.0 - EDA uppvärmning\n",
    "\n",
    "Använd pandas, matplotlib och seaborn för att besvara på följande frågor för datasetet:\n",
    "\n",
    "a) Hur många är positiva för hjärt-kärlsjukdom och hur många är negativa?"
   ]
  },
  {
   "cell_type": "code",
   "execution_count": 5,
   "metadata": {},
   "outputs": [
    {
     "name": "stdout",
     "output_type": "stream",
     "text": [
      "Number of positive cases for cardiovascular disease: 34979\n",
      "Number of negative cases for cardiovascular disease: 35021\n"
     ]
    }
   ],
   "source": [
    "cardio_count = df_cardio[\"cardio\"].value_counts().to_frame()\n",
    "\n",
    "print(f\"Number of positive cases for cardiovascular disease: {cardio_count['cardio'].iloc[1]}\")\n",
    "print(f\"Number of negative cases for cardiovascular disease: {cardio_count['cardio'].iloc[0]}\")"
   ]
  },
  {
   "cell_type": "markdown",
   "metadata": {},
   "source": [
    "Our data is balanced."
   ]
  },
  {
   "cell_type": "markdown",
   "metadata": {},
   "source": [
    "b) Hur stor andel har normala, över normala och långt över normala kolesterolvärden? Rita ett tårtdiagram."
   ]
  },
  {
   "cell_type": "code",
   "execution_count": 7,
   "metadata": {},
   "outputs": [
    {
     "data": {
      "text/html": [
       "<div>\n",
       "<style scoped>\n",
       "    .dataframe tbody tr th:only-of-type {\n",
       "        vertical-align: middle;\n",
       "    }\n",
       "\n",
       "    .dataframe tbody tr th {\n",
       "        vertical-align: top;\n",
       "    }\n",
       "\n",
       "    .dataframe thead th {\n",
       "        text-align: right;\n",
       "    }\n",
       "</style>\n",
       "<table border=\"1\" class=\"dataframe\">\n",
       "  <thead>\n",
       "    <tr style=\"text-align: right;\">\n",
       "      <th></th>\n",
       "      <th>cholesterol</th>\n",
       "    </tr>\n",
       "  </thead>\n",
       "  <tbody>\n",
       "    <tr>\n",
       "      <th>1</th>\n",
       "      <td>52385</td>\n",
       "    </tr>\n",
       "    <tr>\n",
       "      <th>2</th>\n",
       "      <td>9549</td>\n",
       "    </tr>\n",
       "    <tr>\n",
       "      <th>3</th>\n",
       "      <td>8066</td>\n",
       "    </tr>\n",
       "  </tbody>\n",
       "</table>\n",
       "</div>"
      ],
      "text/plain": [
       "   cholesterol\n",
       "1        52385\n",
       "2         9549\n",
       "3         8066"
      ]
     },
     "execution_count": 7,
     "metadata": {},
     "output_type": "execute_result"
    }
   ],
   "source": [
    "cholesterol_count = df_cardio[\"cholesterol\"].value_counts().to_frame()\n",
    "cholesterol_count"
   ]
  },
  {
   "cell_type": "code",
   "execution_count": 8,
   "metadata": {},
   "outputs": [
    {
     "data": {
      "image/png": "[encoded data removed]",
      "text/plain": [
       "<Figure size 720x480 with 1 Axes>"
      ]
     },
     "metadata": {},
     "output_type": "display_data"
    }
   ],
   "source": [
    "fig, ax = plt.subplots(dpi=120, facecolor=\"white\")\n",
    "plt.pie(cholesterol_count[\"cholesterol\"], \n",
    "            labels=[\"Normal\", \"Above Normal\", \"Well Above Normal\"], \n",
    "            colors=[\"darkgreen\", \"gold\", \"red\"],\n",
    "            autopct=\"%1.1f%%\")\n",
    "ax.set_title(\"Cholesterol Levels\");"
   ]
  },
  {
   "cell_type": "markdown",
   "metadata": {},
   "source": [
    "c) Hur ser åldersfördelningen ut? Rita ett histogram."
   ]
  },
  {
   "cell_type": "code",
   "execution_count": 3,
   "metadata": {},
   "outputs": [
    {
     "name": "stdout",
     "output_type": "stream",
     "text": [
      "Youngest person is 29.6 years old. Oldest person is 65.0 years old.\n"
     ]
    }
   ],
   "source": [
    "ages = pd.DataFrame({\"Age\": df_cardio[\"age\"]/365})\n",
    "print(f\"Youngest person is {ages.min()[0]:.1f} years old. Oldest person is {ages.max()[0]:.1f} years old.\")"
   ]
  },
  {
   "cell_type": "code",
   "execution_count": 5,
   "metadata": {},
   "outputs": [
    {
     "data": {
      "image/png": "[encoded data removed]",
      "text/plain": [
       "<Figure size 720x480 with 1 Axes>"
      ]
     },
     "metadata": {
      "needs_background": "light"
     },
     "output_type": "display_data"
    }
   ],
   "source": [
    "fig = plt.figure(dpi=120)\n",
    "ax = sns.histplot(ages, bins=range(25, 70, 5), legend=False)\n",
    "ax.set(title=\"Age Distribution\", xlabel=\"Age\");"
   ]
  },
  {
   "cell_type": "markdown",
   "metadata": {},
   "source": [
    "d) Hur stor andel röker?"
   ]
  },
  {
   "cell_type": "code",
   "execution_count": 9,
   "metadata": {},
   "outputs": [
    {
     "name": "stdout",
     "output_type": "stream",
     "text": [
      "8.8% of the participants smoke.\n"
     ]
    }
   ],
   "source": [
    "print(f\"{df_cardio['smoke'].sum()/len(df_cardio['smoke'])*100:.1f}% of the participants smoke.\")"
   ]
  },
  {
   "cell_type": "markdown",
   "metadata": {},
   "source": [
    "e) Hur ser viktfördelningen ut? Rita lämpligt diagram."
   ]
  },
  {
   "cell_type": "code",
   "execution_count": 11,
   "metadata": {},
   "outputs": [
    {
     "name": "stdout",
     "output_type": "stream",
     "text": [
      "Lightest person weighs 10.0 kg. Heaviest person weighs 200.0 kg.\n"
     ]
    }
   ],
   "source": [
    "print(f\"Lightest person weighs {df_cardio['weight'].min()} kg. Heaviest person weighs {df_cardio['weight'].max()} kg.\")"
   ]
  },
  {
   "cell_type": "code",
   "execution_count": 17,
   "metadata": {},
   "outputs": [
    {
     "data": {
      "image/png": "[encoded data removed]",
      "text/plain": [
       "<Figure size 720x480 with 1 Axes>"
      ]
     },
     "metadata": {
      "needs_background": "light"
     },
     "output_type": "display_data"
    }
   ],
   "source": [
    "fig = plt.figure(dpi=120)\n",
    "ax = sns.histplot(df_cardio[\"weight\"], bins=range(10, 205, 5))\n",
    "ax.set(title=\"Weight Distribution\", xlabel=\"Weight (kg)\");"
   ]
  },
  {
   "cell_type": "markdown",
   "metadata": {},
   "source": [
    "f) Hur ser längdfördelningen ut? Rita lämpligt diagram."
   ]
  },
  {
   "cell_type": "code",
   "execution_count": 13,
   "metadata": {},
   "outputs": [
    {
     "name": "stdout",
     "output_type": "stream",
     "text": [
      "Shortest person is 55 cm. Tallest person is 250 cm.\n"
     ]
    }
   ],
   "source": [
    "print(f\"Shortest person is {df_cardio['height'].min()} cm. Tallest person is {df_cardio['height'].max()} cm.\")"
   ]
  },
  {
   "cell_type": "code",
   "execution_count": 13,
   "metadata": {},
   "outputs": [
    {
     "data": {
      "image/png": "[encoded data removed]",
      "text/plain": [
       "<Figure size 720x480 with 1 Axes>"
      ]
     },
     "metadata": {
      "needs_background": "light"
     },
     "output_type": "display_data"
    }
   ],
   "source": [
    "fig = plt.figure(dpi=120)\n",
    "ax = sns.histplot(df_cardio[\"height\"], bins=range(55, 255, 5))\n",
    "ax.set(title=\"Height Distribution\", xlabel=\"Height (cm)\");"
   ]
  },
  {
   "cell_type": "code",
   "execution_count": 14,
   "metadata": {},
   "outputs": [
    {
     "data": {
      "image/png": "[encoded data removed]",
      "text/plain": [
       "<Figure size 720x480 with 1 Axes>"
      ]
     },
     "metadata": {
      "needs_background": "light"
     },
     "output_type": "display_data"
    }
   ],
   "source": [
    "fig = plt.figure(dpi=120)\n",
    "ax = sns.histplot(df_cardio[\"height\"], bins=range(140, 205, 5))\n",
    "_ = ax.set(title=\"Height Distribution for the Most Common Heights\", xlabel=\"Height (cm)\")"
   ]
  },
  {
   "cell_type": "markdown",
   "metadata": {},
   "source": [
    "g) Hur stor andel av kvinnor respektive män har hjärt-kärlsjukdom? Rita lämpligt diagram"
   ]
  },
  {
   "cell_type": "code",
   "execution_count": 18,
   "metadata": {},
   "outputs": [
    {
     "data": {
      "text/html": [
       "<div>\n",
       "<style scoped>\n",
       "    .dataframe tbody tr th:only-of-type {\n",
       "        vertical-align: middle;\n",
       "    }\n",
       "\n",
       "    .dataframe tbody tr th {\n",
       "        vertical-align: top;\n",
       "    }\n",
       "\n",
       "    .dataframe thead th {\n",
       "        text-align: right;\n",
       "    }\n",
       "</style>\n",
       "<table border=\"1\" class=\"dataframe\">\n",
       "  <thead>\n",
       "    <tr style=\"text-align: right;\">\n",
       "      <th></th>\n",
       "      <th>cardio</th>\n",
       "      <th>gender</th>\n",
       "      <th>%</th>\n",
       "    </tr>\n",
       "  </thead>\n",
       "  <tbody>\n",
       "    <tr>\n",
       "      <th>1</th>\n",
       "      <td>22616</td>\n",
       "      <td>45530</td>\n",
       "      <td>49.67</td>\n",
       "    </tr>\n",
       "    <tr>\n",
       "      <th>2</th>\n",
       "      <td>12363</td>\n",
       "      <td>24470</td>\n",
       "      <td>50.52</td>\n",
       "    </tr>\n",
       "  </tbody>\n",
       "</table>\n",
       "</div>"
      ],
      "text/plain": [
       "   cardio  gender      %\n",
       "1   22616   45530  49.67\n",
       "2   12363   24470  50.52"
      ]
     },
     "execution_count": 18,
     "metadata": {},
     "output_type": "execute_result"
    }
   ],
   "source": [
    "cardio_gender = pd.DataFrame({\"cardio\":df_cardio[\"cardio\"].groupby(df_cardio[\"gender\"]).sum(), \n",
    "                            \"gender\":df_cardio[\"gender\"].value_counts()})\n",
    "cardio_gender[\"%\"] = (cardio_gender[\"cardio\"] / cardio_gender[\"gender\"] * 100).round(2)\n",
    "cardio_gender"
   ]
  },
  {
   "cell_type": "code",
   "execution_count": 19,
   "metadata": {},
   "outputs": [
    {
     "data": {
      "image/png": "[encoded data removed]",
      "text/plain": [
       "<Figure size 720x480 with 1 Axes>"
      ]
     },
     "metadata": {
      "needs_background": "light"
     },
     "output_type": "display_data"
    }
   ],
   "source": [
    "fig = plt.figure(dpi=120)\n",
    "ax = sns.barplot(data=cardio_gender, x=[\"Women\", \"Men\"], y=\"%\")\n",
    "ax.set(xlabel=\"Gender\", title=\"Presence of Cardiovascular Disease for each Gender\")\n",
    "ax.bar_label(ax.containers[0])\n",
    "ax.margins(y=0.1)"
   ]
  },
  {
   "cell_type": "markdown",
   "metadata": {},
   "source": [
    "## 2.1.0 - Feature engineering BMI\n",
    "Skapa en feature för BMI (Body Mass Index), läs på om formeln på wikipedia.\n",
    "\n",
    "a) Släng de samples med orimliga BMIer och outliers. Notera att detta kan vara svårt att avgöra i vilket\n",
    "range av BMIer som vi ska spara. Beskriv hur du gör avvägningen."
   ]
  },
  {
   "cell_type": "code",
   "execution_count": 20,
   "metadata": {},
   "outputs": [
    {
     "data": {
      "text/plain": [
       "0        21.967120\n",
       "1        34.927679\n",
       "2        23.507805\n",
       "3        28.710479\n",
       "4        23.011177\n",
       "           ...    \n",
       "69995    26.927438\n",
       "69996    50.472681\n",
       "69997    31.353579\n",
       "69998    27.099251\n",
       "69999    24.913495\n",
       "Name: BMI, Length: 70000, dtype: float64"
      ]
     },
     "execution_count": 20,
     "metadata": {},
     "output_type": "execute_result"
    }
   ],
   "source": [
    "df_cardio[\"BMI\"] = df_cardio[\"weight\"] / ((df_cardio[\"height\"]/100)**2)\n",
    "df_cardio[\"BMI\"]"
   ]
  },
  {
   "cell_type": "code",
   "execution_count": 19,
   "metadata": {},
   "outputs": [
    {
     "name": "stdout",
     "output_type": "stream",
     "text": [
      "The lowest BMI is 3.47 and the highest is 298.67.\n",
      "These values are not realistic.\n"
     ]
    }
   ],
   "source": [
    "print(f\"The lowest BMI is {df_cardio['BMI'].min():.2f} and the highest is {df_cardio['BMI'].max():.2f}.\")\n",
    "print(\"These values are not realistic.\")"
   ]
  },
  {
   "cell_type": "code",
   "execution_count": 20,
   "metadata": {},
   "outputs": [
    {
     "data": {
      "image/png": "[encoded data removed]",
      "text/plain": [
       "<Figure size 720x480 with 1 Axes>"
      ]
     },
     "metadata": {
      "needs_background": "light"
     },
     "output_type": "display_data"
    }
   ],
   "source": [
    "fig, ax = plt.subplots(dpi=120)\n",
    "ax.boxplot(df_cardio[\"BMI\"]);\n",
    "ax.set_title(\"Boxplot of BMI\")\n",
    "ax.set_ylabel(\"BMI\");"
   ]
  },
  {
   "cell_type": "markdown",
   "metadata": {},
   "source": [
    "As can be seen above, the BMI data is extremely skewed. We have some values very close to 0 and some very high values. Some of these values are impossible. Since the data is skewed, we should not use z-values for outlier detection. Instead we can use the interquartile range rule to detect outliers. "
   ]
  },
  {
   "cell_type": "code",
   "execution_count": 23,
   "metadata": {},
   "outputs": [],
   "source": [
    "def outlier_cut_off(data:pd.Series) -> tuple[float]:\n",
    "    \"\"\"\n",
    "    Identifies outliers according to the interquartile range (IQR) rule.\n",
    "    \n",
    "    Parameters\n",
    "    ----------\n",
    "    data : pd.Series\n",
    "        The variable to calculate outliers for.\n",
    "    \n",
    "    Returns\n",
    "    -------\n",
    "    outlier_low : float\n",
    "        Observations smaller than this value should be considered outliers.\n",
    "    outlier_high : float\n",
    "        Observations larger than this value should be considered outliers.\n",
    "    \"\"\"\n",
    "\n",
    "    quant25 = np.percentile(data, q=25)\n",
    "    quant75 = np.percentile(data, q=75)\n",
    "    iqr = quant75 - quant25\n",
    "\n",
    "    outlier_low = quant25 - 1.5 * iqr\n",
    "    outlier_high = quant75 + 1.5 * iqr\n",
    "\n",
    "    return outlier_low, outlier_high"
   ]
  },
  {
   "cell_type": "code",
   "execution_count": 24,
   "metadata": {},
   "outputs": [
    {
     "name": "stdout",
     "output_type": "stream",
     "text": [
      "According to the IQR-rule, values below 14.35 are outliers.\n",
      "According to the IQR-rule, values above 39.74 are outliers.\n"
     ]
    }
   ],
   "source": [
    "outlier_low_bmi, outlier_high_bmi = outlier_cut_off(df_cardio[\"BMI\"])\n",
    "print(f\"According to the IQR-rule, values below {outlier_low_bmi:.2f} are outliers.\")\n",
    "print(f\"According to the IQR-rule, values above {outlier_high_bmi:.2f} are outliers.\")"
   ]
  },
  {
   "cell_type": "markdown",
   "metadata": {},
   "source": [
    "Somewhat interesting is that there are more observations exactly equal to the first quartile than the third quartile, as can be seen below. This leads to that the quartiles do not have the same size. "
   ]
  },
  {
   "cell_type": "code",
   "execution_count": 25,
   "metadata": {},
   "outputs": [
    {
     "name": "stdout",
     "output_type": "stream",
     "text": [
      "Observations in first quartile: 17194\n",
      "Observations in forth quartile: 17483\n",
      "Number of observations exactly equal to the first quantile value: 943\n",
      "Number of observations exactly equal to the third quantile value: 29\n",
      "There are 943 people with a height of 165 and a weight of 65.0.\n"
     ]
    }
   ],
   "source": [
    "bmi_quant25 = np.percentile(df_cardio[\"BMI\"], q=25)\n",
    "bmi_quant75 = np.percentile(df_cardio[\"BMI\"], q=75)\n",
    "\n",
    "print(f\"Observations in first quartile: {len(df_cardio[df_cardio['BMI'] < bmi_quant25])}\")\n",
    "print(f\"Observations in forth quartile: {len(df_cardio[df_cardio['BMI'] > bmi_quant75])}\")\n",
    "\n",
    "print(f\"Number of observations exactly equal to the first quantile value: {len(df_cardio[df_cardio['BMI'] == bmi_quant25])}\")\n",
    "print(f\"Number of observations exactly equal to the third quantile value: {len(df_cardio[df_cardio['BMI'] == bmi_quant75])}\")\n",
    "\n",
    "values_first_quantile = df_cardio[df_cardio[\"BMI\"] == bmi_quant25]\n",
    "print(f\"There are {len(df_cardio[df_cardio['BMI'] == bmi_quant25])} people with a height of {values_first_quantile['height'].iloc[0]} and a weight of {values_first_quantile['weight'].iloc[0]}.\")"
   ]
  },
  {
   "cell_type": "markdown",
   "metadata": {},
   "source": [
    "If we were to classify an outlier as being a person with a BMI above 39.7 (as calculated by the IQR rule), we would not be able to classify any observations to obesity class 3 (BMI above 40). Some studies have used an even higher obesity category, that is obesity class 4, which is defined as having a BMI above 50.<a href=\"#Mulder(2016)\" id=\"note1ref\"><sup>1</sup></a> Based on this, I therefore decide to omit observations with a BMI above 50. The lower value for outliers, 14.4, seems reasonable, since the cutoff for underweight is at 18.5."
   ]
  },
  {
   "cell_type": "code",
   "execution_count": 24,
   "metadata": {},
   "outputs": [
    {
     "name": "stdout",
     "output_type": "stream",
     "text": [
      "There are 1628 observations with a BMI between 40 and 50.\n",
      "There are 13 observations with a BMI below 14.4.\n",
      "There are 244 observations with a BMI of 50 or above.\n"
     ]
    }
   ],
   "source": [
    "print(f\"There are {len(df_cardio[(df_cardio['BMI'] > 40) & (df_cardio['BMI'] < 50)])} observations with a BMI between 40 and 50.\")\n",
    "print(f\"There are {len(df_cardio[df_cardio['BMI'] < outlier_low_bmi])} observations with a BMI below {outlier_low_bmi:.1f}.\")\n",
    "print(f\"There are {len(df_cardio[df_cardio['BMI'] >= 50])} observations with a BMI of 50 or above.\")"
   ]
  },
  {
   "cell_type": "markdown",
   "metadata": {},
   "source": [
    "I continue with removing all observations with a BMI below 14.4 (*n* = 13) or above/equal to 50 (*n* = 244). "
   ]
  },
  {
   "cell_type": "code",
   "execution_count": 26,
   "metadata": {},
   "outputs": [
    {
     "data": {
      "text/html": [
       "<div>\n",
       "<style scoped>\n",
       "    .dataframe tbody tr th:only-of-type {\n",
       "        vertical-align: middle;\n",
       "    }\n",
       "\n",
       "    .dataframe tbody tr th {\n",
       "        vertical-align: top;\n",
       "    }\n",
       "\n",
       "    .dataframe thead th {\n",
       "        text-align: right;\n",
       "    }\n",
       "</style>\n",
       "<table border=\"1\" class=\"dataframe\">\n",
       "  <thead>\n",
       "    <tr style=\"text-align: right;\">\n",
       "      <th></th>\n",
       "      <th>id</th>\n",
       "      <th>age</th>\n",
       "      <th>gender</th>\n",
       "      <th>height</th>\n",
       "      <th>weight</th>\n",
       "      <th>ap_hi</th>\n",
       "      <th>ap_lo</th>\n",
       "      <th>cholesterol</th>\n",
       "      <th>gluc</th>\n",
       "      <th>smoke</th>\n",
       "      <th>alco</th>\n",
       "      <th>active</th>\n",
       "      <th>cardio</th>\n",
       "      <th>BMI</th>\n",
       "    </tr>\n",
       "  </thead>\n",
       "  <tbody>\n",
       "    <tr>\n",
       "      <th>0</th>\n",
       "      <td>0</td>\n",
       "      <td>18393</td>\n",
       "      <td>2</td>\n",
       "      <td>168</td>\n",
       "      <td>62.0</td>\n",
       "      <td>110</td>\n",
       "      <td>80</td>\n",
       "      <td>1</td>\n",
       "      <td>1</td>\n",
       "      <td>0</td>\n",
       "      <td>0</td>\n",
       "      <td>1</td>\n",
       "      <td>0</td>\n",
       "      <td>21.967120</td>\n",
       "    </tr>\n",
       "    <tr>\n",
       "      <th>1</th>\n",
       "      <td>1</td>\n",
       "      <td>20228</td>\n",
       "      <td>1</td>\n",
       "      <td>156</td>\n",
       "      <td>85.0</td>\n",
       "      <td>140</td>\n",
       "      <td>90</td>\n",
       "      <td>3</td>\n",
       "      <td>1</td>\n",
       "      <td>0</td>\n",
       "      <td>0</td>\n",
       "      <td>1</td>\n",
       "      <td>1</td>\n",
       "      <td>34.927679</td>\n",
       "    </tr>\n",
       "    <tr>\n",
       "      <th>2</th>\n",
       "      <td>2</td>\n",
       "      <td>18857</td>\n",
       "      <td>1</td>\n",
       "      <td>165</td>\n",
       "      <td>64.0</td>\n",
       "      <td>130</td>\n",
       "      <td>70</td>\n",
       "      <td>3</td>\n",
       "      <td>1</td>\n",
       "      <td>0</td>\n",
       "      <td>0</td>\n",
       "      <td>0</td>\n",
       "      <td>1</td>\n",
       "      <td>23.507805</td>\n",
       "    </tr>\n",
       "    <tr>\n",
       "      <th>3</th>\n",
       "      <td>3</td>\n",
       "      <td>17623</td>\n",
       "      <td>2</td>\n",
       "      <td>169</td>\n",
       "      <td>82.0</td>\n",
       "      <td>150</td>\n",
       "      <td>100</td>\n",
       "      <td>1</td>\n",
       "      <td>1</td>\n",
       "      <td>0</td>\n",
       "      <td>0</td>\n",
       "      <td>1</td>\n",
       "      <td>1</td>\n",
       "      <td>28.710479</td>\n",
       "    </tr>\n",
       "    <tr>\n",
       "      <th>4</th>\n",
       "      <td>4</td>\n",
       "      <td>17474</td>\n",
       "      <td>1</td>\n",
       "      <td>156</td>\n",
       "      <td>56.0</td>\n",
       "      <td>100</td>\n",
       "      <td>60</td>\n",
       "      <td>1</td>\n",
       "      <td>1</td>\n",
       "      <td>0</td>\n",
       "      <td>0</td>\n",
       "      <td>0</td>\n",
       "      <td>0</td>\n",
       "      <td>23.011177</td>\n",
       "    </tr>\n",
       "    <tr>\n",
       "      <th>...</th>\n",
       "      <td>...</td>\n",
       "      <td>...</td>\n",
       "      <td>...</td>\n",
       "      <td>...</td>\n",
       "      <td>...</td>\n",
       "      <td>...</td>\n",
       "      <td>...</td>\n",
       "      <td>...</td>\n",
       "      <td>...</td>\n",
       "      <td>...</td>\n",
       "      <td>...</td>\n",
       "      <td>...</td>\n",
       "      <td>...</td>\n",
       "      <td>...</td>\n",
       "    </tr>\n",
       "    <tr>\n",
       "      <th>69994</th>\n",
       "      <td>99992</td>\n",
       "      <td>21074</td>\n",
       "      <td>1</td>\n",
       "      <td>165</td>\n",
       "      <td>80.0</td>\n",
       "      <td>150</td>\n",
       "      <td>80</td>\n",
       "      <td>1</td>\n",
       "      <td>1</td>\n",
       "      <td>0</td>\n",
       "      <td>0</td>\n",
       "      <td>1</td>\n",
       "      <td>1</td>\n",
       "      <td>29.384757</td>\n",
       "    </tr>\n",
       "    <tr>\n",
       "      <th>69995</th>\n",
       "      <td>99993</td>\n",
       "      <td>19240</td>\n",
       "      <td>2</td>\n",
       "      <td>168</td>\n",
       "      <td>76.0</td>\n",
       "      <td>120</td>\n",
       "      <td>80</td>\n",
       "      <td>1</td>\n",
       "      <td>1</td>\n",
       "      <td>1</td>\n",
       "      <td>0</td>\n",
       "      <td>1</td>\n",
       "      <td>0</td>\n",
       "      <td>26.927438</td>\n",
       "    </tr>\n",
       "    <tr>\n",
       "      <th>69997</th>\n",
       "      <td>99996</td>\n",
       "      <td>19066</td>\n",
       "      <td>2</td>\n",
       "      <td>183</td>\n",
       "      <td>105.0</td>\n",
       "      <td>180</td>\n",
       "      <td>90</td>\n",
       "      <td>3</td>\n",
       "      <td>1</td>\n",
       "      <td>0</td>\n",
       "      <td>1</td>\n",
       "      <td>0</td>\n",
       "      <td>1</td>\n",
       "      <td>31.353579</td>\n",
       "    </tr>\n",
       "    <tr>\n",
       "      <th>69998</th>\n",
       "      <td>99998</td>\n",
       "      <td>22431</td>\n",
       "      <td>1</td>\n",
       "      <td>163</td>\n",
       "      <td>72.0</td>\n",
       "      <td>135</td>\n",
       "      <td>80</td>\n",
       "      <td>1</td>\n",
       "      <td>2</td>\n",
       "      <td>0</td>\n",
       "      <td>0</td>\n",
       "      <td>0</td>\n",
       "      <td>1</td>\n",
       "      <td>27.099251</td>\n",
       "    </tr>\n",
       "    <tr>\n",
       "      <th>69999</th>\n",
       "      <td>99999</td>\n",
       "      <td>20540</td>\n",
       "      <td>1</td>\n",
       "      <td>170</td>\n",
       "      <td>72.0</td>\n",
       "      <td>120</td>\n",
       "      <td>80</td>\n",
       "      <td>2</td>\n",
       "      <td>1</td>\n",
       "      <td>0</td>\n",
       "      <td>0</td>\n",
       "      <td>1</td>\n",
       "      <td>0</td>\n",
       "      <td>24.913495</td>\n",
       "    </tr>\n",
       "  </tbody>\n",
       "</table>\n",
       "<p>69743 rows × 14 columns</p>\n",
       "</div>"
      ],
      "text/plain": [
       "          id    age  gender  height  weight  ap_hi  ap_lo  cholesterol  gluc  \\\n",
       "0          0  18393       2     168    62.0    110     80            1     1   \n",
       "1          1  20228       1     156    85.0    140     90            3     1   \n",
       "2          2  18857       1     165    64.0    130     70            3     1   \n",
       "3          3  17623       2     169    82.0    150    100            1     1   \n",
       "4          4  17474       1     156    56.0    100     60            1     1   \n",
       "...      ...    ...     ...     ...     ...    ...    ...          ...   ...   \n",
       "69994  99992  21074       1     165    80.0    150     80            1     1   \n",
       "69995  99993  19240       2     168    76.0    120     80            1     1   \n",
       "69997  99996  19066       2     183   105.0    180     90            3     1   \n",
       "69998  99998  22431       1     163    72.0    135     80            1     2   \n",
       "69999  99999  20540       1     170    72.0    120     80            2     1   \n",
       "\n",
       "       smoke  alco  active  cardio        BMI  \n",
       "0          0     0       1       0  21.967120  \n",
       "1          0     0       1       1  34.927679  \n",
       "2          0     0       0       1  23.507805  \n",
       "3          0     0       1       1  28.710479  \n",
       "4          0     0       0       0  23.011177  \n",
       "...      ...   ...     ...     ...        ...  \n",
       "69994      0     0       1       1  29.384757  \n",
       "69995      1     0       1       0  26.927438  \n",
       "69997      0     1       0       1  31.353579  \n",
       "69998      0     0       0       1  27.099251  \n",
       "69999      0     0       1       0  24.913495  \n",
       "\n",
       "[69743 rows x 14 columns]"
      ]
     },
     "execution_count": 26,
     "metadata": {},
     "output_type": "execute_result"
    }
   ],
   "source": [
    "df_cardio = df_cardio[(df_cardio[\"BMI\"] >= outlier_low_bmi ) & (df_cardio[\"BMI\"] < 50)] \n",
    "df_cardio"
   ]
  },
  {
   "cell_type": "code",
   "execution_count": 26,
   "metadata": {},
   "outputs": [
    {
     "name": "stdout",
     "output_type": "stream",
     "text": [
      "Minimum BMI: 14.5, Maximum BMI: 50.0 (rounded).\n",
      "Minimum height: 98 cm, Maximum height: 207 cm\n",
      "Minimum weight: 28 kg, Maximum weight: 180 kg\n"
     ]
    }
   ],
   "source": [
    "print(f\"Minimum BMI: {df_cardio['BMI'].min():.1f}, Maximum BMI: {df_cardio['BMI'].max():.1f} (rounded).\")\n",
    "print(f\"Minimum height: {df_cardio['height'].min()} cm, Maximum height: {df_cardio['height'].max():.0f} cm\")\n",
    "print(f\"Minimum weight: {df_cardio['weight'].min():.0f} kg, Maximum weight: {df_cardio['weight'].max():.0f} kg\")"
   ]
  },
  {
   "cell_type": "code",
   "execution_count": 27,
   "metadata": {},
   "outputs": [
    {
     "data": {
      "image/png": "[encoded data removed]",
      "text/plain": [
       "<Figure size 720x480 with 1 Axes>"
      ]
     },
     "metadata": {
      "needs_background": "light"
     },
     "output_type": "display_data"
    }
   ],
   "source": [
    "fig, ax = plt.subplots(dpi=120)\n",
    "ax.boxplot(df_cardio[\"BMI\"]);\n",
    "ax.set_title(\"Boxplot of BMI\")\n",
    "ax.set_ylabel(\"BMI\");"
   ]
  },
  {
   "cell_type": "markdown",
   "metadata": {},
   "source": [
    "The shortest person is 98 cm. However, since dwarfism is a risk factor for cardiovascular disease<a href=\"#Wynn(2007)\" id=\"note2ref\"><sup>2</sup></a>, I choose to keep values as small as this. If we were to remove them, it is possible that we would not get good predictions for cardiovascular disease for similar heights."
   ]
  },
  {
   "cell_type": "markdown",
   "metadata": {},
   "source": [
    "b) Skapa en kategorisk BMI-feature med kategorierna: normal range, overweight, obese (class I), obese\n",
    "(class II), obese (class III)."
   ]
  },
  {
   "cell_type": "markdown",
   "metadata": {},
   "source": [
    "Since a low BMI is also a risk factor for cardiovascular disease<a href=\"#Park(2017)\" id=\"note3ref\"><sup>3</sup></a>, I also choose to create a category for underweight. "
   ]
  },
  {
   "cell_type": "code",
   "execution_count": 28,
   "metadata": {},
   "outputs": [
    {
     "data": {
      "text/html": [
       "<div>\n",
       "<style scoped>\n",
       "    .dataframe tbody tr th:only-of-type {\n",
       "        vertical-align: middle;\n",
       "    }\n",
       "\n",
       "    .dataframe tbody tr th {\n",
       "        vertical-align: top;\n",
       "    }\n",
       "\n",
       "    .dataframe thead th {\n",
       "        text-align: right;\n",
       "    }\n",
       "</style>\n",
       "<table border=\"1\" class=\"dataframe\">\n",
       "  <thead>\n",
       "    <tr style=\"text-align: right;\">\n",
       "      <th></th>\n",
       "      <th>id</th>\n",
       "      <th>age</th>\n",
       "      <th>gender</th>\n",
       "      <th>height</th>\n",
       "      <th>weight</th>\n",
       "      <th>ap_hi</th>\n",
       "      <th>ap_lo</th>\n",
       "      <th>cholesterol</th>\n",
       "      <th>gluc</th>\n",
       "      <th>smoke</th>\n",
       "      <th>alco</th>\n",
       "      <th>active</th>\n",
       "      <th>cardio</th>\n",
       "      <th>BMI</th>\n",
       "      <th>BMI_category</th>\n",
       "    </tr>\n",
       "  </thead>\n",
       "  <tbody>\n",
       "    <tr>\n",
       "      <th>0</th>\n",
       "      <td>0</td>\n",
       "      <td>18393</td>\n",
       "      <td>2</td>\n",
       "      <td>168</td>\n",
       "      <td>62.0</td>\n",
       "      <td>110</td>\n",
       "      <td>80</td>\n",
       "      <td>1</td>\n",
       "      <td>1</td>\n",
       "      <td>0</td>\n",
       "      <td>0</td>\n",
       "      <td>1</td>\n",
       "      <td>0</td>\n",
       "      <td>21.967120</td>\n",
       "      <td>Normal Weight</td>\n",
       "    </tr>\n",
       "    <tr>\n",
       "      <th>1</th>\n",
       "      <td>1</td>\n",
       "      <td>20228</td>\n",
       "      <td>1</td>\n",
       "      <td>156</td>\n",
       "      <td>85.0</td>\n",
       "      <td>140</td>\n",
       "      <td>90</td>\n",
       "      <td>3</td>\n",
       "      <td>1</td>\n",
       "      <td>0</td>\n",
       "      <td>0</td>\n",
       "      <td>1</td>\n",
       "      <td>1</td>\n",
       "      <td>34.927679</td>\n",
       "      <td>Obesity Class 1</td>\n",
       "    </tr>\n",
       "    <tr>\n",
       "      <th>2</th>\n",
       "      <td>2</td>\n",
       "      <td>18857</td>\n",
       "      <td>1</td>\n",
       "      <td>165</td>\n",
       "      <td>64.0</td>\n",
       "      <td>130</td>\n",
       "      <td>70</td>\n",
       "      <td>3</td>\n",
       "      <td>1</td>\n",
       "      <td>0</td>\n",
       "      <td>0</td>\n",
       "      <td>0</td>\n",
       "      <td>1</td>\n",
       "      <td>23.507805</td>\n",
       "      <td>Normal Weight</td>\n",
       "    </tr>\n",
       "    <tr>\n",
       "      <th>3</th>\n",
       "      <td>3</td>\n",
       "      <td>17623</td>\n",
       "      <td>2</td>\n",
       "      <td>169</td>\n",
       "      <td>82.0</td>\n",
       "      <td>150</td>\n",
       "      <td>100</td>\n",
       "      <td>1</td>\n",
       "      <td>1</td>\n",
       "      <td>0</td>\n",
       "      <td>0</td>\n",
       "      <td>1</td>\n",
       "      <td>1</td>\n",
       "      <td>28.710479</td>\n",
       "      <td>Overweight</td>\n",
       "    </tr>\n",
       "    <tr>\n",
       "      <th>4</th>\n",
       "      <td>4</td>\n",
       "      <td>17474</td>\n",
       "      <td>1</td>\n",
       "      <td>156</td>\n",
       "      <td>56.0</td>\n",
       "      <td>100</td>\n",
       "      <td>60</td>\n",
       "      <td>1</td>\n",
       "      <td>1</td>\n",
       "      <td>0</td>\n",
       "      <td>0</td>\n",
       "      <td>0</td>\n",
       "      <td>0</td>\n",
       "      <td>23.011177</td>\n",
       "      <td>Normal Weight</td>\n",
       "    </tr>\n",
       "    <tr>\n",
       "      <th>...</th>\n",
       "      <td>...</td>\n",
       "      <td>...</td>\n",
       "      <td>...</td>\n",
       "      <td>...</td>\n",
       "      <td>...</td>\n",
       "      <td>...</td>\n",
       "      <td>...</td>\n",
       "      <td>...</td>\n",
       "      <td>...</td>\n",
       "      <td>...</td>\n",
       "      <td>...</td>\n",
       "      <td>...</td>\n",
       "      <td>...</td>\n",
       "      <td>...</td>\n",
       "      <td>...</td>\n",
       "    </tr>\n",
       "    <tr>\n",
       "      <th>69994</th>\n",
       "      <td>99992</td>\n",
       "      <td>21074</td>\n",
       "      <td>1</td>\n",
       "      <td>165</td>\n",
       "      <td>80.0</td>\n",
       "      <td>150</td>\n",
       "      <td>80</td>\n",
       "      <td>1</td>\n",
       "      <td>1</td>\n",
       "      <td>0</td>\n",
       "      <td>0</td>\n",
       "      <td>1</td>\n",
       "      <td>1</td>\n",
       "      <td>29.384757</td>\n",
       "      <td>Overweight</td>\n",
       "    </tr>\n",
       "    <tr>\n",
       "      <th>69995</th>\n",
       "      <td>99993</td>\n",
       "      <td>19240</td>\n",
       "      <td>2</td>\n",
       "      <td>168</td>\n",
       "      <td>76.0</td>\n",
       "      <td>120</td>\n",
       "      <td>80</td>\n",
       "      <td>1</td>\n",
       "      <td>1</td>\n",
       "      <td>1</td>\n",
       "      <td>0</td>\n",
       "      <td>1</td>\n",
       "      <td>0</td>\n",
       "      <td>26.927438</td>\n",
       "      <td>Overweight</td>\n",
       "    </tr>\n",
       "    <tr>\n",
       "      <th>69997</th>\n",
       "      <td>99996</td>\n",
       "      <td>19066</td>\n",
       "      <td>2</td>\n",
       "      <td>183</td>\n",
       "      <td>105.0</td>\n",
       "      <td>180</td>\n",
       "      <td>90</td>\n",
       "      <td>3</td>\n",
       "      <td>1</td>\n",
       "      <td>0</td>\n",
       "      <td>1</td>\n",
       "      <td>0</td>\n",
       "      <td>1</td>\n",
       "      <td>31.353579</td>\n",
       "      <td>Obesity Class 1</td>\n",
       "    </tr>\n",
       "    <tr>\n",
       "      <th>69998</th>\n",
       "      <td>99998</td>\n",
       "      <td>22431</td>\n",
       "      <td>1</td>\n",
       "      <td>163</td>\n",
       "      <td>72.0</td>\n",
       "      <td>135</td>\n",
       "      <td>80</td>\n",
       "      <td>1</td>\n",
       "      <td>2</td>\n",
       "      <td>0</td>\n",
       "      <td>0</td>\n",
       "      <td>0</td>\n",
       "      <td>1</td>\n",
       "      <td>27.099251</td>\n",
       "      <td>Overweight</td>\n",
       "    </tr>\n",
       "    <tr>\n",
       "      <th>69999</th>\n",
       "      <td>99999</td>\n",
       "      <td>20540</td>\n",
       "      <td>1</td>\n",
       "      <td>170</td>\n",
       "      <td>72.0</td>\n",
       "      <td>120</td>\n",
       "      <td>80</td>\n",
       "      <td>2</td>\n",
       "      <td>1</td>\n",
       "      <td>0</td>\n",
       "      <td>0</td>\n",
       "      <td>1</td>\n",
       "      <td>0</td>\n",
       "      <td>24.913495</td>\n",
       "      <td>Normal Weight</td>\n",
       "    </tr>\n",
       "  </tbody>\n",
       "</table>\n",
       "<p>69743 rows × 15 columns</p>\n",
       "</div>"
      ],
      "text/plain": [
       "          id    age  gender  height  weight  ap_hi  ap_lo  cholesterol  gluc  \\\n",
       "0          0  18393       2     168    62.0    110     80            1     1   \n",
       "1          1  20228       1     156    85.0    140     90            3     1   \n",
       "2          2  18857       1     165    64.0    130     70            3     1   \n",
       "3          3  17623       2     169    82.0    150    100            1     1   \n",
       "4          4  17474       1     156    56.0    100     60            1     1   \n",
       "...      ...    ...     ...     ...     ...    ...    ...          ...   ...   \n",
       "69994  99992  21074       1     165    80.0    150     80            1     1   \n",
       "69995  99993  19240       2     168    76.0    120     80            1     1   \n",
       "69997  99996  19066       2     183   105.0    180     90            3     1   \n",
       "69998  99998  22431       1     163    72.0    135     80            1     2   \n",
       "69999  99999  20540       1     170    72.0    120     80            2     1   \n",
       "\n",
       "       smoke  alco  active  cardio        BMI     BMI_category  \n",
       "0          0     0       1       0  21.967120    Normal Weight  \n",
       "1          0     0       1       1  34.927679  Obesity Class 1  \n",
       "2          0     0       0       1  23.507805    Normal Weight  \n",
       "3          0     0       1       1  28.710479       Overweight  \n",
       "4          0     0       0       0  23.011177    Normal Weight  \n",
       "...      ...   ...     ...     ...        ...              ...  \n",
       "69994      0     0       1       1  29.384757       Overweight  \n",
       "69995      1     0       1       0  26.927438       Overweight  \n",
       "69997      0     1       0       1  31.353579  Obesity Class 1  \n",
       "69998      0     0       0       1  27.099251       Overweight  \n",
       "69999      0     0       1       0  24.913495    Normal Weight  \n",
       "\n",
       "[69743 rows x 15 columns]"
      ]
     },
     "execution_count": 28,
     "metadata": {},
     "output_type": "execute_result"
    }
   ],
   "source": [
    "# Create categories. Reference: https://stackoverflow.com/questions/32633977/how-to-create-categorical-variable-based-on-a-numerical-variable\n",
    "df_cardio=df_cardio.assign(BMI_category=np.nan)\n",
    "df_cardio.loc[(df_cardio[\"BMI\"] < 18.5), \"BMI_category\"] = \"Underweight\"\n",
    "df_cardio.loc[(df_cardio[\"BMI\"] >= 18.5) & (df_cardio[\"BMI\"] <= 25), \"BMI_category\"] = \"Normal Weight\"\n",
    "df_cardio.loc[(df_cardio[\"BMI\"] > 25) & (df_cardio[\"BMI\"] <= 30), \"BMI_category\"] = \"Overweight\"\n",
    "df_cardio.loc[(df_cardio[\"BMI\"] > 30) & (df_cardio[\"BMI\"] <= 35), \"BMI_category\"] = \"Obesity Class 1\"\n",
    "df_cardio.loc[(df_cardio[\"BMI\"] > 35) & (df_cardio[\"BMI\"] <= 40), \"BMI_category\"] = \"Obesity Class 2\"\n",
    "df_cardio.loc[(df_cardio[\"BMI\"] > 40), \"BMI_category\"] = \"Obesity Class 3\"\n",
    "df_cardio"
   ]
  },
  {
   "cell_type": "code",
   "execution_count": 29,
   "metadata": {},
   "outputs": [
    {
     "name": "stdout",
     "output_type": "stream",
     "text": [
      "Missing values: 0\n"
     ]
    },
    {
     "data": {
      "text/plain": [
       "Normal Weight      25804\n",
       "Overweight         25073\n",
       "Obesity Class 1    12211\n",
       "Obesity Class 2     4390\n",
       "Obesity Class 3     1628\n",
       "Underweight          637\n",
       "Name: BMI_category, dtype: int64"
      ]
     },
     "execution_count": 29,
     "metadata": {},
     "output_type": "execute_result"
    }
   ],
   "source": [
    "print(f\"Missing values: {df_cardio['BMI_category'].isna().sum()}\")\n",
    "df_cardio[\"BMI_category\"].value_counts()"
   ]
  },
  {
   "cell_type": "markdown",
   "metadata": {},
   "source": [
    "## 2.1.1 - Feature engineering blodtryck\n",
    "Släng bort samples med orimliga blodtryck och outliers. Likt uppgift 2.1.0 är det inte trivialt att sätta\n",
    "gränserna. Skapa en feature för blodtryckskategorier enligt tabellen i denna artikel.<a href=\"#Holland(2021)\" id=\"note4ref\"><sup>4</sup></a>"
   ]
  },
  {
   "cell_type": "markdown",
   "metadata": {},
   "source": [
    "As can be seen on the boxplots below we have some extremely high and unrealistic blood pressures, which we need to remove. "
   ]
  },
  {
   "cell_type": "code",
   "execution_count": 30,
   "metadata": {},
   "outputs": [
    {
     "data": {
      "image/png": "[encoded data removed]",
      "text/plain": [
       "<Figure size 1200x500 with 2 Axes>"
      ]
     },
     "metadata": {
      "needs_background": "light"
     },
     "output_type": "display_data"
    }
   ],
   "source": [
    "fig, axes = plt.subplots(1, 2, figsize=(12, 5), dpi=100)\n",
    "\n",
    "for ax, feature, name in zip(axes, [\"ap_hi\", \"ap_lo\"], [\"Systolic\", \"Diastolic\"]):\n",
    "    ax.boxplot(df_cardio[feature]);\n",
    "    ax.set_title(f\"Boxplot of {name} Blood Pressure\")\n",
    "    ax.set_ylabel(f\"{name} Blood Pressure\");"
   ]
  },
  {
   "cell_type": "markdown",
   "metadata": {},
   "source": [
    "We also have negative values. "
   ]
  },
  {
   "cell_type": "code",
   "execution_count": 31,
   "metadata": {},
   "outputs": [
    {
     "name": "stdout",
     "output_type": "stream",
     "text": [
      "Minimum Systolic Blood Pressure: -150, Maximum Systolic Blood Pressure: 16020\n",
      "Minimum Diastolic Blood Pressure: -70, Maximum Diastolic Blood Pressure: 16020\n"
     ]
    }
   ],
   "source": [
    "print(f\"Minimum Systolic Blood Pressure: {df_cardio['ap_hi'].min()}, Maximum Systolic Blood Pressure: {df_cardio['ap_hi'].max()}\")\n",
    "print(f\"Minimum Diastolic Blood Pressure: {df_cardio['ap_lo'].min()}, Maximum Diastolic Blood Pressure: {df_cardio['ap_hi'].max()}\") "
   ]
  },
  {
   "cell_type": "markdown",
   "metadata": {},
   "source": [
    "### Systolic Blood Pressure - Data Cleaning\n",
    "\n",
    "I start with detecting outliers based on the IQR rule (since the data is skewed), and continue exploring the data."
   ]
  },
  {
   "cell_type": "code",
   "execution_count": 29,
   "metadata": {},
   "outputs": [
    {
     "name": "stdout",
     "output_type": "stream",
     "text": [
      "According to the IQR-rule, values below 90 are outliers for the systolic blood pressure.\n",
      "According to the IQR-rule, values above 170 are outliers for the systolic blood pressure.\n"
     ]
    }
   ],
   "source": [
    "outlier_low_ap_hi, outlier_high_ap_hi = outlier_cut_off(df_cardio[\"ap_hi\"])\n",
    "print(f\"According to the IQR-rule, values below {outlier_low_ap_hi:.0f} are outliers for the systolic blood pressure.\")\n",
    "print(f\"According to the IQR-rule, values above {outlier_high_ap_hi:.0f} are outliers for the systolic blood pressure.\")"
   ]
  },
  {
   "cell_type": "markdown",
   "metadata": {},
   "source": [
    "There are more people who have values that are exactly equal to the first quantile than the third quantile. "
   ]
  },
  {
   "cell_type": "code",
   "execution_count": 30,
   "metadata": {},
   "outputs": [
    {
     "name": "stdout",
     "output_type": "stream",
     "text": [
      "Number of observations exactly equal to the first quantile value: 27621\n",
      "Number of observations exactly equal to the third quantile value: 9460\n"
     ]
    }
   ],
   "source": [
    "ap_hi_quant25= np.percentile(df_cardio[\"ap_hi\"], q=25)\n",
    "ap_hi_quant75= np.percentile(df_cardio[\"ap_hi\"], q=75)\n",
    "\n",
    "print(f\"Number of observations exactly equal to the first quantile value: {len(df_cardio[df_cardio['ap_hi'] == ap_hi_quant25])}\")\n",
    "print(f\"Number of observations exactly equal to the third quantile value: {len(df_cardio[df_cardio['ap_hi'] == ap_hi_quant75])}\")"
   ]
  },
  {
   "cell_type": "code",
   "execution_count": 34,
   "metadata": {},
   "outputs": [
    {
     "name": "stdout",
     "output_type": "stream",
     "text": [
      "There are 1347 people with a systolic blood pressure below 100.\n",
      "There are 320 people with a systolic blood pressure below 90.\n",
      "There are 206 people with a systolic blood pressure below 80.\n",
      "There are 188 people with a systolic blood pressure below 70.\n",
      "There are 187 people with a systolic blood pressure below 60.\n",
      "There are 187 people with a systolic blood pressure below 50.\n",
      "There are 187 people with a systolic blood pressure below 40.\n",
      "There are 187 people with a systolic blood pressure below 30.\n",
      "There are 182 people with a systolic blood pressure below 20.\n",
      "There are 10 people with a systolic blood pressure below 10.\n"
     ]
    }
   ],
   "source": [
    "for blood_pressure in range(100, 0, -10):\n",
    "    print(f\"There are {len(df_cardio[df_cardio['ap_hi'] < blood_pressure])} people with a systolic blood pressure below {blood_pressure}.\")"
   ]
  },
  {
   "cell_type": "code",
   "execution_count": 35,
   "metadata": {},
   "outputs": [
    {
     "name": "stdout",
     "output_type": "stream",
     "text": [
      "There are 1097 people with a systolic blood pressure above 170.\n",
      "There are 362 people with a systolic blood pressure above 180.\n",
      "There are 214 people with a systolic blood pressure above 190.\n",
      "There are 99 people with a systolic blood pressure above 200.\n",
      "There are 73 people with a systolic blood pressure above 210.\n",
      "There are 48 people with a systolic blood pressure above 220.\n",
      "There are 47 people with a systolic blood pressure above 230.\n",
      "There are 40 people with a systolic blood pressure above 240.\n",
      "There are 40 people with a systolic blood pressure above 250.\n",
      "\n",
      "There are 38 people with a systolic blood pressure above 700\n"
     ]
    }
   ],
   "source": [
    "for blood_pressure in range(170, 260, 10):\n",
    "    print(f\"There are {len(df_cardio[df_cardio['ap_hi'] > blood_pressure])} people with a systolic blood pressure above {blood_pressure}.\")\n",
    "\n",
    "print(f\"\\nThere are {len(df_cardio[df_cardio['ap_hi'] > 700])} people with a systolic blood pressure above 700\")"
   ]
  },
  {
   "cell_type": "markdown",
   "metadata": {},
   "source": [
    "##### Outliers\n",
    "\n",
    "For systolic blood pressure, we have many extreme and unrealistic values (e.g. 38 observations with values above 700, see above). According to the results above for outlier detection, we should not include systolic blood pressures below 90 or above 170. \n",
    "\n",
    "##### Lower Limit\n",
    "\n",
    "Low blood pressure is sometimes defined as values below 90/60 (systolic/diastolic).<a href=\"#MayoClinicStaff(2020)\" id=\"note5ref\"><sup>5</sup></a> The IQR rule defines outliers for systolic blood pressure as values below 90. From the print above we can see that there are only 320 observations below 90 (and 1374 observations below 100). Some of the models I will use (for example Support Vector Classifier) are sensitive to outliers, and I therefore choose a cutoff of 90 (including).\n",
    "\n",
    "##### Upper Limit\n",
    "\n",
    "A hypertensive crisis is classified as having a systolic blood pressure of above 180 (and/or a diastolic blood pressure above 120).<a href=\"#Holland(2021)\" id=\"note4ref\"><sup>4</sup></a> Since my goal is to identify cardiovascular disease, I also want to include people in the hypertensive group. I therefore want to choose a somewhat higher cutoff. Based on the results above, it seems reasonable to construct a group for people with systolic blood pressures between 180 and 220. According to a previous study, it is even common for patients with an underlying hypertensive disease to have systolic blood pressures larger than 220 mmHg.<a href=\"#Gegenhuber(2003)\" id=\"note6ref\"><sup>6</sup></a> Setting a cutoff of 220, would give the hypertensive group the range 180-220. We can also see from the print above that this cutoff lets us keep a lot of the data (there are only 10 people in the group 220-700)."
   ]
  },
  {
   "cell_type": "markdown",
   "metadata": {},
   "source": [
    "### Diastolic Blood Pressure - Data Cleaning\n",
    "\n",
    "I start with detecting outliers for the diastolic blood pressure based on the IQR rule (since the data is skewed) and continue with some other explorations. "
   ]
  },
  {
   "cell_type": "code",
   "execution_count": 31,
   "metadata": {},
   "outputs": [
    {
     "name": "stdout",
     "output_type": "stream",
     "text": [
      "According to the IQR-rule, values below 65 are outliers for the diastolic blood pressure.\n",
      "According to the IQR-rule, values above 105 are outliers for the diastolic blood pressure.\n"
     ]
    }
   ],
   "source": [
    "outlier_low_ap_lo, outlier_high_ap_lo = outlier_cut_off(df_cardio[\"ap_lo\"])\n",
    "print(f\"According to the IQR-rule, values below {outlier_low_ap_lo:.0f} are outliers for the diastolic blood pressure.\")\n",
    "print(f\"According to the IQR-rule, values above {outlier_high_ap_lo:.0f} are outliers for the diastolic blood pressure.\")"
   ]
  },
  {
   "cell_type": "markdown",
   "metadata": {},
   "source": [
    "There are more people who have values that are exactly equal to the first quantile than the third quantile. "
   ]
  },
  {
   "cell_type": "code",
   "execution_count": 37,
   "metadata": {},
   "outputs": [
    {
     "name": "stdout",
     "output_type": "stream",
     "text": [
      "Number of observations exactly equal to the first quantile value: 34744\n",
      "Number of observations exactly equal to the third quantile value: 14243\n",
      "There are 2925 people with a diastolic blood pressure below 65.\n",
      "There are 1681 people with a diastolic blood pressure above 105.\n"
     ]
    }
   ],
   "source": [
    "ap_lo_quant25= np.percentile(df_cardio[\"ap_lo\"], q=25)\n",
    "ap_lo_quant75= np.percentile(df_cardio[\"ap_lo\"], q=75)\n",
    "\n",
    "print(f\"Number of observations exactly equal to the first quantile value: {len(df_cardio[df_cardio['ap_lo'] == ap_lo_quant25])}\")\n",
    "print(f\"Number of observations exactly equal to the third quantile value: {len(df_cardio[df_cardio['ap_lo'] == ap_lo_quant75])}\")\n",
    "print(f\"There are {len(df_cardio[df_cardio['ap_lo'] < 65])} people with a diastolic blood pressure below 65.\")\n",
    "print(f\"There are {len(df_cardio[df_cardio['ap_lo'] > 105])} people with a diastolic blood pressure above 105.\")"
   ]
  },
  {
   "cell_type": "code",
   "execution_count": 38,
   "metadata": {},
   "outputs": [
    {
     "name": "stdout",
     "output_type": "stream",
     "text": [
      "There are 3146 people with a diastolic blood pressure below 70.\n",
      "There are 174 people with a diastolic blood pressure below 60.\n",
      "There are 79 people with a diastolic blood pressure below 50.\n",
      "There are 58 people with a diastolic blood pressure below 40.\n",
      "There are 52 people with a diastolic blood pressure below 30.\n",
      "There are 37 people with a diastolic blood pressure below 20.\n",
      "There are 29 people with a diastolic blood pressure below 10.\n"
     ]
    }
   ],
   "source": [
    "for i in range(70, 0, -10):\n",
    "    print(f\"There are {len(df_cardio[df_cardio['ap_lo'] < i])} people with a diastolic blood pressure below {i}.\")"
   ]
  },
  {
   "cell_type": "code",
   "execution_count": 39,
   "metadata": {},
   "outputs": [
    {
     "name": "stdout",
     "output_type": "stream",
     "text": [
      "There are 1681 people with a diastolic blood pressure above 105.\n",
      "There are 1267 people with a diastolic blood pressure above 110.\n",
      "There are 1251 people with a diastolic blood pressure above 115.\n",
      "There are 1046 people with a diastolic blood pressure above 120.\n",
      "There are 1042 people with a diastolic blood pressure above 125.\n",
      "There are 1006 people with a diastolic blood pressure above 130.\n",
      "There are 1005 people with a diastolic blood pressure above 135.\n",
      "There are 975 people with a diastolic blood pressure above 140.\n",
      "There are 975 people with a diastolic blood pressure above 145.\n",
      "There are 967 people with a diastolic blood pressure above 150.\n",
      "There are 967 people with a diastolic blood pressure above 155.\n",
      "There are 958 people with a diastolic blood pressure above 160.\n",
      "\n",
      "There are 917 people with a diastolic blood pressure above 900.\n"
     ]
    }
   ],
   "source": [
    "for i in range(105, 165, 5):\n",
    "    print(f\"There are {len(df_cardio[df_cardio['ap_lo'] > i])} people with a diastolic blood pressure above {i}.\")\n",
    "print(f\"\\nThere are {len(df_cardio[df_cardio['ap_lo'] > 900])} people with a diastolic blood pressure above 900.\")"
   ]
  },
  {
   "cell_type": "markdown",
   "metadata": {},
   "source": [
    "##### Outliers\n",
    "\n",
    "According to the IQR (see above), values below 65 and above 105 should be considered outliers. Again, since I would like to be able to classify people to the hypertensive group, I would like to have a higher cutoff (and possibly also a lower one).\n",
    "\n",
    "##### Lower Limit\n",
    "\n",
    "There are quite a lot of observations with values below 65 for the diastolic blood pressure (*n* = 2925). Low blood pressure is sometimes defined as a blood pressure below 90/60 (systolic/diastolic).<a href=\"#MayoClinicStaff(2020)\" id=\"note5ref\"><sup>5</sup></a> The IQR rule defines outliers for diastolic blood pressure as values below 65. However, this would lead to removing 2925 observations. Setting a cutoff of 60, in accordance with the definition for low blood pressure, would lead to only removing 174 observations. I therefore choose a cutoff of 60 for the diastolic blood pressure. \n",
    "\n",
    "##### Upper Limit\n",
    "\n",
    "Again, we would like to be able to create a hypertensive group from our data. From the print above it seems reasonable to choose a cutoff of 140, since the number of observations after that drops very slowly (see above). This also makes it possible to create a hypertensive group, defined as having a diastolic blood pressure above 120 (or a systolic blood pressure above 180)<a href=\"#Holland(2021)\" id=\"note4ref\"><sup>4</sup></a>.\n",
    "\n",
    "##### Chosen Cut-Offs\n",
    "\n",
    "I have thus chosen the following range of values: \n",
    "\n",
    "Systolic: 90-220 (both values included)  <br>\n",
    "Diastolic: 60-140 (both values included)"
   ]
  },
  {
   "cell_type": "code",
   "execution_count": 32,
   "metadata": {},
   "outputs": [
    {
     "data": {
      "text/html": [
       "<div>\n",
       "<style scoped>\n",
       "    .dataframe tbody tr th:only-of-type {\n",
       "        vertical-align: middle;\n",
       "    }\n",
       "\n",
       "    .dataframe tbody tr th {\n",
       "        vertical-align: top;\n",
       "    }\n",
       "\n",
       "    .dataframe thead th {\n",
       "        text-align: right;\n",
       "    }\n",
       "</style>\n",
       "<table border=\"1\" class=\"dataframe\">\n",
       "  <thead>\n",
       "    <tr style=\"text-align: right;\">\n",
       "      <th></th>\n",
       "      <th>id</th>\n",
       "      <th>age</th>\n",
       "      <th>gender</th>\n",
       "      <th>height</th>\n",
       "      <th>weight</th>\n",
       "      <th>ap_hi</th>\n",
       "      <th>ap_lo</th>\n",
       "      <th>cholesterol</th>\n",
       "      <th>gluc</th>\n",
       "      <th>smoke</th>\n",
       "      <th>alco</th>\n",
       "      <th>active</th>\n",
       "      <th>cardio</th>\n",
       "      <th>BMI</th>\n",
       "      <th>BMI_category</th>\n",
       "    </tr>\n",
       "  </thead>\n",
       "  <tbody>\n",
       "    <tr>\n",
       "      <th>0</th>\n",
       "      <td>0</td>\n",
       "      <td>18393</td>\n",
       "      <td>2</td>\n",
       "      <td>168</td>\n",
       "      <td>62.0</td>\n",
       "      <td>110</td>\n",
       "      <td>80</td>\n",
       "      <td>1</td>\n",
       "      <td>1</td>\n",
       "      <td>0</td>\n",
       "      <td>0</td>\n",
       "      <td>1</td>\n",
       "      <td>0</td>\n",
       "      <td>21.967120</td>\n",
       "      <td>Normal Weight</td>\n",
       "    </tr>\n",
       "    <tr>\n",
       "      <th>1</th>\n",
       "      <td>1</td>\n",
       "      <td>20228</td>\n",
       "      <td>1</td>\n",
       "      <td>156</td>\n",
       "      <td>85.0</td>\n",
       "      <td>140</td>\n",
       "      <td>90</td>\n",
       "      <td>3</td>\n",
       "      <td>1</td>\n",
       "      <td>0</td>\n",
       "      <td>0</td>\n",
       "      <td>1</td>\n",
       "      <td>1</td>\n",
       "      <td>34.927679</td>\n",
       "      <td>Obesity Class 1</td>\n",
       "    </tr>\n",
       "    <tr>\n",
       "      <th>2</th>\n",
       "      <td>2</td>\n",
       "      <td>18857</td>\n",
       "      <td>1</td>\n",
       "      <td>165</td>\n",
       "      <td>64.0</td>\n",
       "      <td>130</td>\n",
       "      <td>70</td>\n",
       "      <td>3</td>\n",
       "      <td>1</td>\n",
       "      <td>0</td>\n",
       "      <td>0</td>\n",
       "      <td>0</td>\n",
       "      <td>1</td>\n",
       "      <td>23.507805</td>\n",
       "      <td>Normal Weight</td>\n",
       "    </tr>\n",
       "    <tr>\n",
       "      <th>3</th>\n",
       "      <td>3</td>\n",
       "      <td>17623</td>\n",
       "      <td>2</td>\n",
       "      <td>169</td>\n",
       "      <td>82.0</td>\n",
       "      <td>150</td>\n",
       "      <td>100</td>\n",
       "      <td>1</td>\n",
       "      <td>1</td>\n",
       "      <td>0</td>\n",
       "      <td>0</td>\n",
       "      <td>1</td>\n",
       "      <td>1</td>\n",
       "      <td>28.710479</td>\n",
       "      <td>Overweight</td>\n",
       "    </tr>\n",
       "    <tr>\n",
       "      <th>4</th>\n",
       "      <td>4</td>\n",
       "      <td>17474</td>\n",
       "      <td>1</td>\n",
       "      <td>156</td>\n",
       "      <td>56.0</td>\n",
       "      <td>100</td>\n",
       "      <td>60</td>\n",
       "      <td>1</td>\n",
       "      <td>1</td>\n",
       "      <td>0</td>\n",
       "      <td>0</td>\n",
       "      <td>0</td>\n",
       "      <td>0</td>\n",
       "      <td>23.011177</td>\n",
       "      <td>Normal Weight</td>\n",
       "    </tr>\n",
       "    <tr>\n",
       "      <th>...</th>\n",
       "      <td>...</td>\n",
       "      <td>...</td>\n",
       "      <td>...</td>\n",
       "      <td>...</td>\n",
       "      <td>...</td>\n",
       "      <td>...</td>\n",
       "      <td>...</td>\n",
       "      <td>...</td>\n",
       "      <td>...</td>\n",
       "      <td>...</td>\n",
       "      <td>...</td>\n",
       "      <td>...</td>\n",
       "      <td>...</td>\n",
       "      <td>...</td>\n",
       "      <td>...</td>\n",
       "    </tr>\n",
       "    <tr>\n",
       "      <th>69994</th>\n",
       "      <td>99992</td>\n",
       "      <td>21074</td>\n",
       "      <td>1</td>\n",
       "      <td>165</td>\n",
       "      <td>80.0</td>\n",
       "      <td>150</td>\n",
       "      <td>80</td>\n",
       "      <td>1</td>\n",
       "      <td>1</td>\n",
       "      <td>0</td>\n",
       "      <td>0</td>\n",
       "      <td>1</td>\n",
       "      <td>1</td>\n",
       "      <td>29.384757</td>\n",
       "      <td>Overweight</td>\n",
       "    </tr>\n",
       "    <tr>\n",
       "      <th>69995</th>\n",
       "      <td>99993</td>\n",
       "      <td>19240</td>\n",
       "      <td>2</td>\n",
       "      <td>168</td>\n",
       "      <td>76.0</td>\n",
       "      <td>120</td>\n",
       "      <td>80</td>\n",
       "      <td>1</td>\n",
       "      <td>1</td>\n",
       "      <td>1</td>\n",
       "      <td>0</td>\n",
       "      <td>1</td>\n",
       "      <td>0</td>\n",
       "      <td>26.927438</td>\n",
       "      <td>Overweight</td>\n",
       "    </tr>\n",
       "    <tr>\n",
       "      <th>69997</th>\n",
       "      <td>99996</td>\n",
       "      <td>19066</td>\n",
       "      <td>2</td>\n",
       "      <td>183</td>\n",
       "      <td>105.0</td>\n",
       "      <td>180</td>\n",
       "      <td>90</td>\n",
       "      <td>3</td>\n",
       "      <td>1</td>\n",
       "      <td>0</td>\n",
       "      <td>1</td>\n",
       "      <td>0</td>\n",
       "      <td>1</td>\n",
       "      <td>31.353579</td>\n",
       "      <td>Obesity Class 1</td>\n",
       "    </tr>\n",
       "    <tr>\n",
       "      <th>69998</th>\n",
       "      <td>99998</td>\n",
       "      <td>22431</td>\n",
       "      <td>1</td>\n",
       "      <td>163</td>\n",
       "      <td>72.0</td>\n",
       "      <td>135</td>\n",
       "      <td>80</td>\n",
       "      <td>1</td>\n",
       "      <td>2</td>\n",
       "      <td>0</td>\n",
       "      <td>0</td>\n",
       "      <td>0</td>\n",
       "      <td>1</td>\n",
       "      <td>27.099251</td>\n",
       "      <td>Overweight</td>\n",
       "    </tr>\n",
       "    <tr>\n",
       "      <th>69999</th>\n",
       "      <td>99999</td>\n",
       "      <td>20540</td>\n",
       "      <td>1</td>\n",
       "      <td>170</td>\n",
       "      <td>72.0</td>\n",
       "      <td>120</td>\n",
       "      <td>80</td>\n",
       "      <td>2</td>\n",
       "      <td>1</td>\n",
       "      <td>0</td>\n",
       "      <td>0</td>\n",
       "      <td>1</td>\n",
       "      <td>0</td>\n",
       "      <td>24.913495</td>\n",
       "      <td>Normal Weight</td>\n",
       "    </tr>\n",
       "  </tbody>\n",
       "</table>\n",
       "<p>68261 rows × 15 columns</p>\n",
       "</div>"
      ],
      "text/plain": [
       "          id    age  gender  height  weight  ap_hi  ap_lo  cholesterol  gluc  \\\n",
       "0          0  18393       2     168    62.0    110     80            1     1   \n",
       "1          1  20228       1     156    85.0    140     90            3     1   \n",
       "2          2  18857       1     165    64.0    130     70            3     1   \n",
       "3          3  17623       2     169    82.0    150    100            1     1   \n",
       "4          4  17474       1     156    56.0    100     60            1     1   \n",
       "...      ...    ...     ...     ...     ...    ...    ...          ...   ...   \n",
       "69994  99992  21074       1     165    80.0    150     80            1     1   \n",
       "69995  99993  19240       2     168    76.0    120     80            1     1   \n",
       "69997  99996  19066       2     183   105.0    180     90            3     1   \n",
       "69998  99998  22431       1     163    72.0    135     80            1     2   \n",
       "69999  99999  20540       1     170    72.0    120     80            2     1   \n",
       "\n",
       "       smoke  alco  active  cardio        BMI     BMI_category  \n",
       "0          0     0       1       0  21.967120    Normal Weight  \n",
       "1          0     0       1       1  34.927679  Obesity Class 1  \n",
       "2          0     0       0       1  23.507805    Normal Weight  \n",
       "3          0     0       1       1  28.710479       Overweight  \n",
       "4          0     0       0       0  23.011177    Normal Weight  \n",
       "...      ...   ...     ...     ...        ...              ...  \n",
       "69994      0     0       1       1  29.384757       Overweight  \n",
       "69995      1     0       1       0  26.927438       Overweight  \n",
       "69997      0     1       0       1  31.353579  Obesity Class 1  \n",
       "69998      0     0       0       1  27.099251       Overweight  \n",
       "69999      0     0       1       0  24.913495    Normal Weight  \n",
       "\n",
       "[68261 rows x 15 columns]"
      ]
     },
     "execution_count": 32,
     "metadata": {},
     "output_type": "execute_result"
    }
   ],
   "source": [
    "df_cardio = df_cardio[(df_cardio[\"ap_hi\"] >= outlier_low_ap_hi ) & (df_cardio[\"ap_hi\"] <= 220) \n",
    "                    & (df_cardio[\"ap_lo\"] >= 60 ) & (df_cardio[\"ap_lo\"] <= 140)]\n",
    "df_cardio"
   ]
  },
  {
   "cell_type": "markdown",
   "metadata": {},
   "source": [
    "It is not possible for the diastolic blood pressure to be higher or equal to the systolic blood pressure, and I therefore remove these cases. "
   ]
  },
  {
   "cell_type": "code",
   "execution_count": 41,
   "metadata": {},
   "outputs": [
    {
     "name": "stdout",
     "output_type": "stream",
     "text": [
      "In 26 cases the diastolic blood pressure is equal to or higher than the systolic blood pressure.\n"
     ]
    }
   ],
   "source": [
    "print(f\"In {len(df_cardio[df_cardio['ap_lo'] >= df_cardio['ap_hi']])} cases the diastolic blood pressure is equal to or higher than the systolic blood pressure.\")"
   ]
  },
  {
   "cell_type": "code",
   "execution_count": 33,
   "metadata": {},
   "outputs": [
    {
     "data": {
      "text/html": [
       "<div>\n",
       "<style scoped>\n",
       "    .dataframe tbody tr th:only-of-type {\n",
       "        vertical-align: middle;\n",
       "    }\n",
       "\n",
       "    .dataframe tbody tr th {\n",
       "        vertical-align: top;\n",
       "    }\n",
       "\n",
       "    .dataframe thead th {\n",
       "        text-align: right;\n",
       "    }\n",
       "</style>\n",
       "<table border=\"1\" class=\"dataframe\">\n",
       "  <thead>\n",
       "    <tr style=\"text-align: right;\">\n",
       "      <th></th>\n",
       "      <th>id</th>\n",
       "      <th>age</th>\n",
       "      <th>gender</th>\n",
       "      <th>height</th>\n",
       "      <th>weight</th>\n",
       "      <th>ap_hi</th>\n",
       "      <th>ap_lo</th>\n",
       "      <th>cholesterol</th>\n",
       "      <th>gluc</th>\n",
       "      <th>smoke</th>\n",
       "      <th>alco</th>\n",
       "      <th>active</th>\n",
       "      <th>cardio</th>\n",
       "      <th>BMI</th>\n",
       "      <th>BMI_category</th>\n",
       "    </tr>\n",
       "  </thead>\n",
       "  <tbody>\n",
       "    <tr>\n",
       "      <th>4825</th>\n",
       "      <td>6836</td>\n",
       "      <td>19618</td>\n",
       "      <td>2</td>\n",
       "      <td>164</td>\n",
       "      <td>89.0</td>\n",
       "      <td>90</td>\n",
       "      <td>140</td>\n",
       "      <td>2</td>\n",
       "      <td>2</td>\n",
       "      <td>0</td>\n",
       "      <td>0</td>\n",
       "      <td>1</td>\n",
       "      <td>1</td>\n",
       "      <td>33.090422</td>\n",
       "      <td>Obesity Class 1</td>\n",
       "    </tr>\n",
       "    <tr>\n",
       "      <th>5121</th>\n",
       "      <td>7277</td>\n",
       "      <td>17600</td>\n",
       "      <td>2</td>\n",
       "      <td>173</td>\n",
       "      <td>78.0</td>\n",
       "      <td>90</td>\n",
       "      <td>140</td>\n",
       "      <td>1</td>\n",
       "      <td>1</td>\n",
       "      <td>0</td>\n",
       "      <td>1</td>\n",
       "      <td>1</td>\n",
       "      <td>1</td>\n",
       "      <td>26.061679</td>\n",
       "      <td>Overweight</td>\n",
       "    </tr>\n",
       "    <tr>\n",
       "      <th>5446</th>\n",
       "      <td>7737</td>\n",
       "      <td>18968</td>\n",
       "      <td>1</td>\n",
       "      <td>165</td>\n",
       "      <td>110.0</td>\n",
       "      <td>95</td>\n",
       "      <td>130</td>\n",
       "      <td>1</td>\n",
       "      <td>1</td>\n",
       "      <td>0</td>\n",
       "      <td>1</td>\n",
       "      <td>1</td>\n",
       "      <td>1</td>\n",
       "      <td>40.404040</td>\n",
       "      <td>Obesity Class 3</td>\n",
       "    </tr>\n",
       "    <tr>\n",
       "      <th>9010</th>\n",
       "      <td>12847</td>\n",
       "      <td>20400</td>\n",
       "      <td>2</td>\n",
       "      <td>176</td>\n",
       "      <td>82.0</td>\n",
       "      <td>90</td>\n",
       "      <td>130</td>\n",
       "      <td>3</td>\n",
       "      <td>3</td>\n",
       "      <td>0</td>\n",
       "      <td>0</td>\n",
       "      <td>1</td>\n",
       "      <td>1</td>\n",
       "      <td>26.472107</td>\n",
       "      <td>Overweight</td>\n",
       "    </tr>\n",
       "    <tr>\n",
       "      <th>10748</th>\n",
       "      <td>15369</td>\n",
       "      <td>20743</td>\n",
       "      <td>2</td>\n",
       "      <td>170</td>\n",
       "      <td>77.0</td>\n",
       "      <td>90</td>\n",
       "      <td>130</td>\n",
       "      <td>1</td>\n",
       "      <td>1</td>\n",
       "      <td>0</td>\n",
       "      <td>0</td>\n",
       "      <td>0</td>\n",
       "      <td>0</td>\n",
       "      <td>26.643599</td>\n",
       "      <td>Overweight</td>\n",
       "    </tr>\n",
       "  </tbody>\n",
       "</table>\n",
       "</div>"
      ],
      "text/plain": [
       "          id    age  gender  height  weight  ap_hi  ap_lo  cholesterol  gluc  \\\n",
       "4825    6836  19618       2     164    89.0     90    140            2     2   \n",
       "5121    7277  17600       2     173    78.0     90    140            1     1   \n",
       "5446    7737  18968       1     165   110.0     95    130            1     1   \n",
       "9010   12847  20400       2     176    82.0     90    130            3     3   \n",
       "10748  15369  20743       2     170    77.0     90    130            1     1   \n",
       "\n",
       "       smoke  alco  active  cardio        BMI     BMI_category  \n",
       "4825       0     0       1       1  33.090422  Obesity Class 1  \n",
       "5121       0     1       1       1  26.061679       Overweight  \n",
       "5446       0     1       1       1  40.404040  Obesity Class 3  \n",
       "9010       0     0       1       1  26.472107       Overweight  \n",
       "10748      0     0       0       0  26.643599       Overweight  "
      ]
     },
     "execution_count": 33,
     "metadata": {},
     "output_type": "execute_result"
    }
   ],
   "source": [
    "df_cardio[df_cardio['ap_lo'] >= df_cardio['ap_hi']].head(5)"
   ]
  },
  {
   "cell_type": "code",
   "execution_count": 34,
   "metadata": {},
   "outputs": [
    {
     "data": {
      "text/html": [
       "<div>\n",
       "<style scoped>\n",
       "    .dataframe tbody tr th:only-of-type {\n",
       "        vertical-align: middle;\n",
       "    }\n",
       "\n",
       "    .dataframe tbody tr th {\n",
       "        vertical-align: top;\n",
       "    }\n",
       "\n",
       "    .dataframe thead th {\n",
       "        text-align: right;\n",
       "    }\n",
       "</style>\n",
       "<table border=\"1\" class=\"dataframe\">\n",
       "  <thead>\n",
       "    <tr style=\"text-align: right;\">\n",
       "      <th></th>\n",
       "      <th>id</th>\n",
       "      <th>age</th>\n",
       "      <th>gender</th>\n",
       "      <th>height</th>\n",
       "      <th>weight</th>\n",
       "      <th>ap_hi</th>\n",
       "      <th>ap_lo</th>\n",
       "      <th>cholesterol</th>\n",
       "      <th>gluc</th>\n",
       "      <th>smoke</th>\n",
       "      <th>alco</th>\n",
       "      <th>active</th>\n",
       "      <th>cardio</th>\n",
       "      <th>BMI</th>\n",
       "      <th>BMI_category</th>\n",
       "    </tr>\n",
       "  </thead>\n",
       "  <tbody>\n",
       "    <tr>\n",
       "      <th>0</th>\n",
       "      <td>0</td>\n",
       "      <td>18393</td>\n",
       "      <td>2</td>\n",
       "      <td>168</td>\n",
       "      <td>62.0</td>\n",
       "      <td>110</td>\n",
       "      <td>80</td>\n",
       "      <td>1</td>\n",
       "      <td>1</td>\n",
       "      <td>0</td>\n",
       "      <td>0</td>\n",
       "      <td>1</td>\n",
       "      <td>0</td>\n",
       "      <td>21.967120</td>\n",
       "      <td>Normal Weight</td>\n",
       "    </tr>\n",
       "    <tr>\n",
       "      <th>1</th>\n",
       "      <td>1</td>\n",
       "      <td>20228</td>\n",
       "      <td>1</td>\n",
       "      <td>156</td>\n",
       "      <td>85.0</td>\n",
       "      <td>140</td>\n",
       "      <td>90</td>\n",
       "      <td>3</td>\n",
       "      <td>1</td>\n",
       "      <td>0</td>\n",
       "      <td>0</td>\n",
       "      <td>1</td>\n",
       "      <td>1</td>\n",
       "      <td>34.927679</td>\n",
       "      <td>Obesity Class 1</td>\n",
       "    </tr>\n",
       "    <tr>\n",
       "      <th>2</th>\n",
       "      <td>2</td>\n",
       "      <td>18857</td>\n",
       "      <td>1</td>\n",
       "      <td>165</td>\n",
       "      <td>64.0</td>\n",
       "      <td>130</td>\n",
       "      <td>70</td>\n",
       "      <td>3</td>\n",
       "      <td>1</td>\n",
       "      <td>0</td>\n",
       "      <td>0</td>\n",
       "      <td>0</td>\n",
       "      <td>1</td>\n",
       "      <td>23.507805</td>\n",
       "      <td>Normal Weight</td>\n",
       "    </tr>\n",
       "    <tr>\n",
       "      <th>3</th>\n",
       "      <td>3</td>\n",
       "      <td>17623</td>\n",
       "      <td>2</td>\n",
       "      <td>169</td>\n",
       "      <td>82.0</td>\n",
       "      <td>150</td>\n",
       "      <td>100</td>\n",
       "      <td>1</td>\n",
       "      <td>1</td>\n",
       "      <td>0</td>\n",
       "      <td>0</td>\n",
       "      <td>1</td>\n",
       "      <td>1</td>\n",
       "      <td>28.710479</td>\n",
       "      <td>Overweight</td>\n",
       "    </tr>\n",
       "    <tr>\n",
       "      <th>4</th>\n",
       "      <td>4</td>\n",
       "      <td>17474</td>\n",
       "      <td>1</td>\n",
       "      <td>156</td>\n",
       "      <td>56.0</td>\n",
       "      <td>100</td>\n",
       "      <td>60</td>\n",
       "      <td>1</td>\n",
       "      <td>1</td>\n",
       "      <td>0</td>\n",
       "      <td>0</td>\n",
       "      <td>0</td>\n",
       "      <td>0</td>\n",
       "      <td>23.011177</td>\n",
       "      <td>Normal Weight</td>\n",
       "    </tr>\n",
       "    <tr>\n",
       "      <th>...</th>\n",
       "      <td>...</td>\n",
       "      <td>...</td>\n",
       "      <td>...</td>\n",
       "      <td>...</td>\n",
       "      <td>...</td>\n",
       "      <td>...</td>\n",
       "      <td>...</td>\n",
       "      <td>...</td>\n",
       "      <td>...</td>\n",
       "      <td>...</td>\n",
       "      <td>...</td>\n",
       "      <td>...</td>\n",
       "      <td>...</td>\n",
       "      <td>...</td>\n",
       "      <td>...</td>\n",
       "    </tr>\n",
       "    <tr>\n",
       "      <th>69994</th>\n",
       "      <td>99992</td>\n",
       "      <td>21074</td>\n",
       "      <td>1</td>\n",
       "      <td>165</td>\n",
       "      <td>80.0</td>\n",
       "      <td>150</td>\n",
       "      <td>80</td>\n",
       "      <td>1</td>\n",
       "      <td>1</td>\n",
       "      <td>0</td>\n",
       "      <td>0</td>\n",
       "      <td>1</td>\n",
       "      <td>1</td>\n",
       "      <td>29.384757</td>\n",
       "      <td>Overweight</td>\n",
       "    </tr>\n",
       "    <tr>\n",
       "      <th>69995</th>\n",
       "      <td>99993</td>\n",
       "      <td>19240</td>\n",
       "      <td>2</td>\n",
       "      <td>168</td>\n",
       "      <td>76.0</td>\n",
       "      <td>120</td>\n",
       "      <td>80</td>\n",
       "      <td>1</td>\n",
       "      <td>1</td>\n",
       "      <td>1</td>\n",
       "      <td>0</td>\n",
       "      <td>1</td>\n",
       "      <td>0</td>\n",
       "      <td>26.927438</td>\n",
       "      <td>Overweight</td>\n",
       "    </tr>\n",
       "    <tr>\n",
       "      <th>69997</th>\n",
       "      <td>99996</td>\n",
       "      <td>19066</td>\n",
       "      <td>2</td>\n",
       "      <td>183</td>\n",
       "      <td>105.0</td>\n",
       "      <td>180</td>\n",
       "      <td>90</td>\n",
       "      <td>3</td>\n",
       "      <td>1</td>\n",
       "      <td>0</td>\n",
       "      <td>1</td>\n",
       "      <td>0</td>\n",
       "      <td>1</td>\n",
       "      <td>31.353579</td>\n",
       "      <td>Obesity Class 1</td>\n",
       "    </tr>\n",
       "    <tr>\n",
       "      <th>69998</th>\n",
       "      <td>99998</td>\n",
       "      <td>22431</td>\n",
       "      <td>1</td>\n",
       "      <td>163</td>\n",
       "      <td>72.0</td>\n",
       "      <td>135</td>\n",
       "      <td>80</td>\n",
       "      <td>1</td>\n",
       "      <td>2</td>\n",
       "      <td>0</td>\n",
       "      <td>0</td>\n",
       "      <td>0</td>\n",
       "      <td>1</td>\n",
       "      <td>27.099251</td>\n",
       "      <td>Overweight</td>\n",
       "    </tr>\n",
       "    <tr>\n",
       "      <th>69999</th>\n",
       "      <td>99999</td>\n",
       "      <td>20540</td>\n",
       "      <td>1</td>\n",
       "      <td>170</td>\n",
       "      <td>72.0</td>\n",
       "      <td>120</td>\n",
       "      <td>80</td>\n",
       "      <td>2</td>\n",
       "      <td>1</td>\n",
       "      <td>0</td>\n",
       "      <td>0</td>\n",
       "      <td>1</td>\n",
       "      <td>0</td>\n",
       "      <td>24.913495</td>\n",
       "      <td>Normal Weight</td>\n",
       "    </tr>\n",
       "  </tbody>\n",
       "</table>\n",
       "<p>68235 rows × 15 columns</p>\n",
       "</div>"
      ],
      "text/plain": [
       "          id    age  gender  height  weight  ap_hi  ap_lo  cholesterol  gluc  \\\n",
       "0          0  18393       2     168    62.0    110     80            1     1   \n",
       "1          1  20228       1     156    85.0    140     90            3     1   \n",
       "2          2  18857       1     165    64.0    130     70            3     1   \n",
       "3          3  17623       2     169    82.0    150    100            1     1   \n",
       "4          4  17474       1     156    56.0    100     60            1     1   \n",
       "...      ...    ...     ...     ...     ...    ...    ...          ...   ...   \n",
       "69994  99992  21074       1     165    80.0    150     80            1     1   \n",
       "69995  99993  19240       2     168    76.0    120     80            1     1   \n",
       "69997  99996  19066       2     183   105.0    180     90            3     1   \n",
       "69998  99998  22431       1     163    72.0    135     80            1     2   \n",
       "69999  99999  20540       1     170    72.0    120     80            2     1   \n",
       "\n",
       "       smoke  alco  active  cardio        BMI     BMI_category  \n",
       "0          0     0       1       0  21.967120    Normal Weight  \n",
       "1          0     0       1       1  34.927679  Obesity Class 1  \n",
       "2          0     0       0       1  23.507805    Normal Weight  \n",
       "3          0     0       1       1  28.710479       Overweight  \n",
       "4          0     0       0       0  23.011177    Normal Weight  \n",
       "...      ...   ...     ...     ...        ...              ...  \n",
       "69994      0     0       1       1  29.384757       Overweight  \n",
       "69995      1     0       1       0  26.927438       Overweight  \n",
       "69997      0     1       0       1  31.353579  Obesity Class 1  \n",
       "69998      0     0       0       1  27.099251       Overweight  \n",
       "69999      0     0       1       0  24.913495    Normal Weight  \n",
       "\n",
       "[68235 rows x 15 columns]"
      ]
     },
     "execution_count": 34,
     "metadata": {},
     "output_type": "execute_result"
    }
   ],
   "source": [
    "# Removing the cases\n",
    "df_cardio = df_cardio[df_cardio['ap_lo'] < df_cardio['ap_hi']]\n",
    "df_cardio"
   ]
  },
  {
   "cell_type": "code",
   "execution_count": 44,
   "metadata": {},
   "outputs": [
    {
     "name": "stdout",
     "output_type": "stream",
     "text": [
      "Minimum Systolic Blood Pressure: 90, Maximum Systolic Blood Pressure: 220\n",
      "Minimum Diastolic Blood Pressure: 60, Maximum Diastolic Blood Pressure: 140\n",
      "In 0 cases the diastolic blood pressure is equal to or higher than the systolic blood pressure.\n"
     ]
    }
   ],
   "source": [
    "print(f\"Minimum Systolic Blood Pressure: {df_cardio['ap_hi'].min()}, Maximum Systolic Blood Pressure: {df_cardio['ap_hi'].max()}\")\n",
    "print(f\"Minimum Diastolic Blood Pressure: {df_cardio['ap_lo'].min()}, Maximum Diastolic Blood Pressure: {df_cardio['ap_lo'].max()}\") \n",
    "print(f\"In {len(df_cardio[df_cardio['ap_lo'] >= df_cardio['ap_hi']])} cases the diastolic blood pressure is equal to or higher than the systolic blood pressure.\")"
   ]
  },
  {
   "cell_type": "code",
   "execution_count": 45,
   "metadata": {},
   "outputs": [
    {
     "data": {
      "image/png": "[encoded data removed]",
      "text/plain": [
       "<Figure size 1200x500 with 2 Axes>"
      ]
     },
     "metadata": {
      "needs_background": "light"
     },
     "output_type": "display_data"
    }
   ],
   "source": [
    "fig, axes = plt.subplots(1, 2, figsize=(12, 5), dpi=100)\n",
    "\n",
    "for ax, feature, name in zip(axes, [\"ap_hi\", \"ap_lo\"], [\"Systolic\", \"Diastolic\"]):\n",
    "    ax.boxplot(df_cardio[feature]);\n",
    "    ax.set_title(f\"Boxplot of {name} Blood Pressure\")\n",
    "    ax.set_ylabel(f\"{name} Blood Pressure\");"
   ]
  },
  {
   "cell_type": "markdown",
   "metadata": {},
   "source": [
    "### Creating the Blood Pressure Categories"
   ]
  },
  {
   "cell_type": "code",
   "execution_count": 35,
   "metadata": {},
   "outputs": [],
   "source": [
    "# Reference: https://stackoverflow.com/questions/32633977/how-to-create-categorical-variable-based-on-a-numerical-variable\n",
    "df_cardio=df_cardio.assign(BP_category=np.nan)\n",
    "df_cardio.loc[(df_cardio[\"ap_hi\"] < 120) & (df_cardio[\"ap_lo\"] < 80), \n",
    "            \"BP_category\"] = \"Healthy\"\n",
    "df_cardio.loc[(df_cardio[\"ap_hi\"] >= 120) & (df_cardio[\"ap_hi\"] < 130) \n",
    "            & (df_cardio[\"ap_lo\"] < 80), \n",
    "            \"BP_category\"] = \"Elevated\"\n",
    "df_cardio.loc[((df_cardio[\"ap_hi\"] >= 130) & (df_cardio[\"ap_hi\"] < 140)) \n",
    "            | ((df_cardio[\"ap_lo\"] >= 80) & (df_cardio[\"ap_lo\"] < 90)), \n",
    "            \"BP_category\"] = \"Hypertension Stage 1\"\n",
    "df_cardio.loc[((df_cardio[\"ap_hi\"] >= 140) & (df_cardio[\"ap_hi\"] <= 180)) \n",
    "            | ((df_cardio[\"ap_lo\"] >= 90) & (df_cardio[\"ap_lo\"] <= 120)), \n",
    "            \"BP_category\"] = \"Hypertension Stage 2\"\n",
    "df_cardio.loc[(df_cardio[\"ap_hi\"] > 180) | (df_cardio[\"ap_lo\"] > 120), \n",
    "            \"BP_category\"] = \"Hypertension Crisis\"\n"
   ]
  },
  {
   "cell_type": "code",
   "execution_count": 36,
   "metadata": {},
   "outputs": [
    {
     "name": "stdout",
     "output_type": "stream",
     "text": [
      "Missing values: 0\n"
     ]
    },
    {
     "data": {
      "text/plain": [
       "Hypertension Stage 1    32359\n",
       "Hypertension Stage 2    23107\n",
       "Healthy                  9398\n",
       "Elevated                 3096\n",
       "Hypertension Crisis       275\n",
       "Name: BP_category, dtype: int64"
      ]
     },
     "execution_count": 36,
     "metadata": {},
     "output_type": "execute_result"
    }
   ],
   "source": [
    "print(f\"Missing values: {df_cardio['BP_category'].isna().sum()}\")\n",
    "df_cardio[\"BP_category\"].value_counts()"
   ]
  },
  {
   "cell_type": "markdown",
   "metadata": {},
   "source": [
    "## 2.2.0 - Visualiseringar andel sjukdomar\n",
    "Skapa barplots med en feature mot andelen positiva för hjärt-kärlsjukdom. Exempelvis blodtryckskategorier\n",
    "mot andel positiva, BMI kategori mot andel positiva mm. Gör dessa plots i en figur med flera subplots."
   ]
  },
  {
   "cell_type": "code",
   "execution_count": 48,
   "metadata": {},
   "outputs": [
    {
     "data": {
      "image/png": "[encoded data removed]",
      "text/plain": [
       "<Figure size 1200x900 with 6 Axes>"
      ]
     },
     "metadata": {
      "needs_background": "light"
     },
     "output_type": "display_data"
    }
   ],
   "source": [
    "columns = [\"BMI_category\", \"BP_category\", \"cholesterol\", \"gluc\", \"smoke\", \"alco\", \"active\"]\n",
    "titles = [\"BMI\", \"Blood Pressure\", \"Cholesterol Level\", \"Glucose Level\", \"Smoker\", \"Physical Activity\"]\n",
    "\n",
    "fig, axes = plt.subplots(2, 3, figsize=(12, 9), dpi=100)\n",
    "\n",
    "for ax, column, title, count in zip(axes.flatten(), columns, titles, range(6)):\n",
    "\n",
    "    # Creates a dataframe with the data for each subplot\n",
    "    # Calculates the number of cases with cardiovascular disease for each categorical variable in the columns list\n",
    "    df_category = pd.DataFrame({\"Positive\":df_cardio[\"cardio\"].groupby(df_cardio[column]).sum(),\n",
    "                                \"Total\":df_cardio[column].value_counts()}).reset_index()\n",
    "    \n",
    "    df_category = df_category.rename({\"index\":\"Category\"}, axis=1)\n",
    "    df_category[\"%\"] = (df_category[\"Positive\"] / df_category[\"Total\"] * 100).round(1)\n",
    "    df_category = df_category.sort_values(by=\"%\")\n",
    "    \n",
    "    # PLOTTING\n",
    "    sns.barplot(data = df_category, x=\"Category\", y=\"%\", ax = ax, palette=\"Set1\")\n",
    "    \n",
    "    # Ax settings\n",
    "    ax.set(title=title, xlabel=\"\", ymargin=0.1)\n",
    "    ax.bar_label(ax.containers[0]) # Sets the value for each bar, Reference: https://stackoverflow.com/questions/68320207/how-to-get-the-label-values-on-a-bar-chat-with-seaborn-on-a-categorical-data\n",
    "\n",
    "    # Set the tick label for each subplot\n",
    "    if count <= 1:\n",
    "        ax.set_xticklabels(ax.get_xticklabels(), rotation=90, size=9)\n",
    "    elif count == 2 or count == 3:\n",
    "        ax.set_xticklabels([\"Normal\", \"Above Normal\", \"Well Above Normal\"], rotation=90, size=9)\n",
    "    else:\n",
    "        ax.set_xticklabels([\"No\", \"Yes\"], size=9)\n",
    "\n",
    "    #Figure settings\n",
    "    fig.tight_layout()\n",
    "    fig.suptitle(\"Risk Factors for Cardiovascular Disease (% Positive per Category)\", y=1.01, fontweight=\"bold\", size=16)"
   ]
  },
  {
   "cell_type": "markdown",
   "metadata": {},
   "source": [
    "##### Some Thoughts about the Plot\n",
    "\n",
    "*BMI:*\n",
    "According to the plot above, people in the underweight group had the lowest risk for cardiovascular disease. This was a bit surprising to me, and not according to previous research. \n",
    "\n",
    "*Smoking:*\n",
    "I also noted that smokers had a lower risk (however, I am not sure if it is statistical significant) for cardiovascular disease than non-smokers. "
   ]
  },
  {
   "cell_type": "markdown",
   "metadata": {},
   "source": [
    "## 2.2.1 - Visualiseringar korrelation\n",
    "Skapa en heatmap av korrelationer och se om du hittar features som är starkt korrelerade, dvs nära 1 eller\n",
    "features som är starkt negativt korrelerade, dvs nära -1. Kan du förklara varför de kan vara korrelerade?"
   ]
  },
  {
   "cell_type": "code",
   "execution_count": 37,
   "metadata": {},
   "outputs": [
    {
     "data": {
      "image/png": "[encoded data removed]",
      "text/plain": [
       "<Figure size 720x480 with 2 Axes>"
      ]
     },
     "metadata": {
      "needs_background": "light"
     },
     "output_type": "display_data"
    }
   ],
   "source": [
    "tick_labels = [\"Age\", \"Height\", \"Weight\", \"Systolic\", \"Diastolic\", \"BMI\"]\n",
    "\n",
    "fig, ax = plt.subplots(dpi=120)\n",
    "_ = sns.heatmap(df_cardio[[\"age\", \"height\", \"weight\", \"ap_hi\", \"ap_lo\", \"BMI\"]].corr(), \n",
    "                cmap=\"flare\", \n",
    "                annot=True, \n",
    "                xticklabels=tick_labels, \n",
    "                yticklabels=tick_labels\n",
    "                )\n",
    "\n",
    "_ = ax.set_title(\"Correlations between the Continuous Variables\")"
   ]
  },
  {
   "cell_type": "markdown",
   "metadata": {},
   "source": [
    "In general, correlations are weak. We have a few highly correlated features: \n",
    "- Weight and BMI (0.86): makes sense since BMI is calculated from weight. \n",
    "- Systolic and Diastolic Blood Pressure (0.73): also makes sense since when one of them increases, the other usually also increases and vice versa.\n",
    "\n",
    "Interestingly, the correlation between height and weight is only 0.32."
   ]
  },
  {
   "cell_type": "markdown",
   "metadata": {},
   "source": [
    "## 2.3 - Skapa två dataset\n",
    "Skapa en kopia av ditt dataframe. På ena dataframet:\n",
    "- ta bort följande features: ap_hi, ap_lo, height, weight, BMI\n",
    "- gör one-hot encoding på BMI-kategori, blodtryckskategori, kön\n",
    "\n",
    "På andra dataframet:\n",
    "- ta bort följande features: BMI-kategori, blodtryckskategori, height, weight\n",
    "- gör one-hot encoding på kön"
   ]
  },
  {
   "cell_type": "markdown",
   "metadata": {},
   "source": [
    "In addition to this, I also chose to do dummy coding for cholesterol and glucose, since these were coded as 1, 2 and 3, and since some of the models can be sensitive to this. I also drop the id column. "
   ]
  },
  {
   "cell_type": "code",
   "execution_count": 40,
   "metadata": {},
   "outputs": [
    {
     "data": {
      "text/html": [
       "<div>\n",
       "<style scoped>\n",
       "    .dataframe tbody tr th:only-of-type {\n",
       "        vertical-align: middle;\n",
       "    }\n",
       "\n",
       "    .dataframe tbody tr th {\n",
       "        vertical-align: top;\n",
       "    }\n",
       "\n",
       "    .dataframe thead th {\n",
       "        text-align: right;\n",
       "    }\n",
       "</style>\n",
       "<table border=\"1\" class=\"dataframe\">\n",
       "  <thead>\n",
       "    <tr style=\"text-align: right;\">\n",
       "      <th></th>\n",
       "      <th>age</th>\n",
       "      <th>smoke</th>\n",
       "      <th>alco</th>\n",
       "      <th>active</th>\n",
       "      <th>cardio</th>\n",
       "      <th>Male</th>\n",
       "      <th>BMI_obesity1</th>\n",
       "      <th>BMI_obesity2</th>\n",
       "      <th>BMI_obesity3</th>\n",
       "      <th>BMI_overweight</th>\n",
       "      <th>BMI_underweight</th>\n",
       "      <th>BP_healthy</th>\n",
       "      <th>BP_hypertension_crisis</th>\n",
       "      <th>BP_hypertension1</th>\n",
       "      <th>BP_hypertension2</th>\n",
       "      <th>cholesterol_above_normal</th>\n",
       "      <th>cholesterol_well_above_normal</th>\n",
       "      <th>gluc_above_normal</th>\n",
       "      <th>gluc_well_above_normal</th>\n",
       "    </tr>\n",
       "  </thead>\n",
       "  <tbody>\n",
       "    <tr>\n",
       "      <th>0</th>\n",
       "      <td>18393</td>\n",
       "      <td>0</td>\n",
       "      <td>0</td>\n",
       "      <td>1</td>\n",
       "      <td>0</td>\n",
       "      <td>1</td>\n",
       "      <td>0</td>\n",
       "      <td>0</td>\n",
       "      <td>0</td>\n",
       "      <td>0</td>\n",
       "      <td>0</td>\n",
       "      <td>0</td>\n",
       "      <td>0</td>\n",
       "      <td>1</td>\n",
       "      <td>0</td>\n",
       "      <td>0</td>\n",
       "      <td>0</td>\n",
       "      <td>0</td>\n",
       "      <td>0</td>\n",
       "    </tr>\n",
       "    <tr>\n",
       "      <th>1</th>\n",
       "      <td>20228</td>\n",
       "      <td>0</td>\n",
       "      <td>0</td>\n",
       "      <td>1</td>\n",
       "      <td>1</td>\n",
       "      <td>0</td>\n",
       "      <td>1</td>\n",
       "      <td>0</td>\n",
       "      <td>0</td>\n",
       "      <td>0</td>\n",
       "      <td>0</td>\n",
       "      <td>0</td>\n",
       "      <td>0</td>\n",
       "      <td>0</td>\n",
       "      <td>1</td>\n",
       "      <td>0</td>\n",
       "      <td>1</td>\n",
       "      <td>0</td>\n",
       "      <td>0</td>\n",
       "    </tr>\n",
       "    <tr>\n",
       "      <th>2</th>\n",
       "      <td>18857</td>\n",
       "      <td>0</td>\n",
       "      <td>0</td>\n",
       "      <td>0</td>\n",
       "      <td>1</td>\n",
       "      <td>0</td>\n",
       "      <td>0</td>\n",
       "      <td>0</td>\n",
       "      <td>0</td>\n",
       "      <td>0</td>\n",
       "      <td>0</td>\n",
       "      <td>0</td>\n",
       "      <td>0</td>\n",
       "      <td>1</td>\n",
       "      <td>0</td>\n",
       "      <td>0</td>\n",
       "      <td>1</td>\n",
       "      <td>0</td>\n",
       "      <td>0</td>\n",
       "    </tr>\n",
       "    <tr>\n",
       "      <th>3</th>\n",
       "      <td>17623</td>\n",
       "      <td>0</td>\n",
       "      <td>0</td>\n",
       "      <td>1</td>\n",
       "      <td>1</td>\n",
       "      <td>1</td>\n",
       "      <td>0</td>\n",
       "      <td>0</td>\n",
       "      <td>0</td>\n",
       "      <td>1</td>\n",
       "      <td>0</td>\n",
       "      <td>0</td>\n",
       "      <td>0</td>\n",
       "      <td>0</td>\n",
       "      <td>1</td>\n",
       "      <td>0</td>\n",
       "      <td>0</td>\n",
       "      <td>0</td>\n",
       "      <td>0</td>\n",
       "    </tr>\n",
       "    <tr>\n",
       "      <th>4</th>\n",
       "      <td>17474</td>\n",
       "      <td>0</td>\n",
       "      <td>0</td>\n",
       "      <td>0</td>\n",
       "      <td>0</td>\n",
       "      <td>0</td>\n",
       "      <td>0</td>\n",
       "      <td>0</td>\n",
       "      <td>0</td>\n",
       "      <td>0</td>\n",
       "      <td>0</td>\n",
       "      <td>1</td>\n",
       "      <td>0</td>\n",
       "      <td>0</td>\n",
       "      <td>0</td>\n",
       "      <td>0</td>\n",
       "      <td>0</td>\n",
       "      <td>0</td>\n",
       "      <td>0</td>\n",
       "    </tr>\n",
       "  </tbody>\n",
       "</table>\n",
       "</div>"
      ],
      "text/plain": [
       "     age  smoke  alco  active  cardio  Male  BMI_obesity1  BMI_obesity2  \\\n",
       "0  18393      0     0       1       0     1             0             0   \n",
       "1  20228      0     0       1       1     0             1             0   \n",
       "2  18857      0     0       0       1     0             0             0   \n",
       "3  17623      0     0       1       1     1             0             0   \n",
       "4  17474      0     0       0       0     0             0             0   \n",
       "\n",
       "   BMI_obesity3  BMI_overweight  BMI_underweight  BP_healthy  \\\n",
       "0             0               0                0           0   \n",
       "1             0               0                0           0   \n",
       "2             0               0                0           0   \n",
       "3             0               1                0           0   \n",
       "4             0               0                0           1   \n",
       "\n",
       "   BP_hypertension_crisis  BP_hypertension1  BP_hypertension2  \\\n",
       "0                       0                 1                 0   \n",
       "1                       0                 0                 1   \n",
       "2                       0                 1                 0   \n",
       "3                       0                 0                 1   \n",
       "4                       0                 0                 0   \n",
       "\n",
       "   cholesterol_above_normal  cholesterol_well_above_normal  gluc_above_normal  \\\n",
       "0                         0                              0                  0   \n",
       "1                         0                              1                  0   \n",
       "2                         0                              1                  0   \n",
       "3                         0                              0                  0   \n",
       "4                         0                              0                  0   \n",
       "\n",
       "   gluc_well_above_normal  \n",
       "0                       0  \n",
       "1                       0  \n",
       "2                       0  \n",
       "3                       0  \n",
       "4                       0  "
      ]
     },
     "execution_count": 40,
     "metadata": {},
     "output_type": "execute_result"
    }
   ],
   "source": [
    "df_cardio_categorical = pd.get_dummies(df_cardio, columns = [\"gender\", \"BMI_category\", \"BP_category\", \"cholesterol\", \"gluc\"], drop_first=True)\n",
    "df_cardio_categorical = df_cardio_categorical.drop([\"id\", \"height\", \"weight\", \"ap_hi\", \"ap_lo\", \"BMI\"], axis=1)\n",
    "df_cardio_categorical = df_cardio_categorical.rename({\n",
    "                                                    \"cholesterol_2\" : \"cholesterol_above_normal\",\n",
    "                                                    \"cholesterol_3\" : \"cholesterol_well_above_normal\",\n",
    "                                                    \"gluc_2\" : \"gluc_above_normal\",\n",
    "                                                    \"gluc_3\" : \"gluc_well_above_normal\",\n",
    "                                                    \"gender_2\" : \"Male\",\n",
    "                                                    \"BMI_category_Obesity Class 1\" : \"BMI_obesity1\",\n",
    "                                                    \"BMI_category_Obesity Class 2\" : \"BMI_obesity2\",\n",
    "                                                    \"BMI_category_Obesity Class 3\" : \"BMI_obesity3\",\n",
    "                                                    \"BMI_category_Overweight\" : \"BMI_overweight\",\n",
    "                                                    \"BMI_category_Underweight\" : \"BMI_underweight\",\n",
    "                                                    \"BP_category_Healthy\" : \"BP_healthy\",\n",
    "                                                    \"BP_category_Hypertension Crisis\" : \"BP_hypertension_crisis\",\n",
    "                                                    \"BP_category_Hypertension Stage 1\" : \"BP_hypertension1\",\n",
    "                                                    \"BP_category_Hypertension Stage 2\" : \"BP_hypertension2\",\n",
    "                                                    }, axis=1)\n",
    "\n",
    "df_cardio_categorical.head(5)"
   ]
  },
  {
   "cell_type": "code",
   "execution_count": 41,
   "metadata": {},
   "outputs": [
    {
     "data": {
      "text/plain": [
       "Index(['age', 'smoke', 'alco', 'active', 'cardio', 'Male', 'BMI_obesity1',\n",
       "       'BMI_obesity2', 'BMI_obesity3', 'BMI_overweight', 'BMI_underweight',\n",
       "       'BP_healthy', 'BP_hypertension_crisis', 'BP_hypertension1',\n",
       "       'BP_hypertension2', 'cholesterol_above_normal',\n",
       "       'cholesterol_well_above_normal', 'gluc_above_normal',\n",
       "       'gluc_well_above_normal'],\n",
       "      dtype='object')"
      ]
     },
     "execution_count": 41,
     "metadata": {},
     "output_type": "execute_result"
    }
   ],
   "source": [
    "df_cardio_categorical.columns"
   ]
  },
  {
   "cell_type": "code",
   "execution_count": 42,
   "metadata": {},
   "outputs": [
    {
     "data": {
      "text/html": [
       "<div>\n",
       "<style scoped>\n",
       "    .dataframe tbody tr th:only-of-type {\n",
       "        vertical-align: middle;\n",
       "    }\n",
       "\n",
       "    .dataframe tbody tr th {\n",
       "        vertical-align: top;\n",
       "    }\n",
       "\n",
       "    .dataframe thead th {\n",
       "        text-align: right;\n",
       "    }\n",
       "</style>\n",
       "<table border=\"1\" class=\"dataframe\">\n",
       "  <thead>\n",
       "    <tr style=\"text-align: right;\">\n",
       "      <th></th>\n",
       "      <th>age</th>\n",
       "      <th>ap_hi</th>\n",
       "      <th>ap_lo</th>\n",
       "      <th>smoke</th>\n",
       "      <th>alco</th>\n",
       "      <th>active</th>\n",
       "      <th>cardio</th>\n",
       "      <th>BMI</th>\n",
       "      <th>Male</th>\n",
       "      <th>cholesterol_above_normal</th>\n",
       "      <th>cholesterol_well_above_normal</th>\n",
       "      <th>gluc_above_normal</th>\n",
       "      <th>gluc_well_above_normal</th>\n",
       "    </tr>\n",
       "  </thead>\n",
       "  <tbody>\n",
       "    <tr>\n",
       "      <th>0</th>\n",
       "      <td>18393</td>\n",
       "      <td>110</td>\n",
       "      <td>80</td>\n",
       "      <td>0</td>\n",
       "      <td>0</td>\n",
       "      <td>1</td>\n",
       "      <td>0</td>\n",
       "      <td>21.967120</td>\n",
       "      <td>1</td>\n",
       "      <td>0</td>\n",
       "      <td>0</td>\n",
       "      <td>0</td>\n",
       "      <td>0</td>\n",
       "    </tr>\n",
       "    <tr>\n",
       "      <th>1</th>\n",
       "      <td>20228</td>\n",
       "      <td>140</td>\n",
       "      <td>90</td>\n",
       "      <td>0</td>\n",
       "      <td>0</td>\n",
       "      <td>1</td>\n",
       "      <td>1</td>\n",
       "      <td>34.927679</td>\n",
       "      <td>0</td>\n",
       "      <td>0</td>\n",
       "      <td>1</td>\n",
       "      <td>0</td>\n",
       "      <td>0</td>\n",
       "    </tr>\n",
       "    <tr>\n",
       "      <th>2</th>\n",
       "      <td>18857</td>\n",
       "      <td>130</td>\n",
       "      <td>70</td>\n",
       "      <td>0</td>\n",
       "      <td>0</td>\n",
       "      <td>0</td>\n",
       "      <td>1</td>\n",
       "      <td>23.507805</td>\n",
       "      <td>0</td>\n",
       "      <td>0</td>\n",
       "      <td>1</td>\n",
       "      <td>0</td>\n",
       "      <td>0</td>\n",
       "    </tr>\n",
       "    <tr>\n",
       "      <th>3</th>\n",
       "      <td>17623</td>\n",
       "      <td>150</td>\n",
       "      <td>100</td>\n",
       "      <td>0</td>\n",
       "      <td>0</td>\n",
       "      <td>1</td>\n",
       "      <td>1</td>\n",
       "      <td>28.710479</td>\n",
       "      <td>1</td>\n",
       "      <td>0</td>\n",
       "      <td>0</td>\n",
       "      <td>0</td>\n",
       "      <td>0</td>\n",
       "    </tr>\n",
       "    <tr>\n",
       "      <th>4</th>\n",
       "      <td>17474</td>\n",
       "      <td>100</td>\n",
       "      <td>60</td>\n",
       "      <td>0</td>\n",
       "      <td>0</td>\n",
       "      <td>0</td>\n",
       "      <td>0</td>\n",
       "      <td>23.011177</td>\n",
       "      <td>0</td>\n",
       "      <td>0</td>\n",
       "      <td>0</td>\n",
       "      <td>0</td>\n",
       "      <td>0</td>\n",
       "    </tr>\n",
       "  </tbody>\n",
       "</table>\n",
       "</div>"
      ],
      "text/plain": [
       "     age  ap_hi  ap_lo  smoke  alco  active  cardio        BMI  Male  \\\n",
       "0  18393    110     80      0     0       1       0  21.967120     1   \n",
       "1  20228    140     90      0     0       1       1  34.927679     0   \n",
       "2  18857    130     70      0     0       0       1  23.507805     0   \n",
       "3  17623    150    100      0     0       1       1  28.710479     1   \n",
       "4  17474    100     60      0     0       0       0  23.011177     0   \n",
       "\n",
       "   cholesterol_above_normal  cholesterol_well_above_normal  gluc_above_normal  \\\n",
       "0                         0                              0                  0   \n",
       "1                         0                              1                  0   \n",
       "2                         0                              1                  0   \n",
       "3                         0                              0                  0   \n",
       "4                         0                              0                  0   \n",
       "\n",
       "   gluc_well_above_normal  \n",
       "0                       0  \n",
       "1                       0  \n",
       "2                       0  \n",
       "3                       0  \n",
       "4                       0  "
      ]
     },
     "execution_count": 42,
     "metadata": {},
     "output_type": "execute_result"
    }
   ],
   "source": [
    "df_cardio_continuous = pd.get_dummies(df_cardio, columns = [\"gender\", \"cholesterol\", \"gluc\"], drop_first=True)\n",
    "df_cardio_continuous = df_cardio_continuous.rename({\n",
    "                                                    \"gender_2\": \"Male\",\n",
    "                                                    \"cholesterol_2\" : \"cholesterol_above_normal\",\n",
    "                                                    \"cholesterol_3\" : \"cholesterol_well_above_normal\",\n",
    "                                                    \"gluc_2\" : \"gluc_above_normal\",\n",
    "                                                    \"gluc_3\" : \"gluc_well_above_normal\",\n",
    "                                                    }, axis=1)\n",
    "df_cardio_continuous = df_cardio_continuous.drop([\"id\", \"BMI_category\", \"BP_category\", \"height\", \"weight\"], axis=1)\n",
    "\n",
    "df_cardio_continuous.head(5)"
   ]
  },
  {
   "cell_type": "markdown",
   "metadata": {},
   "source": [
    "We still have age as a continuous variable in the categorical dataset. I wonder if that can affect the results and I therefore create an entirely categorical dataset, by creating categories from age and then dummy coding them. "
   ]
  },
  {
   "cell_type": "code",
   "execution_count": 43,
   "metadata": {},
   "outputs": [
    {
     "name": "stdout",
     "output_type": "stream",
     "text": [
      "Missing values: 0\n"
     ]
    },
    {
     "data": {
      "text/plain": [
       "50-60           34623\n",
       "40-50           19163\n",
       "60_and_above    12703\n",
       "below_40         1746\n",
       "Name: Age_category, dtype: int64"
      ]
     },
     "execution_count": 43,
     "metadata": {},
     "output_type": "execute_result"
    }
   ],
   "source": [
    "# Creating categorical age\n",
    "df_cardio_categorical2 = pd.DataFrame.copy(df_cardio_categorical)\n",
    "\n",
    "df_cardio_categorical2=df_cardio_categorical2.assign(Age_category=np.nan)\n",
    "df_cardio_categorical2.loc[df_cardio_categorical2[\"age\"]/365 < 40, \n",
    "                \"Age_category\"] = \"below_40\"\n",
    "df_cardio_categorical2.loc[(df_cardio_categorical2[\"age\"]/365 >= 40) & (df_cardio_categorical2[\"age\"]/365 < 50), \n",
    "                \"Age_category\"] = \"40-50\"\n",
    "df_cardio_categorical2.loc[(df_cardio_categorical2[\"age\"]/365 >= 50) & (df_cardio_categorical2[\"age\"]/365 < 60), \n",
    "                \"Age_category\"] = \"50-60\"\n",
    "df_cardio_categorical2.loc[df_cardio_categorical2[\"age\"]/365 >= 60, \n",
    "                \"Age_category\"] = \"60_and_above\"\n",
    "\n",
    "print(f\"Missing values: {df_cardio_categorical2['Age_category'].isna().sum()}\")          \n",
    "df_cardio_categorical2[\"Age_category\"].value_counts()"
   ]
  },
  {
   "cell_type": "code",
   "execution_count": 44,
   "metadata": {},
   "outputs": [
    {
     "data": {
      "text/html": [
       "<div>\n",
       "<style scoped>\n",
       "    .dataframe tbody tr th:only-of-type {\n",
       "        vertical-align: middle;\n",
       "    }\n",
       "\n",
       "    .dataframe tbody tr th {\n",
       "        vertical-align: top;\n",
       "    }\n",
       "\n",
       "    .dataframe thead th {\n",
       "        text-align: right;\n",
       "    }\n",
       "</style>\n",
       "<table border=\"1\" class=\"dataframe\">\n",
       "  <thead>\n",
       "    <tr style=\"text-align: right;\">\n",
       "      <th></th>\n",
       "      <th>smoke</th>\n",
       "      <th>alco</th>\n",
       "      <th>active</th>\n",
       "      <th>cardio</th>\n",
       "      <th>Male</th>\n",
       "      <th>BMI_obesity1</th>\n",
       "      <th>BMI_obesity2</th>\n",
       "      <th>BMI_obesity3</th>\n",
       "      <th>BMI_overweight</th>\n",
       "      <th>BMI_underweight</th>\n",
       "      <th>...</th>\n",
       "      <th>BP_hypertension_crisis</th>\n",
       "      <th>BP_hypertension1</th>\n",
       "      <th>BP_hypertension2</th>\n",
       "      <th>cholesterol_above_normal</th>\n",
       "      <th>cholesterol_well_above_normal</th>\n",
       "      <th>gluc_above_normal</th>\n",
       "      <th>gluc_well_above_normal</th>\n",
       "      <th>Age_50-60</th>\n",
       "      <th>Age_60_and_above</th>\n",
       "      <th>Age_below_40</th>\n",
       "    </tr>\n",
       "  </thead>\n",
       "  <tbody>\n",
       "    <tr>\n",
       "      <th>0</th>\n",
       "      <td>0</td>\n",
       "      <td>0</td>\n",
       "      <td>1</td>\n",
       "      <td>0</td>\n",
       "      <td>1</td>\n",
       "      <td>0</td>\n",
       "      <td>0</td>\n",
       "      <td>0</td>\n",
       "      <td>0</td>\n",
       "      <td>0</td>\n",
       "      <td>...</td>\n",
       "      <td>0</td>\n",
       "      <td>1</td>\n",
       "      <td>0</td>\n",
       "      <td>0</td>\n",
       "      <td>0</td>\n",
       "      <td>0</td>\n",
       "      <td>0</td>\n",
       "      <td>1</td>\n",
       "      <td>0</td>\n",
       "      <td>0</td>\n",
       "    </tr>\n",
       "    <tr>\n",
       "      <th>1</th>\n",
       "      <td>0</td>\n",
       "      <td>0</td>\n",
       "      <td>1</td>\n",
       "      <td>1</td>\n",
       "      <td>0</td>\n",
       "      <td>1</td>\n",
       "      <td>0</td>\n",
       "      <td>0</td>\n",
       "      <td>0</td>\n",
       "      <td>0</td>\n",
       "      <td>...</td>\n",
       "      <td>0</td>\n",
       "      <td>0</td>\n",
       "      <td>1</td>\n",
       "      <td>0</td>\n",
       "      <td>1</td>\n",
       "      <td>0</td>\n",
       "      <td>0</td>\n",
       "      <td>1</td>\n",
       "      <td>0</td>\n",
       "      <td>0</td>\n",
       "    </tr>\n",
       "    <tr>\n",
       "      <th>2</th>\n",
       "      <td>0</td>\n",
       "      <td>0</td>\n",
       "      <td>0</td>\n",
       "      <td>1</td>\n",
       "      <td>0</td>\n",
       "      <td>0</td>\n",
       "      <td>0</td>\n",
       "      <td>0</td>\n",
       "      <td>0</td>\n",
       "      <td>0</td>\n",
       "      <td>...</td>\n",
       "      <td>0</td>\n",
       "      <td>1</td>\n",
       "      <td>0</td>\n",
       "      <td>0</td>\n",
       "      <td>1</td>\n",
       "      <td>0</td>\n",
       "      <td>0</td>\n",
       "      <td>1</td>\n",
       "      <td>0</td>\n",
       "      <td>0</td>\n",
       "    </tr>\n",
       "    <tr>\n",
       "      <th>3</th>\n",
       "      <td>0</td>\n",
       "      <td>0</td>\n",
       "      <td>1</td>\n",
       "      <td>1</td>\n",
       "      <td>1</td>\n",
       "      <td>0</td>\n",
       "      <td>0</td>\n",
       "      <td>0</td>\n",
       "      <td>1</td>\n",
       "      <td>0</td>\n",
       "      <td>...</td>\n",
       "      <td>0</td>\n",
       "      <td>0</td>\n",
       "      <td>1</td>\n",
       "      <td>0</td>\n",
       "      <td>0</td>\n",
       "      <td>0</td>\n",
       "      <td>0</td>\n",
       "      <td>0</td>\n",
       "      <td>0</td>\n",
       "      <td>0</td>\n",
       "    </tr>\n",
       "    <tr>\n",
       "      <th>4</th>\n",
       "      <td>0</td>\n",
       "      <td>0</td>\n",
       "      <td>0</td>\n",
       "      <td>0</td>\n",
       "      <td>0</td>\n",
       "      <td>0</td>\n",
       "      <td>0</td>\n",
       "      <td>0</td>\n",
       "      <td>0</td>\n",
       "      <td>0</td>\n",
       "      <td>...</td>\n",
       "      <td>0</td>\n",
       "      <td>0</td>\n",
       "      <td>0</td>\n",
       "      <td>0</td>\n",
       "      <td>0</td>\n",
       "      <td>0</td>\n",
       "      <td>0</td>\n",
       "      <td>0</td>\n",
       "      <td>0</td>\n",
       "      <td>0</td>\n",
       "    </tr>\n",
       "  </tbody>\n",
       "</table>\n",
       "<p>5 rows × 21 columns</p>\n",
       "</div>"
      ],
      "text/plain": [
       "   smoke  alco  active  cardio  Male  BMI_obesity1  BMI_obesity2  \\\n",
       "0      0     0       1       0     1             0             0   \n",
       "1      0     0       1       1     0             1             0   \n",
       "2      0     0       0       1     0             0             0   \n",
       "3      0     0       1       1     1             0             0   \n",
       "4      0     0       0       0     0             0             0   \n",
       "\n",
       "   BMI_obesity3  BMI_overweight  BMI_underweight  ...  BP_hypertension_crisis  \\\n",
       "0             0               0                0  ...                       0   \n",
       "1             0               0                0  ...                       0   \n",
       "2             0               0                0  ...                       0   \n",
       "3             0               1                0  ...                       0   \n",
       "4             0               0                0  ...                       0   \n",
       "\n",
       "   BP_hypertension1  BP_hypertension2  cholesterol_above_normal  \\\n",
       "0                 1                 0                         0   \n",
       "1                 0                 1                         0   \n",
       "2                 1                 0                         0   \n",
       "3                 0                 1                         0   \n",
       "4                 0                 0                         0   \n",
       "\n",
       "   cholesterol_well_above_normal  gluc_above_normal  gluc_well_above_normal  \\\n",
       "0                              0                  0                       0   \n",
       "1                              1                  0                       0   \n",
       "2                              1                  0                       0   \n",
       "3                              0                  0                       0   \n",
       "4                              0                  0                       0   \n",
       "\n",
       "   Age_50-60  Age_60_and_above  Age_below_40  \n",
       "0          1                 0             0  \n",
       "1          1                 0             0  \n",
       "2          1                 0             0  \n",
       "3          0                 0             0  \n",
       "4          0                 0             0  \n",
       "\n",
       "[5 rows x 21 columns]"
      ]
     },
     "execution_count": 44,
     "metadata": {},
     "output_type": "execute_result"
    }
   ],
   "source": [
    "# Dummy coding age\n",
    "df_cardio_categorical2 = pd.get_dummies(df_cardio_categorical2, columns = [\"Age_category\"], drop_first=True)\n",
    "df_cardio_categorical2 = df_cardio_categorical2.drop([\"age\"], axis=1)\n",
    "df_cardio_categorical2 = df_cardio_categorical2.rename({\n",
    "                                                    \"Age_category_50-60\" : \"Age_50-60\",\n",
    "                                                    \"Age_category_60_and_above\" : \"Age_60_and_above\",\n",
    "                                                    \"Age_category_below_40\" : \"Age_below_40\",\n",
    "                                                   }, axis=1)\n",
    "\n",
    "df_cardio_categorical2.head(5)"
   ]
  },
  {
   "cell_type": "markdown",
   "metadata": {},
   "source": [
    "## 2.4 - Välja modell\n",
    "Välj 3-5 maskininlärningsmodeller, gärna så olika som möjligt. För varje dataset som vi skapade i uppgift 2.3\n",
    "gör följande:\n",
    "- train|validation|test split\n",
    "- skala datasetet med feature standardization och normalization\n",
    "- definiera hyperparametrar (param_grids) att testa för varje modell\n",
    "- använd GridSearchCV() och välja lämplig evalueringsmetric\n",
    "- gör prediction på valideringsdata\n",
    "- beräkna och spara evaluation score för ditt valda metric\n",
    "- checka bästa parametrarna för respektive modell\n",
    "\n",
    "Vilket dataset väljer du och vilken modell väljer du? Använd den modellen du valt och träna på hela\n",
    "träningsdatan."
   ]
  },
  {
   "cell_type": "markdown",
   "metadata": {},
   "source": [
    "### Step 1. Split the Data"
   ]
  },
  {
   "cell_type": "code",
   "execution_count": 45,
   "metadata": {},
   "outputs": [],
   "source": [
    "def train_val_test_split(X:pd.DataFrame, y:pd.DataFrame) -> tuple[pd.DataFrame]:\n",
    "    \"\"\"\n",
    "    Randomly splits the data into train, validation and test. \n",
    "    \n",
    "    Parameters\n",
    "    ----------\n",
    "    X : pd.DataFrame\n",
    "        The X-data\n",
    "    y : pd.DataFrame\n",
    "        The y-data\n",
    "\n",
    "    Returns\n",
    "    -------\n",
    "    X_train, X_val, X_test : pd.DataFrame\n",
    "        The X data splitted into train, validation and test. \n",
    "    y_train, y_val, y_test : pd.DataFrame\n",
    "        The y data splitted into train, validation and test.\n",
    "    \"\"\"\n",
    "\n",
    "    X_train, X_test, y_train, y_test = train_test_split(X, y, test_size=0.3, random_state=42)\n",
    "    X_val, X_test, y_val, y_test = train_test_split(X_test, y_test, test_size=0.5, random_state=42)\n",
    "\n",
    "    return X_train, X_val, X_test, y_train, y_val, y_test"
   ]
  },
  {
   "cell_type": "code",
   "execution_count": 46,
   "metadata": {},
   "outputs": [],
   "source": [
    "#Splits the data into X and y\n",
    "X_cat, y_cat = df_cardio_categorical.drop([\"cardio\"], axis=1), df_cardio_categorical[\"cardio\"]\n",
    "X_cont, y_cont = df_cardio_continuous.drop([\"cardio\"], axis=1), df_cardio_continuous[\"cardio\"]\n",
    "X_cat2, y_cat2 = df_cardio_categorical2.drop([\"cardio\"], axis=1), df_cardio_categorical2[\"cardio\"]"
   ]
  },
  {
   "cell_type": "code",
   "execution_count": 47,
   "metadata": {},
   "outputs": [
    {
     "name": "stdout",
     "output_type": "stream",
     "text": [
      "(47764, 18) (47764,) (10235, 18) (10235,) (10236, 18) (10236,)\n",
      "(47764, 12) (47764,) (10235, 12) (10235,) (10236, 12) (10236,)\n",
      "(47764, 20) (47764,) (10235, 20) (10235,) (10236, 20) (10236,)\n"
     ]
    }
   ],
   "source": [
    "X_train_cat, X_val_cat, X_test_cat, y_train_cat, y_val_cat, y_test_cat = train_val_test_split(X_cat, y_cat)\n",
    "X_train_cont, X_val_cont, X_test_cont, y_train_cont, y_val_cont, y_test_cont = train_val_test_split(X_cont, y_cont)\n",
    "X_train_cat2, X_val_cat2, X_test_cat2, y_train_cat2, y_val_cat2, y_test_cat2 = train_val_test_split(X_cat2, y_cat2)\n",
    "\n",
    "print(X_train_cat.shape, y_train_cat.shape, X_val_cat.shape, y_val_cat.shape, X_test_cat.shape, y_test_cat.shape)\n",
    "print(X_train_cont.shape, y_train_cont.shape, X_val_cont.shape, y_val_cont.shape, X_test_cont.shape, y_test_cont.shape)\n",
    "print(X_train_cat2.shape, y_train_cat2.shape, X_val_cat2.shape, y_val_cat2.shape, X_test_cat2.shape, y_test_cat2.shape)"
   ]
  },
  {
   "cell_type": "markdown",
   "metadata": {},
   "source": [
    "Below I create an even smaller dataset to tune the hyperparameters with. This reduced dataset is 10% of the training data. I do this because some of the models (for example SVC) ran for several hours when doing cross-validation. "
   ]
  },
  {
   "cell_type": "code",
   "execution_count": 48,
   "metadata": {},
   "outputs": [
    {
     "name": "stdout",
     "output_type": "stream",
     "text": [
      "(4776, 12) (4776,)\n",
      "(4776, 18) (4776,)\n",
      "(4776, 20) (4776,)\n"
     ]
    }
   ],
   "source": [
    "X_train_cont_reduced, _ , y_train_cont_reduced, _ = train_test_split(X_train_cont, y_train_cont, test_size = 0.9, random_state=42)\n",
    "X_train_cat_reduced, _ , y_train_cat_reduced, _ = train_test_split(X_train_cat, y_train_cat, test_size = 0.9, random_state=42)\n",
    "X_train_cat2_reduced, _ , y_train_cat2_reduced, _ = train_test_split(X_train_cat2, y_train_cat2, test_size = 0.9, random_state=42)\n",
    "\n",
    "print(X_train_cont_reduced.shape, y_train_cont_reduced.shape)\n",
    "print(X_train_cat_reduced.shape, y_train_cat_reduced.shape)\n",
    "print(X_train_cat2_reduced.shape, y_train_cat2_reduced.shape)"
   ]
  },
  {
   "cell_type": "markdown",
   "metadata": {},
   "source": [
    "### 2. Scale the Data (to use when running the full models)"
   ]
  },
  {
   "cell_type": "code",
   "execution_count": 49,
   "metadata": {},
   "outputs": [
    {
     "name": "stdout",
     "output_type": "stream",
     "text": [
      "Normalised X-train Continuous: min: 0.0, max: 1.0\n",
      "Standardised X-train Continuous: mean: 0.0, std: 1.0\n",
      "Normalised X-train Categorical: min: 0.0, max: 1.0\n",
      "Standardised X-train Categorical: mean: 0.0, std: 1.0\n",
      "Normalised X-train Categorical 2: min: 0.0, max: 1.0\n",
      "Standardised X-train Categorical 2: mean: 0.0, std: 1.0\n"
     ]
    }
   ],
   "source": [
    "# Instaniate scanner objects\n",
    "scaler_norm_cont = MinMaxScaler()\n",
    "scaler_norm_cat = MinMaxScaler()\n",
    "scaler_norm_cat2 = MinMaxScaler()\n",
    "scaler_standard_cont = StandardScaler()\n",
    "scaler_standard_cat = StandardScaler()\n",
    "scaler_standard_cat2 = StandardScaler()\n",
    "\n",
    "# Standardise/normalise the X_train \n",
    "norm_X_train_cont = scaler_norm_cont.fit_transform(X_train_cont)\n",
    "norm_X_train_cat = scaler_norm_cat.fit_transform(X_train_cat)\n",
    "norm_X_train_cat2 = scaler_norm_cat2.fit_transform(X_train_cat2)\n",
    "stand_X_train_cont = scaler_standard_cont.fit_transform(X_train_cont)\n",
    "stand_X_train_cat = scaler_standard_cat.fit_transform(X_train_cat)\n",
    "stand_X_train_cat2 = scaler_standard_cat2.fit_transform(X_train_cat2)\n",
    "\n",
    "# Standardise/normalise the X_val \n",
    "norm_X_val_cont = scaler_norm_cont.transform(X_val_cont)\n",
    "norm_X_val_cat = scaler_norm_cat.transform(X_val_cat)\n",
    "norm_X_val_cat2 = scaler_norm_cat2.transform(X_val_cat2)\n",
    "stand_X_val_cont = scaler_standard_cont.transform(X_val_cont)\n",
    "stand_X_val_cat = scaler_standard_cat.transform(X_val_cat)\n",
    "stand_X_val_cat2 = scaler_standard_cat2.transform(X_val_cat2)\n",
    "\n",
    "print(f\"Normalised X-train Continuous: min: {norm_X_train_cont.min().round(3)}, max: {norm_X_train_cont.max().round(3)}\")\n",
    "print(f\"Standardised X-train Continuous: mean: {stand_X_train_cont.mean().round(3)}, std: {stand_X_train_cont.std().round(3)}\")\n",
    "print(f\"Normalised X-train Categorical: min: {norm_X_train_cat.min().round(3)}, max: {norm_X_train_cat.max().round(3)}\")\n",
    "print(f\"Standardised X-train Categorical: mean: {stand_X_train_cat.mean().round(3)}, std: {stand_X_train_cat.std().round(3)}\")\n",
    "print(f\"Normalised X-train Categorical 2: min: {norm_X_train_cat2.min().round(3)}, max: {norm_X_train_cat2.max().round(3)}\")\n",
    "print(f\"Standardised X-train Categorical 2: mean: {stand_X_train_cat2.mean().round(3)}, std: {stand_X_train_cat2.std().round(3)}\")"
   ]
  },
  {
   "cell_type": "markdown",
   "metadata": {},
   "source": [
    "### Step 3. Find Hyperparameters and Train the Models\n",
    "\n",
    "Below I will create pipelines for the following models:\n",
    "\n",
    "- Logistic Regression\n",
    "- K-Nearest Neighbour\n",
    "- Support Vector Classifier\n",
    "- Random Forest Classifier\n",
    "\n",
    "I will use recall as the evaluation metrics. This is because I would like a low number of false-negatives (where we predicted that the patient does not have cardiovascular disese, while in fact she/he has). "
   ]
  },
  {
   "cell_type": "code",
   "execution_count": 591,
   "metadata": {},
   "outputs": [],
   "source": [
    "# Some of the models gives warnings. I disable these warnings, since I am aware of them. \n",
    "# Conversion Warning: For GridSearchCV, logistic regression (it takes too much time to let it converge entirely)\n",
    "# Convergence Warning: When running KNN using jaccard metric (see below)\n",
    "# Reference: https://docs.python.org/3/library/warnings.html#temporarily-suppressing-warnings\n",
    "\n",
    "def fxn_conversion():\n",
    "    warnings.warn(\"DataConversionWarning\", DataConversionWarning)\n",
    "\n",
    "def fxn_convergence():\n",
    "    warnings.warn(\"ConvergenceWarning\", ConvergenceWarning)"
   ]
  },
  {
   "cell_type": "markdown",
   "metadata": {},
   "source": [
    "#### Logistic Regression - Find Hyperparameters"
   ]
  },
  {
   "cell_type": "code",
   "execution_count": 521,
   "metadata": {},
   "outputs": [],
   "source": [
    "pipeline_logistic_cont = Pipeline([\n",
    "                            (\"scaler\", None),\n",
    "\t\t\t\t\t\t\t(\"poly_features\", PolynomialFeatures()),\n",
    "                            (\"log_reg\", LogisticRegression())\n",
    "])\n",
    "\n",
    "pipeline_logistic_cat = Pipeline([\n",
    "                            (\"scaler\", None),\n",
    "                            (\"log_reg\", LogisticRegression())\n",
    "])\n",
    "\n",
    "param_grid_logistic_cont = {\n",
    "\t\t\t\t\t\t\"scaler\" : [StandardScaler(), MinMaxScaler()],\n",
    "\t\t\t\t\t\t\"poly_features__degree\" : [1, 2, 3],\n",
    "\t\t\t\t\t\t\"poly_features__include_bias\" : [False],\n",
    "\t\t\t\t\t\t\"log_reg__solver\" : [\"saga\"], # I choose saga because it is faster on larger datasets and since it can use all penalties\n",
    "\t\t\t\t\t\t\"log_reg__penalty\" : [\"l1\", \"l2\", \"elastic_net\"],\n",
    "\t\t\t\t\t\t\"log_reg__C\" : [100, 10, 1.0, 0.1, 0.01], \n",
    "\t\t\t\t\t\t\"log_reg__max_iter\" : [300]\n",
    "}\n",
    "\n",
    "param_grid_logistic_cat = {\n",
    "\t\t\t\t\t\t\"scaler\" : [StandardScaler(), MinMaxScaler()],\n",
    "\t\t\t\t\t\t\"log_reg__solver\" : [\"saga\"], \n",
    "\t\t\t\t\t\t\"log_reg__penalty\" : [\"l1\", \"l2\", \"elastic_net\"],\n",
    "\t\t\t\t\t\t\"log_reg__C\" : [100, 10, 1.0, 0.1, 0.01], \n",
    "\t\t\t\t\t\t\"log_reg__max_iter\" : [300]\n",
    "}\n",
    "\n",
    "CV_results_logistic_cont = GridSearchCV(estimator=pipeline_logistic_cont, param_grid=param_grid_logistic_cont, cv=5, scoring=\"recall\", verbose=1)\n",
    "CV_results_logistic_cat = GridSearchCV(estimator=pipeline_logistic_cat, param_grid=param_grid_logistic_cat, cv=5, scoring=\"recall\", verbose=1)\n",
    "CV_results_logistic_cat2 = GridSearchCV(estimator=pipeline_logistic_cat, param_grid=param_grid_logistic_cat, cv=5, scoring=\"recall\", verbose=1)"
   ]
  },
  {
   "cell_type": "code",
   "execution_count": 522,
   "metadata": {},
   "outputs": [
    {
     "name": "stdout",
     "output_type": "stream",
     "text": [
      "Fitting 5 folds for each of 90 candidates, totalling 450 fits\n",
      "Fitting 5 folds for each of 30 candidates, totalling 150 fits\n",
      "Fitting 5 folds for each of 30 candidates, totalling 150 fits\n"
     ]
    }
   ],
   "source": [
    "with warnings.catch_warnings():\n",
    "    warnings.simplefilter(\"ignore\")\n",
    "    fxn_convergence()\n",
    "    CV_results_logistic_cont.fit(X_train_cont_reduced, y_train_cont_reduced)\n",
    "    CV_results_logistic_cat.fit(X_train_cat_reduced, y_train_cat_reduced)\n",
    "    CV_results_logistic_cat2.fit(X_train_cat2_reduced, y_train_cat2_reduced)"
   ]
  },
  {
   "cell_type": "code",
   "execution_count": 558,
   "metadata": {},
   "outputs": [
    {
     "name": "stdout",
     "output_type": "stream",
     "text": [
      "Best Score for Continouos Data: 0.68 using {'log_reg__C': 0.01, 'log_reg__max_iter': 300, 'log_reg__penalty': 'l2', 'log_reg__solver': 'saga', 'poly_features__degree': 2, 'poly_features__include_bias': False, 'scaler': StandardScaler()}\n",
      "Best Score for Categorical Data: 0.65 using {'log_reg__C': 0.01, 'log_reg__max_iter': 300, 'log_reg__penalty': 'l2', 'log_reg__solver': 'saga', 'scaler': StandardScaler()}\n",
      "Best Score for Categorical Data 2: 0.65 using {'log_reg__C': 10, 'log_reg__max_iter': 300, 'log_reg__penalty': 'l1', 'log_reg__solver': 'saga', 'scaler': MinMaxScaler()}\n"
     ]
    }
   ],
   "source": [
    "print(f\"Best Score for Continouos Data: {CV_results_logistic_cont.best_score_:.2f} using {CV_results_logistic_cont.best_params_}\")\n",
    "print(f\"Best Score for Categorical Data: {CV_results_logistic_cat.best_score_:.2f} using {CV_results_logistic_cat.best_params_}\")\n",
    "print(f\"Best Score for Categorical Data 2: {CV_results_logistic_cat2.best_score_:.2f} using {CV_results_logistic_cat2.best_params_}\")"
   ]
  },
  {
   "cell_type": "markdown",
   "metadata": {},
   "source": [
    "**Best Recall for Continuous Data: 0.68**\n",
    "\n",
    "using:\n",
    "- 'log_reg__C' : 0.01\n",
    "- 'log_reg__max_iter' : 300\n",
    "- 'log_reg__penalty' : 'l2'\n",
    "- 'log_reg__solver' : 'saga'\n",
    "- 'poly_features__degree' : 2\n",
    "- 'poly_features__include_bias' : False\n",
    "- 'scaler' : StandardScaler()\n",
    "\n",
    "**Best Recall for Categorical Data: 0.65**\n",
    "\n",
    "using:\n",
    "- 'log_reg__C': 0.01\n",
    "- 'log_reg__max_iter': 300\n",
    "- 'log_reg__penalty': 'l2'\n",
    "- 'log_reg__solver': 'saga'\n",
    "- 'scaler': StandardScaler()\n",
    "\n",
    "**Best Recall for Categorical Data 2 (entirely binary): 0.65**\n",
    "\n",
    "using:\n",
    "- 'log_reg__C': 10\n",
    "- 'log_reg__max_iter': 300\n",
    "- 'log_reg__penalty': 'l1'\n",
    "- 'log_reg__solver': 'saga'\n",
    "- 'scaler': MinMaxScaler()"
   ]
  },
  {
   "cell_type": "markdown",
   "metadata": {},
   "source": [
    "#### Logistic Regression - Train the Models"
   ]
  },
  {
   "cell_type": "code",
   "execution_count": 616,
   "metadata": {},
   "outputs": [
    {
     "data": {
      "text/plain": [
       "LogisticRegression(C=10, max_iter=1000, penalty='l1', solver='saga')"
      ]
     },
     "execution_count": 616,
     "metadata": {},
     "output_type": "execute_result"
    }
   ],
   "source": [
    "# CONTINUOUS DATA\n",
    "\n",
    "# Create polynomial features\n",
    "polynomial_features = PolynomialFeatures(degree = 2, include_bias=False)\n",
    "poly_X_train_cont = polynomial_features.fit_transform(stand_X_train_cont)\n",
    "\n",
    "# Create the model and fit the data to it\n",
    "model_logistic_cont = LogisticRegression(C=0.01, solver=\"saga\", penalty=\"l2\", max_iter=1000) # Now increasing the number of iterations\n",
    "model_logistic_cont.fit(poly_X_train_cont, y_train_cont)\n",
    "\n",
    "# CATEGORICAL DATA\n",
    "\n",
    "# Create the model and fit the data to it\n",
    "model_logistic_cat = LogisticRegression(C=0.01, solver=\"saga\", penalty=\"l2\", max_iter=1000) # Now increasing the number of iterations\n",
    "model_logistic_cat.fit(stand_X_train_cat, y_train_cat)\n",
    "\n",
    "# CATEGORICAL DATA 2\n",
    "\n",
    "# Create the model and fit the data to it\n",
    "model_logistic_cat2 = LogisticRegression(C=10, solver=\"saga\", penalty=\"l1\", max_iter=1000) # Now increasing the number of iterations\n",
    "model_logistic_cat2.fit(norm_X_train_cat2, y_train_cat2)"
   ]
  },
  {
   "cell_type": "markdown",
   "metadata": {},
   "source": [
    "#### K-Nearest Neighbours - Find Hyperparameters"
   ]
  },
  {
   "cell_type": "code",
   "execution_count": 584,
   "metadata": {},
   "outputs": [],
   "source": [
    "pipeline_KNN = Pipeline([\n",
    "                        ('scaler', None),\n",
    "                        ('knn', KNeighborsClassifier())\n",
    "])\n",
    "\n",
    "param_grid_KNN_cont = {\n",
    "                \"scaler\" : [StandardScaler(), MinMaxScaler()],\n",
    "                \"knn__n_neighbors\" : range(1, 11),\n",
    "                \"knn__metric\" : [\"euclidean\", \"manhattan\"]\n",
    "} \n",
    "\n",
    "param_grid_KNN_cat = {\n",
    "                \"scaler\" : [StandardScaler(), MinMaxScaler()],\n",
    "                \"knn__n_neighbors\" : range(1, 11),\n",
    "                \"knn__metric\" : [\"euclidean\", \"manhattan\"]\n",
    "} \n",
    "\n",
    "param_grid_KNN_cat2 = {\n",
    "                \"scaler\" : [StandardScaler(), MinMaxScaler()],\n",
    "                \"knn__n_neighbors\" : range(1, 11),\n",
    "                \"knn__metric\" : [\"jaccard\", \"matching\"]\n",
    "} \n",
    "\n",
    "CV_results_KNN_cont = GridSearchCV(estimator=pipeline_KNN, param_grid=param_grid_KNN_cont, cv=5, scoring=\"recall\", verbose=1)\n",
    "CV_results_KNN_cat = GridSearchCV(estimator=pipeline_KNN, param_grid=param_grid_KNN_cat, cv=5, scoring=\"recall\", verbose=1)\n",
    "CV_results_KNN_cat2 = GridSearchCV(estimator=pipeline_KNN, param_grid=param_grid_KNN_cat2, cv=5, scoring=\"accuracy\", verbose=1) # Set this to accuracy, becuase it does not work well with recall"
   ]
  },
  {
   "cell_type": "markdown",
   "metadata": {},
   "source": [
    "I choose to calculate accuracy, rather than recall, when running GridSearchCV for the third, entirely binary, dataset. If I do not do this it will return a perfect recall, and when I run the model on the validation data it will classify all observations as cardiovascular disease. This gives a perfect recall, but an accuracy as good as flipping a coin. "
   ]
  },
  {
   "cell_type": "code",
   "execution_count": 585,
   "metadata": {},
   "outputs": [
    {
     "name": "stdout",
     "output_type": "stream",
     "text": [
      "Fitting 5 folds for each of 40 candidates, totalling 200 fits\n",
      "Fitting 5 folds for each of 40 candidates, totalling 200 fits\n"
     ]
    },
    {
     "data": {
      "text/plain": [
       "GridSearchCV(cv=5,\n",
       "             estimator=Pipeline(steps=[('scaler', None),\n",
       "                                       ('knn', KNeighborsClassifier())]),\n",
       "             param_grid={'knn__metric': ['euclidean', 'manhattan'],\n",
       "                         'knn__n_neighbors': range(1, 11),\n",
       "                         'scaler': [StandardScaler(), MinMaxScaler()]},\n",
       "             scoring='recall', verbose=1)"
      ]
     },
     "execution_count": 585,
     "metadata": {},
     "output_type": "execute_result"
    }
   ],
   "source": [
    "CV_results_KNN_cont.fit(X_train_cont_reduced, y_train_cont_reduced)\n",
    "CV_results_KNN_cat.fit(X_train_cat_reduced, y_train_cat_reduced)"
   ]
  },
  {
   "cell_type": "code",
   "execution_count": 586,
   "metadata": {},
   "outputs": [
    {
     "name": "stdout",
     "output_type": "stream",
     "text": [
      "Fitting 5 folds for each of 40 candidates, totalling 200 fits\n"
     ]
    }
   ],
   "source": [
    "# This code gives a DataConversionWarning, that the jaccard metrics converts the data to dummy variables\n",
    "\n",
    "with warnings.catch_warnings():\n",
    "    warnings.simplefilter(\"ignore\")\n",
    "    fxn_conversion()   \n",
    "    CV_results_KNN_cat2.fit(X_train_cat2_reduced, y_train_cat2_reduced)"
   ]
  },
  {
   "cell_type": "code",
   "execution_count": 588,
   "metadata": {},
   "outputs": [],
   "source": [
    "print(f\"Best Score for Categorical Data: {CV_results_KNN_cat.best_score_:.2f} using {CV_results_KNN_cat.best_params_}\")\n",
    "print(f\"Best Score for Categorical Data: {CV_results_KNN_cat.best_score_:.2f} using {CV_results_KNN_cat.best_params_}\")\n",
    "print(f\"Best Score for Categorical Data 2: {CV_results_KNN_cat2.best_score_:.2f} using {CV_results_KNN_cat2.best_params_}\")"
   ]
  },
  {
   "cell_type": "markdown",
   "metadata": {},
   "source": [
    "**Best Recall for Continuous Data: 0.70**\n",
    "\n",
    "using:\n",
    "- 'knn__metric': 'euclidean', \n",
    "- 'knn__n_neighbors': 7, \n",
    "- 'scaler': StandardScaler()\n",
    "\n",
    "**Best Recall for Categorical Data: 0.70**\n",
    "\n",
    "using:\n",
    "- 'knn__metric': 'euclidean'\n",
    "- 'knn__n_neighbors': 7\n",
    "- 'scaler': StandardScaler()\n",
    "\n",
    "**Best Accuracy for Categorical Data 2 (entirely binary): 0.69**\n",
    "\n",
    "using:\n",
    "- 'knn__metric': 'jaccard'\n",
    "- 'knn__n_neighbors': 9\n",
    "- 'scaler': MinMaxScaler()\n"
   ]
  },
  {
   "cell_type": "markdown",
   "metadata": {},
   "source": [
    "#### K-Nearest Neighbours - Train the Models"
   ]
  },
  {
   "cell_type": "code",
   "execution_count": 589,
   "metadata": {},
   "outputs": [
    {
     "data": {
      "text/plain": [
       "KNeighborsClassifier(metric='jaccard', n_neighbors=9)"
      ]
     },
     "execution_count": 589,
     "metadata": {},
     "output_type": "execute_result"
    }
   ],
   "source": [
    "# CONTINUOUS DATA\n",
    "# Create the model and fit the data to it\n",
    "model_KNN_cont = KNeighborsClassifier(n_neighbors=7, metric=\"euclidean\")\n",
    "model_KNN_cont.fit(stand_X_train_cont, y_train_cont)\n",
    "\n",
    "# CATEGORICAL DATA\n",
    "# Create the model and fit the data to it\n",
    "model_KNN_cat = KNeighborsClassifier(n_neighbors=7, metric=\"euclidean\")\n",
    "model_KNN_cat.fit(stand_X_train_cat, y_train_cat)\n",
    "\n",
    "# CATEGORICAL DATA 2\n",
    "# Create the model and fit the data to it\n",
    "model_KNN_cat2 = KNeighborsClassifier(n_neighbors=9, metric=\"jaccard\")\n",
    "model_KNN_cat2.fit(norm_X_train_cat2, y_train_cat2)"
   ]
  },
  {
   "cell_type": "markdown",
   "metadata": {},
   "source": [
    "#### Support Vector Classifier - Find Hyperparameters"
   ]
  },
  {
   "cell_type": "code",
   "execution_count": 612,
   "metadata": {},
   "outputs": [],
   "source": [
    "pipeline_SVC = Pipeline([\n",
    "                        ('scaler', None),\n",
    "                        ('svc', SVC())\n",
    "])\n",
    "\n",
    "param_grid_SVC = {\n",
    "                \"scaler\" : [StandardScaler(), MinMaxScaler()],\n",
    "                \"svc__C\" : [0.001, 0.01, 0.1, 1, 10, 100],\n",
    "                \"svc__gamma\" : [0.001, 0.01, 0.1, 1, 10, 100],\n",
    "                \"svc__kernel\" : [\"rbf\"], \n",
    "} \n",
    "\n",
    "# I use accuracy as a classifier, since it does not work with recall\n",
    "CV_results_SVC_cont = GridSearchCV(estimator=pipeline_SVC, param_grid=param_grid_SVC, cv=5, scoring=\"accuracy\", verbose=1)\n",
    "CV_results_SVC_cat = GridSearchCV(estimator=pipeline_SVC, param_grid=param_grid_SVC, cv=5, scoring=\"accuracy\", verbose=1)\n",
    "CV_results_SVC_cat2 = GridSearchCV(estimator=pipeline_SVC, param_grid=param_grid_SVC, cv=5, scoring=\"accuracy\", verbose=1)"
   ]
  },
  {
   "cell_type": "markdown",
   "metadata": {},
   "source": [
    "SVC does not work very well with recall. Using the hyperparameters from GridSearchCV on the validation data, the model classifies all of the observations as having cardiovascular disease. "
   ]
  },
  {
   "cell_type": "code",
   "execution_count": 593,
   "metadata": {},
   "outputs": [
    {
     "name": "stdout",
     "output_type": "stream",
     "text": [
      "Fitting 5 folds for each of 72 candidates, totalling 360 fits\n",
      "Fitting 5 folds for each of 72 candidates, totalling 360 fits\n",
      "Fitting 5 folds for each of 72 candidates, totalling 360 fits\n"
     ]
    },
    {
     "data": {
      "text/plain": [
       "GridSearchCV(cv=5, estimator=Pipeline(steps=[('scaler', None), ('svc', SVC())]),\n",
       "             param_grid={'scaler': [StandardScaler(), MinMaxScaler()],\n",
       "                         'svc__C': [0.001, 0.01, 0.1, 1, 10, 100],\n",
       "                         'svc__gamma': [0.001, 0.01, 0.1, 1, 10, 100],\n",
       "                         'svc__kernel': ['rbf']},\n",
       "             scoring='accuracy', verbose=1)"
      ]
     },
     "execution_count": 593,
     "metadata": {},
     "output_type": "execute_result"
    }
   ],
   "source": [
    "CV_results_SVC_cont.fit(X_train_cont_reduced, y_train_cont_reduced)\n",
    "CV_results_SVC_cat.fit(X_train_cat_reduced, y_train_cat_reduced)\n",
    "CV_results_SVC_cat2.fit(X_train_cat2_reduced, y_train_cat2_reduced)"
   ]
  },
  {
   "cell_type": "code",
   "execution_count": 594,
   "metadata": {},
   "outputs": [
    {
     "name": "stdout",
     "output_type": "stream",
     "text": [
      "Best Score for Continuous Data: 0.72 using {'scaler': StandardScaler(), 'svc__C': 100, 'svc__gamma': 0.001, 'svc__kernel': 'rbf'}\n",
      "Best Score for Categorical Data: 0.72 using {'scaler': MinMaxScaler(), 'svc__C': 10, 'svc__gamma': 0.1, 'svc__kernel': 'rbf'}\n",
      "Best Score for Categorical Data 2: 0.72 using {'scaler': MinMaxScaler(), 'svc__C': 1, 'svc__gamma': 0.1, 'svc__kernel': 'rbf'}\n"
     ]
    }
   ],
   "source": [
    "print(f\"Best Score for Continuous Data: {CV_results_SVC_cont.best_score_:.2f} using {CV_results_SVC_cont.best_params_}\")\n",
    "print(f\"Best Score for Categorical Data: {CV_results_SVC_cat.best_score_:.2f} using {CV_results_SVC_cat.best_params_}\")\n",
    "print(f\"Best Score for Categorical Data 2: {CV_results_SVC_cat2.best_score_:.2f} using {CV_results_SVC_cat2.best_params_}\")"
   ]
  },
  {
   "cell_type": "markdown",
   "metadata": {},
   "source": [
    "**Best Accuracy for Continuous Data: 0.72**\n",
    "\n",
    "using:\n",
    "- 'scaler': StandardScaler()\n",
    "- 'svc__C': 100\n",
    "- 'svc__gamma': 0.001\n",
    "- 'svc__kernel': 'rbf'\n",
    "- 'svc__max_iter': 1000}\n",
    "\n",
    "**Best Accuracy for Categorical Data: 0.72**\n",
    "\n",
    "using: \n",
    "- 'scaler': MinMaxScaler()\n",
    "- 'svc__C': 10\n",
    "- 'svc__gamma': 0.1\n",
    "- 'svc__kernel': 'rbf'\n",
    "- 'svc__max_iter': 1000}\n",
    "\n",
    "**Best Acuracy for Categorical Data 2 (entirely binary): 0.72**\n",
    "\n",
    "using: \n",
    "- 'scaler': MinMaxScaler()\n",
    "- 'svc__C': 1\n",
    "- 'svc__gamma': 0.1\n",
    "- 'svc__kernel': 'rbf'\n",
    "- 'svc__max_iter': 1000}"
   ]
  },
  {
   "cell_type": "markdown",
   "metadata": {},
   "source": [
    "#### Support Vector Classifier - Train the Models"
   ]
  },
  {
   "cell_type": "code",
   "execution_count": 595,
   "metadata": {},
   "outputs": [
    {
     "data": {
      "text/plain": [
       "SVC(C=1, gamma=0.1)"
      ]
     },
     "execution_count": 595,
     "metadata": {},
     "output_type": "execute_result"
    }
   ],
   "source": [
    "# CONTINUOUS DATA\n",
    "\n",
    "# Create the model and fit the data to it\n",
    "model_SVC_cont = SVC(kernel=\"rbf\", C=100, gamma=0.001)\n",
    "model_SVC_cont.fit(stand_X_train_cont, y_train_cont)\n",
    "\n",
    "# CATEGORICAL DATA\n",
    "\n",
    "# Create the model and fit the data to it\n",
    "model_SVC_cat = SVC(kernel=\"rbf\", C=10, gamma=0.1)\n",
    "model_SVC_cat.fit(norm_X_train_cat, y_train_cat)\n",
    "\n",
    "# Create the model and fit the data to it\n",
    "model_SVC_cat2 = SVC(kernel=\"rbf\", C=1, gamma=0.1)\n",
    "model_SVC_cat2.fit(norm_X_train_cat2, y_train_cat2)"
   ]
  },
  {
   "cell_type": "markdown",
   "metadata": {},
   "source": [
    "#### Random Forest Classifier - Find Hyperparameters"
   ]
  },
  {
   "cell_type": "code",
   "execution_count": 598,
   "metadata": {},
   "outputs": [],
   "source": [
    "pipeline_RFC = Pipeline([\n",
    "                        ('scaler', StandardScaler()),\n",
    "                        ('random_forest', RandomForestClassifier())\n",
    "])\n",
    "\n",
    "param_grid_RFC = {\n",
    "                \"scaler\": [StandardScaler(), MinMaxScaler()],\n",
    "                \"random_forest__n_estimators\" : [300],\n",
    "                \"random_forest__criterion\" : [\"gini\", \"entropy\"],\n",
    "                \"random_forest__max_features\" : [None, \"sqrt\", 0.2],\n",
    "} \n",
    "\n",
    "CV_results_RFC_cont = GridSearchCV(estimator=pipeline_RFC, param_grid=param_grid_RFC, cv=5, scoring=\"recall\", verbose=1)\n",
    "CV_results_RFC_cat = GridSearchCV(estimator=pipeline_RFC, param_grid=param_grid_RFC, cv=5, scoring=\"recall\", verbose=1)\n",
    "CV_results_RFC_cat2 = GridSearchCV(estimator=pipeline_RFC, param_grid=param_grid_RFC, cv=5, scoring=\"recall\", verbose=1)"
   ]
  },
  {
   "cell_type": "code",
   "execution_count": 599,
   "metadata": {},
   "outputs": [
    {
     "name": "stdout",
     "output_type": "stream",
     "text": [
      "Fitting 5 folds for each of 12 candidates, totalling 60 fits\n",
      "Fitting 5 folds for each of 12 candidates, totalling 60 fits\n",
      "Fitting 5 folds for each of 12 candidates, totalling 60 fits\n"
     ]
    },
    {
     "data": {
      "text/plain": [
       "GridSearchCV(cv=5,\n",
       "             estimator=Pipeline(steps=[('scaler', StandardScaler()),\n",
       "                                       ('random_forest',\n",
       "                                        RandomForestClassifier())]),\n",
       "             param_grid={'random_forest__criterion': ['gini', 'entropy'],\n",
       "                         'random_forest__max_features': [None, 'sqrt', 0.2],\n",
       "                         'random_forest__n_estimators': [300],\n",
       "                         'scaler': [StandardScaler(), MinMaxScaler()]},\n",
       "             scoring='recall', verbose=1)"
      ]
     },
     "execution_count": 599,
     "metadata": {},
     "output_type": "execute_result"
    }
   ],
   "source": [
    "CV_results_RFC_cont.fit(X_train_cont_reduced, y_train_cont_reduced)\n",
    "CV_results_RFC_cat.fit(X_train_cat_reduced, y_train_cat_reduced)\n",
    "CV_results_RFC_cat2.fit(X_train_cat2_reduced, y_train_cat2_reduced)"
   ]
  },
  {
   "cell_type": "code",
   "execution_count": 600,
   "metadata": {},
   "outputs": [
    {
     "name": "stdout",
     "output_type": "stream",
     "text": [
      "Best Score for Continuous Data: 0.68 using {'random_forest__criterion': 'entropy', 'random_forest__max_features': 'sqrt', 'random_forest__n_estimators': 300, 'scaler': MinMaxScaler()}\n",
      "Best Score for Categorical Data: 0.66 using {'random_forest__criterion': 'gini', 'random_forest__max_features': None, 'random_forest__n_estimators': 300, 'scaler': StandardScaler()}\n",
      "Best Score for Categorical Data 2: 0.66 using {'random_forest__criterion': 'gini', 'random_forest__max_features': None, 'random_forest__n_estimators': 300, 'scaler': StandardScaler()}\n"
     ]
    }
   ],
   "source": [
    "print(f\"Best Score for Continuous Data: {CV_results_RFC_cont.best_score_:.2f} using {CV_results_RFC_cont.best_params_}\")\n",
    "print(f\"Best Score for Categorical Data: {CV_results_RFC_cat.best_score_:.2f} using {CV_results_RFC_cat.best_params_}\")\n",
    "print(f\"Best Score for Categorical Data 2: {CV_results_RFC_cat.best_score_:.2f} using {CV_results_RFC_cat.best_params_}\")"
   ]
  },
  {
   "cell_type": "markdown",
   "metadata": {},
   "source": [
    "**Best Recall for Continuous Data: 0.68**\n",
    "\n",
    "using: \n",
    "- 'random_forest__criterion': 'entropy'\n",
    "- 'random_forest__max_features': sqrt\n",
    "- 'random_forest__n_estimators': 300\n",
    "- 'scaler': MinMaxScaler()\n",
    "\n",
    "**Best Score for Categorical Data: 0.66** \n",
    "\n",
    "using: \n",
    "- 'random_forest__criterion': 'gini'\n",
    "- 'random_forest__max_features': None\n",
    "- 'random_forest__n_estimators': 300\n",
    "- 'scaler': StandardScaler()\n",
    "\n",
    "**Best Score for Categorical Data 2 (entirely binary): 0.66**\n",
    "\n",
    "using: \n",
    "- 'random_forest__criterion': 'gini'\n",
    "- 'random_forest__max_features': None\n",
    "- 'random_forest__n_estimators': 300\n",
    "- 'scaler': StandardScaler()"
   ]
  },
  {
   "cell_type": "markdown",
   "metadata": {},
   "source": [
    "#### Random Forest Classifier - Train the Models"
   ]
  },
  {
   "cell_type": "code",
   "execution_count": 603,
   "metadata": {},
   "outputs": [
    {
     "data": {
      "text/plain": [
       "RandomForestClassifier(max_features=None, n_estimators=1000)"
      ]
     },
     "execution_count": 603,
     "metadata": {},
     "output_type": "execute_result"
    }
   ],
   "source": [
    "# CONTINUOUS DATA\n",
    "# Create the model and fit the data to it\n",
    "model_RFC_cont = RandomForestClassifier(criterion=\"entropy\", max_features=\"sqrt\", n_estimators=1000) #Increasing the number of trees for the fit (it is unusal for random forest to overfit)\n",
    "model_RFC_cont.fit(norm_X_train_cont, y_train_cont)\n",
    "\n",
    "# CATEGORICAL DATA\n",
    "# Create the model and fit the data to it\n",
    "model_RFC_cat = RandomForestClassifier(criterion=\"gini\", max_features=None, n_estimators=1000)\n",
    "model_RFC_cat.fit(stand_X_train_cat, y_train_cat)\n",
    "\n",
    "# Create the model and fit the data to it\n",
    "model_RFC_cat2 = RandomForestClassifier(criterion=\"gini\", max_features=None, n_estimators=1000)\n",
    "model_RFC_cat2.fit(stand_X_train_cat2, y_train_cat)"
   ]
  },
  {
   "cell_type": "markdown",
   "metadata": {},
   "source": [
    "### Step 4. Prediction on Validation Data"
   ]
  },
  {
   "cell_type": "markdown",
   "metadata": {},
   "source": [
    "#### Logistic Regression"
   ]
  },
  {
   "cell_type": "code",
   "execution_count": 55,
   "metadata": {},
   "outputs": [],
   "source": [
    "def print_and_plot_results(y_true:pd.Series, y_pred:np.ndarray, model_name:str, dataset_name:str=None, confusion_mat:bool=False) -> None:\n",
    "    \"\"\"\n",
    "    Prints a classification report and plots a confusion matrix. \n",
    "    \n",
    "    Parameters\n",
    "    ----------\n",
    "    y_true : pd.Series\n",
    "        The real y-values.\n",
    "    y_pred : np.ndarray\n",
    "        The predicted y-values.\n",
    "    model_name : str\n",
    "        The name of the model.\n",
    "    dataset_name : str\n",
    "        The name of the dataset used.\n",
    "    confusion_mat : bool\n",
    "        If True: \n",
    "            Plots a confusion matrix.\n",
    "    \"\"\"\n",
    "\n",
    "    classification_report_ = classification_report(y_true, y_pred)\n",
    "\n",
    "    if confusion_mat:\n",
    "        print(f\"Classification Report for {model_name}: \\n {classification_report_}\")\n",
    "        cm = confusion_matrix(y_true, y_pred)\n",
    "        cm_fig = ConfusionMatrixDisplay(cm, display_labels=[\"Negative\", \"Positive\"]).plot()\n",
    "        _ = cm_fig.ax_.set(title=f\"Results for {model_name} on Test Data\")\n",
    "    else:\n",
    "        print(f\"Classification Report for {model_name} - {dataset_name}: \\n {classification_report_}\")"
   ]
  },
  {
   "cell_type": "code",
   "execution_count": 701,
   "metadata": {},
   "outputs": [],
   "source": [
    "# Create polynomial features for the validation data\n",
    "polynomial_features = PolynomialFeatures(degree = 2, include_bias=False)\n",
    "poly_X_val_cont = polynomial_features.fit_transform(stand_X_val_cont)\n",
    "\n",
    "# Predict on validation data\n",
    "y_pred_logistic_cont = model_logistic_cont.predict(poly_X_val_cont)\n",
    "y_pred_logistic_cat = model_logistic_cat.predict(stand_X_val_cat)\n",
    "y_pred_logistic_cat2 = model_logistic_cat2.predict(norm_X_val_cat2)"
   ]
  },
  {
   "cell_type": "code",
   "execution_count": 694,
   "metadata": {},
   "outputs": [
    {
     "name": "stdout",
     "output_type": "stream",
     "text": [
      "Classification Report for Logistic Regression - Continuous Data: \n",
      "               precision    recall  f1-score   support\n",
      "\n",
      "           0       0.73      0.76      0.74      5236\n",
      "           1       0.74      0.70      0.72      4999\n",
      "\n",
      "    accuracy                           0.73     10235\n",
      "   macro avg       0.73      0.73      0.73     10235\n",
      "weighted avg       0.73      0.73      0.73     10235\n",
      "\n",
      "Classification Report for Logistic Regression - Categorical Data: \n",
      "               precision    recall  f1-score   support\n",
      "\n",
      "           0       0.70      0.80      0.75      5236\n",
      "           1       0.75      0.65      0.70      4999\n",
      "\n",
      "    accuracy                           0.72     10235\n",
      "   macro avg       0.73      0.72      0.72     10235\n",
      "weighted avg       0.73      0.72      0.72     10235\n",
      "\n",
      "Classification Report for Logistic Regression - Categorical Data (entirely binary): \n",
      "               precision    recall  f1-score   support\n",
      "\n",
      "           0       0.70      0.80      0.75      5236\n",
      "           1       0.75      0.65      0.70      4999\n",
      "\n",
      "    accuracy                           0.72     10235\n",
      "   macro avg       0.73      0.72      0.72     10235\n",
      "weighted avg       0.73      0.72      0.72     10235\n",
      "\n"
     ]
    }
   ],
   "source": [
    "for y_true, y_pred, dataset_name in zip([y_val_cont, y_val_cat, y_val_cat2], \n",
    "                                    [y_pred_logistic_cont, y_pred_logistic_cat, y_pred_logistic_cat2], \n",
    "                                    [\"Continuous Data\", \"Categorical Data\", \"Categorical Data (entirely binary)\"]):\n",
    "    print_and_plot_results(y_true, y_pred, \"Logistic Regression\", dataset_name)"
   ]
  },
  {
   "cell_type": "markdown",
   "metadata": {},
   "source": [
    "#### K-Nearest Neighbours"
   ]
  },
  {
   "cell_type": "code",
   "execution_count": 699,
   "metadata": {},
   "outputs": [],
   "source": [
    "# Predict on validation data\n",
    "y_pred_KNN_cont = model_KNN_cont.predict(stand_X_val_cont)\n",
    "y_pred_KNN_cat = model_KNN_cat.predict(stand_X_val_cat)\n",
    "    \n",
    "with warnings.catch_warnings():\n",
    "    warnings.simplefilter(\"ignore\")\n",
    "    fxn_conversion() \n",
    "    y_pred_KNN_cat2 = model_KNN_cat2.predict(norm_X_val_cat2)"
   ]
  },
  {
   "cell_type": "code",
   "execution_count": 685,
   "metadata": {},
   "outputs": [
    {
     "name": "stdout",
     "output_type": "stream",
     "text": [
      "Classification Report for KNN - Continuous Data: \n",
      "               precision    recall  f1-score   support\n",
      "\n",
      "           0       0.70      0.73      0.71      5236\n",
      "           1       0.70      0.68      0.69      4999\n",
      "\n",
      "    accuracy                           0.70     10235\n",
      "   macro avg       0.70      0.70      0.70     10235\n",
      "weighted avg       0.70      0.70      0.70     10235\n",
      "\n",
      "Classification Report for KNN - Categorical Data: \n",
      "               precision    recall  f1-score   support\n",
      "\n",
      "           0       0.70      0.71      0.70      5236\n",
      "           1       0.69      0.68      0.68      4999\n",
      "\n",
      "    accuracy                           0.69     10235\n",
      "   macro avg       0.69      0.69      0.69     10235\n",
      "weighted avg       0.69      0.69      0.69     10235\n",
      "\n",
      "Classification Report for KNN - Categorical Data (entirely binary): \n",
      "               precision    recall  f1-score   support\n",
      "\n",
      "           0       0.72      0.67      0.69      5236\n",
      "           1       0.68      0.72      0.70      4999\n",
      "\n",
      "    accuracy                           0.69     10235\n",
      "   macro avg       0.70      0.70      0.69     10235\n",
      "weighted avg       0.70      0.69      0.69     10235\n",
      "\n"
     ]
    }
   ],
   "source": [
    "for y_true, y_pred, dataset_name in zip([y_val_cont, y_val_cat, y_val_cat2], \n",
    "                                    [y_pred_KNN_cont, y_pred_KNN_cat, y_pred_KNN_cat2], \n",
    "                                    [\"Continuous Data\", \"Categorical Data\", \"Categorical Data (entirely binary)\"]):\n",
    "    print_and_plot_results(y_true, y_pred, \"KNN\", dataset_name)"
   ]
  },
  {
   "cell_type": "markdown",
   "metadata": {},
   "source": [
    "#### Support Vector Classifier"
   ]
  },
  {
   "cell_type": "code",
   "execution_count": 698,
   "metadata": {},
   "outputs": [],
   "source": [
    "# Predict on validation data\n",
    "y_pred_SVC_cont = model_SVC_cont.predict(stand_X_val_cont)\n",
    "y_pred_SVC_cat = model_SVC_cat.predict(norm_X_val_cat)\n",
    "y_pred_SVC_cat2 = model_SVC_cat2.predict(norm_X_val_cat2)"
   ]
  },
  {
   "cell_type": "code",
   "execution_count": 686,
   "metadata": {},
   "outputs": [
    {
     "name": "stdout",
     "output_type": "stream",
     "text": [
      "Classification Report for SVC - Continuous Data: \n",
      "               precision    recall  f1-score   support\n",
      "\n",
      "           0       0.71      0.81      0.75      5236\n",
      "           1       0.76      0.65      0.70      4999\n",
      "\n",
      "    accuracy                           0.73     10235\n",
      "   macro avg       0.74      0.73      0.73     10235\n",
      "weighted avg       0.74      0.73      0.73     10235\n",
      "\n",
      "Classification Report for SVC - Categorical Data: \n",
      "               precision    recall  f1-score   support\n",
      "\n",
      "           0       0.69      0.81      0.75      5236\n",
      "           1       0.76      0.63      0.69      4999\n",
      "\n",
      "    accuracy                           0.72     10235\n",
      "   macro avg       0.73      0.72      0.72     10235\n",
      "weighted avg       0.73      0.72      0.72     10235\n",
      "\n",
      "Classification Report for SVC - Categorical Data (entirely binary): \n",
      "               precision    recall  f1-score   support\n",
      "\n",
      "           0       0.72      0.76      0.74      5236\n",
      "           1       0.73      0.68      0.71      4999\n",
      "\n",
      "    accuracy                           0.72     10235\n",
      "   macro avg       0.73      0.72      0.72     10235\n",
      "weighted avg       0.73      0.72      0.72     10235\n",
      "\n"
     ]
    }
   ],
   "source": [
    "for y_true, y_pred, dataset_name in zip([y_val_cont, y_val_cat, y_val_cat2], \n",
    "                                    [y_pred_SVC_cont, y_pred_SVC_cat, y_pred_SVC_cat2], \n",
    "                                    [\"Continuous Data\", \"Categorical Data\", \"Categorical Data (entirely binary)\"]):\n",
    "    print_and_plot_results(y_true, y_pred, \"SVC\", dataset_name)"
   ]
  },
  {
   "cell_type": "markdown",
   "metadata": {},
   "source": [
    "#### Random Forest"
   ]
  },
  {
   "cell_type": "code",
   "execution_count": 697,
   "metadata": {},
   "outputs": [],
   "source": [
    "# Predict on validation data\n",
    "y_pred_RFC_cont = model_RFC_cont.predict(norm_X_val_cont)\n",
    "y_pred_RFC_cat = model_RFC_cat.predict(stand_X_val_cat)\n",
    "y_pred_RFC_cat2 = model_RFC_cat2.predict(stand_X_val_cat2)"
   ]
  },
  {
   "cell_type": "code",
   "execution_count": 687,
   "metadata": {},
   "outputs": [
    {
     "name": "stdout",
     "output_type": "stream",
     "text": [
      "Classification Report for RFC - Continuous Data: \n",
      "               precision    recall  f1-score   support\n",
      "\n",
      "           0       0.71      0.73      0.72      5236\n",
      "           1       0.71      0.69      0.70      4999\n",
      "\n",
      "    accuracy                           0.71     10235\n",
      "   macro avg       0.71      0.71      0.71     10235\n",
      "weighted avg       0.71      0.71      0.71     10235\n",
      "\n",
      "Classification Report for RFC - Categorical Data: \n",
      "               precision    recall  f1-score   support\n",
      "\n",
      "           0       0.67      0.66      0.66      5236\n",
      "           1       0.65      0.65      0.65      4999\n",
      "\n",
      "    accuracy                           0.66     10235\n",
      "   macro avg       0.66      0.66      0.66     10235\n",
      "weighted avg       0.66      0.66      0.66     10235\n",
      "\n",
      "Classification Report for RFC - Categorical Data (entirely binary): \n",
      "               precision    recall  f1-score   support\n",
      "\n",
      "           0       0.71      0.76      0.73      5236\n",
      "           1       0.73      0.68      0.70      4999\n",
      "\n",
      "    accuracy                           0.72     10235\n",
      "   macro avg       0.72      0.72      0.72     10235\n",
      "weighted avg       0.72      0.72      0.72     10235\n",
      "\n"
     ]
    }
   ],
   "source": [
    "for y_true, y_pred, dataset_name in zip([y_val_cont, y_val_cat, y_val_cat2], \n",
    "                                    [y_pred_RFC_cont, y_pred_RFC_cat, y_pred_RFC_cat2], \n",
    "                                    [\"Continuous Data\", \"Categorical Data\", \"Categorical Data (entirely binary)\"]):\n",
    "    print_and_plot_results(y_true, y_pred, \"RFC\", dataset_name)"
   ]
  },
  {
   "cell_type": "markdown",
   "metadata": {},
   "source": [
    "#### Summary of the Results\n",
    "\n",
    "| **Model**                 | **Dataset**     |**Recall for Positive**| **Accuracy** | \n",
    "|---------------------------|-----------------|-----------------------|--------------|\n",
    "| Logistic Regression       | Continuous      | <span style=\"color:green\">**0.70**</span>                  | <span style=\"color:green\">**0.73**</span>         |\n",
    "| K-Nearest Neighbours      | Continuous      | 0.68                  | 0.70         |\n",
    "| Support Vector Classifier | Continuous      | 0.65                  | 0.73         |\n",
    "| Random Forest Classifier  | Continuous      | 0.69                  | 0.71         |\n",
    "| Logistic Regression       | Categorical     | 0.65                  | 0.72         |\n",
    "| K-Nearest Neighbours      | Categorical     | 0.68                  | 0.69         |\n",
    "| Support Vector Classifier | Categorical     | 0.63                  | 0.72         |\n",
    "| Random Forest Classifier  | Categorical     | 0.65                  | 0.66         |\n",
    "| Logistic Regression       | Categorical 2   | 0.65                  | 0.72         |\n",
    "| K-Nearest Neighbours      | Categorical 2   | <span style=\"color:green\">**0.72**</span>                  | 0.69         |\n",
    "| Support Vector Classifier | Categorical 2   | 0.68                  | 0.72         |\n",
    "| Random Forest Classifier  | Categorical 2   | 0.68                  | 0.72         |"
   ]
  },
  {
   "cell_type": "markdown",
   "metadata": {},
   "source": [
    "Looking at the results above, we can see that the continuous data and the categorical data (with age dummy coded) perform quite similar in general (although not on the same models). \n",
    "\n",
    "My goal is to choose a model with high recall, that is a model that has few false negatives (i.e. the model classifies an observation as not having cardiovascular disease, while in fact the observation is positive). However, the model could solve the classification problem by classifying all of the data points as positive for cardiovascular disease. This would lead to an accuracy of about 50% in our case (since the dataset is balanced). In a more practical sense, this would lead to a lot of extra work for doctors, as well as people taking heart medicine even if they do not need it. We therefore also want a relatively high accuracy (which in the case of balanced datasets is a good measure).\n",
    "\n",
    "From the table below, we can see that logistic regression performs better than K-Nearest Neighbours on all of the metrics, except recall. However, recall only differs with .02. Furthermore, logistic regression performs more evenly than K-Nearest Neighbours. I am a bit afraid that K-Nearest Neighbours might have overfitted, and I therefore decide to continue with logistic regression. \n",
    "\n",
    "##### Comparison Between the Best Models\n",
    "\n",
    "| **Model**            | **Dataset**   | **Recall for Positive** | **Accuracy** | **f1 for Positive** | **Precision for Positive** |\n",
    "-----------------------|---------------|-------------------------|--------------|---------------------|--------------------------|\n",
    "| Logistic Regression  | Continuous    | 0.70                    | 0.73         | 0.72                | 0.74                     |\n",
    "| K-Nearest Neigbours  | Categorical 2 | 0.72                    | 0.69         | 0.70                | 0.68                     |\n",
    "\n",
    "Since there is not a lot of difference in performance between the continuous data and the categorical (entirely binary) data, I proceed with the continuous data. This is partly due to practical reasons, since the logistic regression model also performed best on this. "
   ]
  },
  {
   "cell_type": "markdown",
   "metadata": {},
   "source": [
    "Worth noting, is that the entirely binary data (where I had also created categories out of age and dummy coded them) did perform better than the \"categorical\" data (where the only difference is that age is continuous). \n",
    "\n",
    "| | Logistic Regression | K-Nearest Neighbours | Support Vector Classifier | Random Forest Classifier |\n",
    "|-------------------------------|---------------------|----------------------|------------------------|--------------------------|\n",
    "| Recall Categorical | 0.65 | 0.68 | 0.63 | 0.65 | \n",
    "| Recall Categorical (binary) | 0.65 | <span style=\"color:green\">0.72</span>                | <span style=\"color:green\">0.68</span>                   | <span style=\"color:green\">0.68</span>                     | \n",
    "| Accuracy Categorical          | 0.72                | 0.69                 | 0.72                   | 0.66                     | \n",
    "| Accuracy Categorical (binary) | 0.72                | 0.69                 | 0.72                   | <span style=\"color:green\">0.72</span>                     | \n",
    "\n",
    "<span style=\"color:green\">*The green values mean that the entirely binary data has performed better.*</span>"
   ]
  },
  {
   "cell_type": "markdown",
   "metadata": {},
   "source": [
    "### Step 5. Train the Models on Both Train and Validation Data"
   ]
  },
  {
   "cell_type": "code",
   "execution_count": 50,
   "metadata": {},
   "outputs": [
    {
     "data": {
      "text/plain": [
       "((57999, 12), (57999,), (10236, 12), (10236,))"
      ]
     },
     "execution_count": 50,
     "metadata": {},
     "output_type": "execute_result"
    }
   ],
   "source": [
    "# Concatenate train and validation data\n",
    "X_train_full = pd.concat([X_train_cont, X_val_cont])\n",
    "y_train_full = pd.concat([y_train_cont, y_val_cont])\n",
    "X_train_full.shape, y_train_full.shape, X_test_cont.shape, y_test_cont.shape"
   ]
  },
  {
   "cell_type": "code",
   "execution_count": 52,
   "metadata": {},
   "outputs": [],
   "source": [
    "def logistic_regression(X_train:pd.DataFrame, y_train:pd.Series) -> LogisticRegression:\n",
    "    \"\"\"\n",
    "    Standardise, creates polynomial features and trains a logistic regression model. \n",
    "\n",
    "    Parameters\n",
    "    ----------\n",
    "    X_train : pd.DataFrame\n",
    "        The X-values for the training data.\n",
    "    y_train : pd.Series\n",
    "        The y-labels for the training data.\n",
    "\n",
    "    Returns\n",
    "    -------\n",
    "    log_reg : LogisticRegression\n",
    "        The trained logistic regression model.\n",
    "    \"\"\"\n",
    "\n",
    "    log_reg = Pipeline([\n",
    "                        (\"scaler\", StandardScaler()), \n",
    "                        (\"poly_features\", PolynomialFeatures(degree = 2, include_bias = False)), \n",
    "                        (\"log_reg\", LogisticRegression(C=0.01, solver=\"saga\", penalty=\"l2\", max_iter=3000))\n",
    "    ])\n",
    "\n",
    "    log_reg.fit(X_train, y_train)\n",
    "    \n",
    "    return log_reg"
   ]
  },
  {
   "cell_type": "code",
   "execution_count": 53,
   "metadata": {},
   "outputs": [],
   "source": [
    "logistic_model_final = logistic_regression(X_train_full, y_train_full)\n",
    "y_pred_logistic_final = logistic_model_final.predict(X_test_cont)"
   ]
  },
  {
   "cell_type": "markdown",
   "metadata": {},
   "source": [
    "## 2.5 Ensemble\n",
    "Använd VotingClassifier() på datasetet som du valt och lägg in de bästa parametrarna för respektive modell."
   ]
  },
  {
   "cell_type": "code",
   "execution_count": 59,
   "metadata": {},
   "outputs": [
    {
     "data": {
      "text/plain": [
       "VotingClassifier(estimators=[('log_reg',\n",
       "                              Pipeline(steps=[('scaler', StandardScaler()),\n",
       "                                              ('poly_features',\n",
       "                                               PolynomialFeatures(include_bias=False)),\n",
       "                                              ('log_reg',\n",
       "                                               LogisticRegression(C=0.01,\n",
       "                                                                  max_iter=1000,\n",
       "                                                                  solver='saga'))])),\n",
       "                             ('KNN',\n",
       "                              Pipeline(steps=[('scaler', StandardScaler()),\n",
       "                                              ('KNN',\n",
       "                                               KNeighborsClassifier(metric='euclidean',\n",
       "                                                                    n_neighbors=7))])),\n",
       "                             ('SVC',\n",
       "                              Pipeline(steps=[('scaler', StandardScaler()),\n",
       "                                              ('RFC',\n",
       "                                               SVC(C=100, gamma=0.001,\n",
       "                                                   probability=True))])),\n",
       "                             ('RFC',\n",
       "                              Pipeline(steps=[('scaler', MinMaxScaler()),\n",
       "                                              ('RFC',\n",
       "                                               RandomForestClassifier(criterion='entropy',\n",
       "                                                                      max_features='sqrt',\n",
       "                                                                      n_estimators=1000))]))],\n",
       "                 voting='soft')"
      ]
     },
     "execution_count": 59,
     "metadata": {},
     "output_type": "execute_result"
    }
   ],
   "source": [
    "# Creating Pipelines for the four models\n",
    "\n",
    "pipeline_logistic = Pipeline([\n",
    "                            (\"scaler\", StandardScaler()), \n",
    "                            (\"poly_features\", PolynomialFeatures(degree = 2, include_bias = False)), \n",
    "                            (\"log_reg\", LogisticRegression(C=0.01, solver=\"saga\", penalty=\"l2\", max_iter=1000))\n",
    "])\n",
    "\n",
    "pipeline_KNN = Pipeline([\n",
    "                        (\"scaler\", StandardScaler()),\n",
    "                        (\"KNN\", KNeighborsClassifier(n_neighbors=7, metric=\"euclidean\"))\n",
    "])\n",
    "\n",
    "pipeline_SVC = Pipeline([\n",
    "                        (\"scaler\", StandardScaler()),\n",
    "                        (\"RFC\", SVC(kernel=\"rbf\", C=100, gamma=0.001, probability=True))\n",
    "])\n",
    "\n",
    "pipeline_RFC = Pipeline([\n",
    "                        (\"scaler\", MinMaxScaler()),\n",
    "                        (\"RFC\", RandomForestClassifier(criterion=\"entropy\", max_features=\"sqrt\", n_estimators=1000))\n",
    "])\n",
    "\n",
    "#Voting Classifier\n",
    "\n",
    "voting_classifier = VotingClassifier(estimators=[\n",
    "                                    (\"log_reg\", pipeline_logistic), \n",
    "                                    (\"KNN\", pipeline_KNN), \n",
    "                                    (\"SVC\", pipeline_SVC),\n",
    "                                    (\"RFC\", pipeline_RFC), \n",
    "], voting=\"soft\")\n",
    "\n",
    "voting_classifier.fit(X_train_full, y_train_full)"
   ]
  },
  {
   "cell_type": "markdown",
   "metadata": {},
   "source": [
    "## 2.6 Evalueringar\n",
    "Gör confusion matrices och classification reports för 2.4 och 2.5."
   ]
  },
  {
   "cell_type": "code",
   "execution_count": 56,
   "metadata": {},
   "outputs": [
    {
     "name": "stdout",
     "output_type": "stream",
     "text": [
      "Classification Report for Logistic Regression: \n",
      "               precision    recall  f1-score   support\n",
      "\n",
      "           0       0.72      0.76      0.74      5082\n",
      "           1       0.75      0.71      0.73      5154\n",
      "\n",
      "    accuracy                           0.74     10236\n",
      "   macro avg       0.74      0.74      0.74     10236\n",
      "weighted avg       0.74      0.74      0.74     10236\n",
      "\n"
     ]
    },
    {
     "data": {
      "image/png": "[encoded data removed]",
      "text/plain": [
       "<Figure size 432x288 with 2 Axes>"
      ]
     },
     "metadata": {
      "needs_background": "light"
     },
     "output_type": "display_data"
    }
   ],
   "source": [
    "print_and_plot_results(y_test_cont, y_pred_logistic_final, \"Logistic Regression\", confusion_mat=True)"
   ]
  },
  {
   "cell_type": "code",
   "execution_count": 60,
   "metadata": {},
   "outputs": [
    {
     "name": "stdout",
     "output_type": "stream",
     "text": [
      "Classification Report for Voting Classifier: \n",
      "               precision    recall  f1-score   support\n",
      "\n",
      "           0       0.72      0.76      0.74      5082\n",
      "           1       0.75      0.71      0.73      5154\n",
      "\n",
      "    accuracy                           0.73     10236\n",
      "   macro avg       0.73      0.73      0.73     10236\n",
      "weighted avg       0.73      0.73      0.73     10236\n",
      "\n"
     ]
    },
    {
     "data": {
      "image/png": "[encoded data removed]",
      "text/plain": [
       "<Figure size 432x288 with 2 Axes>"
      ]
     },
     "metadata": {
      "needs_background": "light"
     },
     "output_type": "display_data"
    }
   ],
   "source": [
    "voting_classifier_predictions = voting_classifier.predict(X_test_cont)\n",
    "\n",
    "print_and_plot_results(y_test_cont, voting_classifier_predictions, \"Voting Classifier\", confusion_mat=True)"
   ]
  },
  {
   "cell_type": "markdown",
   "metadata": {},
   "source": [
    "From the results above, we can see that the simple (and fast) logistic regression model performed slightly better at accuracy compared to the VotingClassifier(). For the other metrics they perform the same. Because of this, and because it is also the most simple model, I choose to proceed with logistic regression. "
   ]
  },
  {
   "cell_type": "markdown",
   "metadata": {},
   "source": [
    "## 2.7 \"Deploy\" - spara modell\n",
    "Börja med att plocka ut 100 slumpmässigt valda rader från ditt dataset. Exportera dessa 100 samples i\n",
    "test_samples.csv. Därefter tar du den bästa modellen och träna på all data vi har förutom de 100\n",
    "datapunkterna du plockade ut. Spara därefter modellen i en .pkl-fil med hjälp av joblib.dump(). För\n",
    "modellen kan du behöva använda argumentet compress för att komprimera om filstorleken för stor."
   ]
  },
  {
   "cell_type": "code",
   "execution_count": 57,
   "metadata": {},
   "outputs": [
    {
     "data": {
      "text/plain": [
       "((68135, 12), (100, 12), (68135,))"
      ]
     },
     "execution_count": 57,
     "metadata": {},
     "output_type": "execute_result"
    }
   ],
   "source": [
    "X_train_deploy, X_test_deploy, y_train_deploy, _ = train_test_split(X_cont, y_cont, test_size=100, random_state=42)\n",
    "X_train_deploy.shape, X_test_deploy.shape, y_train_deploy.shape"
   ]
  },
  {
   "cell_type": "code",
   "execution_count": 58,
   "metadata": {},
   "outputs": [
    {
     "data": {
      "text/plain": [
       "['Model/cardio_predictor']"
      ]
     },
     "execution_count": 58,
     "metadata": {},
     "output_type": "execute_result"
    }
   ],
   "source": [
    "X_test_deploy.to_csv(\"Data/test_samples.csv\", index=False)\n",
    "\n",
    "logistic_model_to_deploy = logistic_regression(X_train_deploy, y_train_deploy)\n",
    "\n",
    "joblib.dump(logistic_model_to_deploy, \"Model/cardio_predictor\")"
   ]
  },
  {
   "cell_type": "markdown",
   "metadata": {},
   "source": [
    "### References\n",
    "<a id=\"Mulder(2016)\" href=\"#note1ref\">1</sup></a>. Mulder, C.J., Wanten, G.J., Semrad, C.E., Jeppesen, P.B., Kruizenga, H.M., Wierdsma, N.J., ... van Bodegraven, A.A. (2016) Clinical nutrition in the hepatogastroenterology curriculum. *World Journal of Gastroenterology*, 22(5), 1729-1735. https://doi.org/10.3748/wjg.v22.i5.1729. \n",
    "\n",
    "<a id=\"Wynn(2007)\" href=\"#note2ref\">2</sup></a>. Wynn, J., King, T.M., Gambello, M.J., Waller, D.K., & Hecht, J.T. (2007). Mortality in achondroplasia study: a 42-year follow-up. *American Journal of Medical Genetics Part A*, 143A, 2502-2511. https://doi.org/10.1002/ajmg.a.31919\n",
    "\n",
    "<a id=\"Park(2017)\" href=\"#note3ref\">3</sup></a>. Park, D., Lee, J. H., & Han, S. (2017). Underweight: another risk factor for cardiovascular disease?: A cross-sectional 2013 Behavioral Risk Factor Surveillance System (BRFSS) study of 491,773 individuals in the USA. *Medicine*, 96(48), e8769. https://doi.org/10.1097/MD.0000000000008769\n",
    "\n",
    "<a id=\"Holland(2021)\" href=\"#note4ref\">4</sup></a>. Holland, K. (2021). Everything You Need to Know About High Blood Pressure (Hypertension). *Healthline*. Retrieved March 14, 2022, from https://www.healthline.com/health/high-blood-pressure-hypertension\n",
    "\n",
    "<a id=\"MayoClinicStaff(2020)\" href=\"#note5ref\">5</sup></a>. Mayo Clinic Staff. (2020). Low blood pressure (hypotension). *Mayo Clinic*. Retrieved March 21, 2022, from https://www.mayoclinic.org/diseases-conditions/low-blood-pressure/symptoms-causes/syc-20355465\n",
    "\n",
    "<a id=\"Gegenhuber(2003)\" href=\"#note6ref\">6</sup></a>. Gegenhuber, A., & Lenz, K., (2003). Behandlung des hypertensiven Notfalls [Hypertensive emergency and urgence]. *Herz*, 28(8), 717-724. https://doi.org/10.1007/s00059-003-2506-8. "
   ]
  }
 ],
 "metadata": {
  "interpreter": {
   "hash": "d1d182cab5de0882657872144a5d9f98098dd37790142aef776ee634127eddf8"
  },
  "kernelspec": {
   "display_name": "Python 3.9.10 ('Machine-learning-Anna-MariaSjolund-8kbAf2Oi')",
   "language": "python",
   "name": "python3"
  },
  "language_info": {
   "codemirror_mode": {
    "name": "ipython",
    "version": 3
   },
   "file_extension": ".py",
   "mimetype": "text/x-python",
   "name": "python",
   "nbconvert_exporter": "python",
   "pygments_lexer": "ipython3",
   "version": "3.9.10"
  },
  "orig_nbformat": 4
 },
 "nbformat": 4,
 "nbformat_minor": 2
}
